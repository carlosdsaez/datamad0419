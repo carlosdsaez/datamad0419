{
 "cells": [
  {
   "cell_type": "markdown",
   "metadata": {},
   "source": [
    "# SHARKS ATTACKS"
   ]
  },
  {
   "cell_type": "markdown",
   "metadata": {},
   "source": [
    "# Data import and preview of the data"
   ]
  },
  {
   "cell_type": "code",
   "execution_count": 77,
   "metadata": {},
   "outputs": [
    {
     "data": {
      "text/html": [
       "<div>\n",
       "<style scoped>\n",
       "    .dataframe tbody tr th:only-of-type {\n",
       "        vertical-align: middle;\n",
       "    }\n",
       "\n",
       "    .dataframe tbody tr th {\n",
       "        vertical-align: top;\n",
       "    }\n",
       "\n",
       "    .dataframe thead th {\n",
       "        text-align: right;\n",
       "    }\n",
       "</style>\n",
       "<table border=\"1\" class=\"dataframe\">\n",
       "  <thead>\n",
       "    <tr style=\"text-align: right;\">\n",
       "      <th></th>\n",
       "      <th>Case Number</th>\n",
       "      <th>Date</th>\n",
       "      <th>Year</th>\n",
       "      <th>Type</th>\n",
       "      <th>Country</th>\n",
       "      <th>Area</th>\n",
       "      <th>Location</th>\n",
       "      <th>Activity</th>\n",
       "      <th>Name</th>\n",
       "      <th>Sex</th>\n",
       "      <th>...</th>\n",
       "      <th>Species</th>\n",
       "      <th>Investigator or Source</th>\n",
       "      <th>pdf</th>\n",
       "      <th>href formula</th>\n",
       "      <th>href</th>\n",
       "      <th>Case Number.1</th>\n",
       "      <th>Case Number.2</th>\n",
       "      <th>original order</th>\n",
       "      <th>Unnamed: 22</th>\n",
       "      <th>Unnamed: 23</th>\n",
       "    </tr>\n",
       "  </thead>\n",
       "  <tbody>\n",
       "    <tr>\n",
       "      <th>0</th>\n",
       "      <td>2016.09.18.c</td>\n",
       "      <td>18-Sep-16</td>\n",
       "      <td>2016</td>\n",
       "      <td>Unprovoked</td>\n",
       "      <td>USA</td>\n",
       "      <td>Florida</td>\n",
       "      <td>New Smyrna Beach, Volusia County</td>\n",
       "      <td>Surfing</td>\n",
       "      <td>male</td>\n",
       "      <td>M</td>\n",
       "      <td>...</td>\n",
       "      <td>NaN</td>\n",
       "      <td>Orlando Sentinel, 9/19/2016</td>\n",
       "      <td>2016.09.18.c-NSB.pdf</td>\n",
       "      <td>http://sharkattackfile.net/spreadsheets/pdf_di...</td>\n",
       "      <td>http://sharkattackfile.net/spreadsheets/pdf_di...</td>\n",
       "      <td>2016.09.18.c</td>\n",
       "      <td>2016.09.18.c</td>\n",
       "      <td>5993</td>\n",
       "      <td>NaN</td>\n",
       "      <td>NaN</td>\n",
       "    </tr>\n",
       "    <tr>\n",
       "      <th>1</th>\n",
       "      <td>2016.09.18.b</td>\n",
       "      <td>18-Sep-16</td>\n",
       "      <td>2016</td>\n",
       "      <td>Unprovoked</td>\n",
       "      <td>USA</td>\n",
       "      <td>Florida</td>\n",
       "      <td>New Smyrna Beach, Volusia County</td>\n",
       "      <td>Surfing</td>\n",
       "      <td>Chucky Luciano</td>\n",
       "      <td>M</td>\n",
       "      <td>...</td>\n",
       "      <td>NaN</td>\n",
       "      <td>Orlando Sentinel, 9/19/2016</td>\n",
       "      <td>2016.09.18.b-Luciano.pdf</td>\n",
       "      <td>http://sharkattackfile.net/spreadsheets/pdf_di...</td>\n",
       "      <td>http://sharkattackfile.net/spreadsheets/pdf_di...</td>\n",
       "      <td>2016.09.18.b</td>\n",
       "      <td>2016.09.18.b</td>\n",
       "      <td>5992</td>\n",
       "      <td>NaN</td>\n",
       "      <td>NaN</td>\n",
       "    </tr>\n",
       "    <tr>\n",
       "      <th>2</th>\n",
       "      <td>2016.09.18.a</td>\n",
       "      <td>18-Sep-16</td>\n",
       "      <td>2016</td>\n",
       "      <td>Unprovoked</td>\n",
       "      <td>USA</td>\n",
       "      <td>Florida</td>\n",
       "      <td>New Smyrna Beach, Volusia County</td>\n",
       "      <td>Surfing</td>\n",
       "      <td>male</td>\n",
       "      <td>M</td>\n",
       "      <td>...</td>\n",
       "      <td>NaN</td>\n",
       "      <td>Orlando Sentinel, 9/19/2016</td>\n",
       "      <td>2016.09.18.a-NSB.pdf</td>\n",
       "      <td>http://sharkattackfile.net/spreadsheets/pdf_di...</td>\n",
       "      <td>http://sharkattackfile.net/spreadsheets/pdf_di...</td>\n",
       "      <td>2016.09.18.a</td>\n",
       "      <td>2016.09.18.a</td>\n",
       "      <td>5991</td>\n",
       "      <td>NaN</td>\n",
       "      <td>NaN</td>\n",
       "    </tr>\n",
       "    <tr>\n",
       "      <th>3</th>\n",
       "      <td>2016.09.17</td>\n",
       "      <td>17-Sep-16</td>\n",
       "      <td>2016</td>\n",
       "      <td>Unprovoked</td>\n",
       "      <td>AUSTRALIA</td>\n",
       "      <td>Victoria</td>\n",
       "      <td>Thirteenth Beach</td>\n",
       "      <td>Surfing</td>\n",
       "      <td>Rory Angiolella</td>\n",
       "      <td>M</td>\n",
       "      <td>...</td>\n",
       "      <td>NaN</td>\n",
       "      <td>The Age, 9/18/2016</td>\n",
       "      <td>2016.09.17-Angiolella.pdf</td>\n",
       "      <td>http://sharkattackfile.net/spreadsheets/pdf_di...</td>\n",
       "      <td>http://sharkattackfile.net/spreadsheets/pdf_di...</td>\n",
       "      <td>2016.09.17</td>\n",
       "      <td>2016.09.17</td>\n",
       "      <td>5990</td>\n",
       "      <td>NaN</td>\n",
       "      <td>NaN</td>\n",
       "    </tr>\n",
       "    <tr>\n",
       "      <th>4</th>\n",
       "      <td>2016.09.15</td>\n",
       "      <td>16-Sep-16</td>\n",
       "      <td>2016</td>\n",
       "      <td>Unprovoked</td>\n",
       "      <td>AUSTRALIA</td>\n",
       "      <td>Victoria</td>\n",
       "      <td>Bells Beach</td>\n",
       "      <td>Surfing</td>\n",
       "      <td>male</td>\n",
       "      <td>M</td>\n",
       "      <td>...</td>\n",
       "      <td>2 m shark</td>\n",
       "      <td>The Age, 9/16/2016</td>\n",
       "      <td>2016.09.16-BellsBeach.pdf</td>\n",
       "      <td>http://sharkattackfile.net/spreadsheets/pdf_di...</td>\n",
       "      <td>http://sharkattackfile.net/spreadsheets/pdf_di...</td>\n",
       "      <td>2016.09.16</td>\n",
       "      <td>2016.09.15</td>\n",
       "      <td>5989</td>\n",
       "      <td>NaN</td>\n",
       "      <td>NaN</td>\n",
       "    </tr>\n",
       "  </tbody>\n",
       "</table>\n",
       "<p>5 rows × 24 columns</p>\n",
       "</div>"
      ],
      "text/plain": [
       "    Case Number       Date  Year        Type    Country      Area  \\\n",
       "0  2016.09.18.c  18-Sep-16  2016  Unprovoked        USA   Florida   \n",
       "1  2016.09.18.b  18-Sep-16  2016  Unprovoked        USA   Florida   \n",
       "2  2016.09.18.a  18-Sep-16  2016  Unprovoked        USA   Florida   \n",
       "3    2016.09.17  17-Sep-16  2016  Unprovoked  AUSTRALIA  Victoria   \n",
       "4    2016.09.15  16-Sep-16  2016  Unprovoked  AUSTRALIA  Victoria   \n",
       "\n",
       "                           Location Activity             Name Sex   ...  \\\n",
       "0  New Smyrna Beach, Volusia County  Surfing             male    M  ...   \n",
       "1  New Smyrna Beach, Volusia County  Surfing   Chucky Luciano    M  ...   \n",
       "2  New Smyrna Beach, Volusia County  Surfing             male    M  ...   \n",
       "3                  Thirteenth Beach  Surfing  Rory Angiolella    M  ...   \n",
       "4                       Bells Beach  Surfing             male    M  ...   \n",
       "\n",
       "    Species        Investigator or Source                        pdf  \\\n",
       "0        NaN  Orlando Sentinel, 9/19/2016       2016.09.18.c-NSB.pdf   \n",
       "1        NaN  Orlando Sentinel, 9/19/2016   2016.09.18.b-Luciano.pdf   \n",
       "2        NaN  Orlando Sentinel, 9/19/2016       2016.09.18.a-NSB.pdf   \n",
       "3        NaN           The Age, 9/18/2016  2016.09.17-Angiolella.pdf   \n",
       "4  2 m shark           The Age, 9/16/2016  2016.09.16-BellsBeach.pdf   \n",
       "\n",
       "                                        href formula  \\\n",
       "0  http://sharkattackfile.net/spreadsheets/pdf_di...   \n",
       "1  http://sharkattackfile.net/spreadsheets/pdf_di...   \n",
       "2  http://sharkattackfile.net/spreadsheets/pdf_di...   \n",
       "3  http://sharkattackfile.net/spreadsheets/pdf_di...   \n",
       "4  http://sharkattackfile.net/spreadsheets/pdf_di...   \n",
       "\n",
       "                                                href Case Number.1  \\\n",
       "0  http://sharkattackfile.net/spreadsheets/pdf_di...  2016.09.18.c   \n",
       "1  http://sharkattackfile.net/spreadsheets/pdf_di...  2016.09.18.b   \n",
       "2  http://sharkattackfile.net/spreadsheets/pdf_di...  2016.09.18.a   \n",
       "3  http://sharkattackfile.net/spreadsheets/pdf_di...    2016.09.17   \n",
       "4  http://sharkattackfile.net/spreadsheets/pdf_di...    2016.09.16   \n",
       "\n",
       "  Case Number.2 original order Unnamed: 22 Unnamed: 23  \n",
       "0  2016.09.18.c           5993         NaN         NaN  \n",
       "1  2016.09.18.b           5992         NaN         NaN  \n",
       "2  2016.09.18.a           5991         NaN         NaN  \n",
       "3    2016.09.17           5990         NaN         NaN  \n",
       "4    2016.09.15           5989         NaN         NaN  \n",
       "\n",
       "[5 rows x 24 columns]"
      ]
     },
     "metadata": {},
     "output_type": "display_data"
    },
    {
     "data": {
      "text/plain": [
       "(5992, 24)"
      ]
     },
     "metadata": {},
     "output_type": "display_data"
    }
   ],
   "source": [
    "import numpy as np\n",
    "import pandas as pd\n",
    "\n",
    "data = pd.read_csv('GSAF5.csv',  encoding='mac-roman')\n",
    "display(data.head())\n",
    "display(data.shape)"
   ]
  },
  {
   "cell_type": "markdown",
   "metadata": {},
   "source": [
    "# 0. Cleaning columns names"
   ]
  },
  {
   "cell_type": "markdown",
   "metadata": {},
   "source": [
    "Como primer paso, se eliminan los espacios al principio y final de los nombres de las columnas para que las mismas puedan ser referenciadas sin errores.\n",
    "A continuación, se aplica una fórmula para eliminar los espacios al principio y final de cada una de las celdas."
   ]
  },
  {
   "cell_type": "code",
   "execution_count": 78,
   "metadata": {},
   "outputs": [],
   "source": [
    "columns = data.columns\n",
    "col_names_clean = [name.strip() for name in columns]\n",
    "data.columns = col_names_clean\n",
    "data = data.applymap(lambda x: x.strip() if type(x) is str else x)"
   ]
  },
  {
   "cell_type": "markdown",
   "metadata": {},
   "source": [
    "#    1. Missing Values analysis"
   ]
  },
  {
   "cell_type": "code",
   "execution_count": 79,
   "metadata": {
    "scrolled": true
   },
   "outputs": [
    {
     "data": {
      "text/plain": [
       "Country                     43\n",
       "Area                       402\n",
       "Location                   496\n",
       "Activity                   527\n",
       "Name                       200\n",
       "Sex                        567\n",
       "Age                       2681\n",
       "Injury                      27\n",
       "Fatal (Y/N)                 19\n",
       "Time                      3213\n",
       "Species                   2934\n",
       "Investigator or Source      15\n",
       "href formula                 1\n",
       "href                         3\n",
       "Unnamed: 22               5991\n",
       "Unnamed: 23               5990\n",
       "dtype: int64"
      ]
     },
     "metadata": {},
     "output_type": "display_data"
    },
    {
     "data": {
      "text/plain": [
       "Case Number       0\n",
       "Date              0\n",
       "Year              0\n",
       "Type              0\n",
       "pdf               0\n",
       "Case Number.1     0\n",
       "Case Number.2     0\n",
       "original order    0\n",
       "dtype: int64"
      ]
     },
     "metadata": {},
     "output_type": "display_data"
    },
    {
     "data": {
      "text/plain": [
       "['Year', 'original order']"
      ]
     },
     "metadata": {},
     "output_type": "display_data"
    }
   ],
   "source": [
    "null_cols = data.isnull().sum()\n",
    "display(null_cols[null_cols > 0])\n",
    "display(null_cols[null_cols == 0])\n",
    "\n",
    "numeric_columns = [col for col in data._get_numeric_data()]\n",
    "display(numeric_columns)"
   ]
  },
  {
   "cell_type": "markdown",
   "metadata": {},
   "source": [
    "According to the results, it is fair to conclude that columns \"Unnamed 22\" and \"Unnamed 23\" can be dropped.\n",
    "Además, los únicos campos puramente numéricos, Año y 'original order', no contienen nulos. El campo edad, que debería ser numérico, no lo es porque algunos registros contienen texto (que se limpiará o traducirá en pasos posteriores)."
   ]
  },
  {
   "cell_type": "code",
   "execution_count": 80,
   "metadata": {},
   "outputs": [],
   "source": [
    "drop_cols = ['Unnamed: 22', 'Unnamed: 23']"
   ]
  },
  {
   "cell_type": "markdown",
   "metadata": {},
   "source": [
    "Se observa también que el valor de los campos Case Number.1 y Case Number.2 es igual que el de Case Number. Lo verificamos con un bucle:"
   ]
  },
  {
   "cell_type": "code",
   "execution_count": 81,
   "metadata": {},
   "outputs": [
    {
     "name": "stdout",
     "output_type": "stream",
     "text": [
      "169 Mismatch founded 2015.07-10 2015.07.10 2015.07.10\n",
      "4719 Mismatch founded 1934.01.08.R 1934.02.08.R 1934.02.08.R\n"
     ]
    }
   ],
   "source": [
    "for i, row_value in data['Case Number'].iteritems():\n",
    "    if row_value != data['Case Number.1'][i] and row_value != data['Case Number.2'][i]:\n",
    "        print(i, 'Mismatch founded', row_value, data['Case Number.1'][i], data['Case Number.2'][i])"
   ]
  },
  {
   "cell_type": "markdown",
   "metadata": {},
   "source": [
    "Para mantener la columna 'Case Number', corregimos las discrepancias y eliminamos las columnas Case Number 1 y 2"
   ]
  },
  {
   "cell_type": "code",
   "execution_count": 82,
   "metadata": {},
   "outputs": [],
   "source": [
    "data.loc[169, 'Case Number'] = data['Case Number.1'][169]\n",
    "data.loc[4719, 'Case Number'] = data['Case Number.1'][4719]\n",
    "drop_cols += ['Case Number.1', 'Case Number.2']"
   ]
  },
  {
   "cell_type": "markdown",
   "metadata": {},
   "source": [
    "También a priori parece que el contenido de las columnas 'href formula' y 'href' es el mismo. Comprobamos:"
   ]
  },
  {
   "cell_type": "code",
   "execution_count": 83,
   "metadata": {},
   "outputs": [
    {
     "name": "stdout",
     "output_type": "stream",
     "text": [
      "20 Mismatch founded http://sharkattackfile.net/spreadsheets/pdf_directory/http://sharkattackfile.net/spreadsheets/pdf_directory/2016.07.29-Spain.pdf http://sharkattackfile.net/spreadsheets/pdf_directory/2016.07.29-Spain.pdf\n",
      "27 Mismatch founded http://sharkattackfile.net/spreadsheets/pdf_directory/2016.07.23-Cutbirth.pdf http://sharkattackfile.net/spreadsheets/pdf_directory/2016.07.23.a-Cutbirth.pdf\n",
      "61 Mismatch founded http://sharkattackfile.net/spreadsheets/pdf_directory/http://sharkattackfile.net/spreadsheets/pdf_directory/2016.05.21.a-Girl.pdf http://sharkattackfile.net/spreadsheets/pdf_directory/2016.05.21.a-Girl.pdf\n",
      "107 Mismatch founded http://sharkattackfile.net/spreadsheets/pdf_directory/http://sharkattackfile.net/spreadsheets/pdf_directory/2015.12.21.a-Brazil.pdf http://sharkattackfile.net/spreadsheets/pdf_directory/2015.12.21.a-Brazil.pdf\n",
      "114 Mismatch founded http://sharkattackfile.net/spreadsheets/pdf_directory/http://sharkattackfile.net/spreadsheets/pdf_directory/2015.11.15.a-Engelman.pdf http://sharkattackfile.net/spreadsheets/pdf_directory/2015.11.15.a-Engelman.pdf\n",
      "134 Mismatch founded http://sharkattackfile.net/spreadsheets/pdf_directory/2015.10.05-Slaughter.pdf http://sharkattackfile.net/spreadsheets/pdf_directory/2015.10.05.a-Slaughter.pdf\n",
      "180 Mismatch founded http://sharkattackfile.net/spreadsheets/pdf_directory/2015.06.27-Swanepoel.pdf http://sharkattackfile.net/spreadsheets/pdf_directory/2015.06.27.a-Swanepoel.pdf\n",
      "193 Mismatch founded nan http://sharkattackfile.net/spreadsheets/pdf_directory/Court Case pending\n",
      "232 Mismatch founded http://sharkattackfile.net/spreadsheets/pdf_directory/http://sharkattackfile.net/spreadsheets/pdf_directory/2015.01.24-Murray.pdf http://sharkattackfile.net/spreadsheets/pdf_directory/2015.01.24-Murray.pdf\n",
      "262 Mismatch founded http://sharkattackfile.net/spreadsheets/pdf_directory/http://sharkattackfile.net/spreadsheets/pdf_directory/2014.10.19-Tara.pdf http://sharkattackfile.net/spreadsheets/pdf_directory/2014.10.19-Tara.pdf\n",
      "263 Mismatch founded http://sharkattackfile.net/spreadsheets/pdf_directory/2014.10.18-Roberson http://sharkattackfile.net/spreadsheets/pdf_directory/2014.10.18-Roberson.pdf\n",
      "264 Mismatch founded http://sharkattackfile.net/spreadsheets/pdf_directory/2014.10.14-Bandy.pdf http://sharkattackfile.net/spreadsheets/pdf_directory/2014.10.17-Olsson, pdf\n",
      "271 Mismatch founded http://sharkattackfile.net/spreadsheets/pdf_directory/2014.10.02.b-Vandenberg.pdf http://sharkattackfile.net/spreadsheets/pdf_directory/2014.10.03.b-Kayaks2.pdf\n",
      "272 Mismatch founded http://sharkattackfile.net/spreadsheets/pdf_directory/2014.10.02.b-Vandenberg.pdf http://sharkattackfile.net/spreadsheets/pdf_directory/2014.10.03.a-Kayaks1.pdf\n",
      "293 Mismatch founded http://sharkattackfile.net/spreadsheets/pdf_directory/2014.08.12-Hayes.pdf http://sharkattackfile.net/spreadsheets/pdf_directory/2014.08.15-Hayes.pdf\n",
      "305 Mismatch founded http://sharkattackfile.net/spreadsheets/pdf_directory/http://sharkattackfile.net/spreadsheets/pdf_directory/2014.07.22-Rintz.pdf http://sharkattackfile.net/spreadsheets/pdf_directory/2014.07.22-Rintz.pdf\n",
      "323 Mismatch founded http://sharkattackfile.net/spreadsheets/pdf_directory/2014.06.09-Berry.pdf http://sharkattackfile.net/spreadsheets/pdf_directory/2014.06.09.a-Berry.pdf\n",
      "347 Mismatch founded http://sharkattackfile.net/spreadsheets/pdf_directory/http://sharkattackfile.net/spreadsheets/pdf_directory/2014.04.03-Armstrong.pdf http://sharkattackfile.net/spreadsheets/pdf_directory/2014.04.03-Armstrong.pdf\n",
      "361 Mismatch founded http://sharkattackfile.net/spreadsheets/pdf_directory/w014.01.25-Grant.pdf http://sharkattackfile.net/spreadsheets/pdf_directory/2014.02.07.b-Torres.pdf\n",
      "362 Mismatch founded http://sharkattackfile.net/spreadsheets/pdf_directory/w014.01.25-Grant.pdf http://sharkattackfile.net/spreadsheets/pdf_directory/2014.02.07-PorpoiseBay.pdf\n",
      "363 Mismatch founded http://sharkattackfile.net/spreadsheets/pdf_directory/w014.01.25-Grant.pdf http://sharkattackfile.net/spreadsheets/pdf_directory/2014.01.26-O'Connor.pf\n",
      "364 Mismatch founded http://sharkattackfile.net/spreadsheets/pdf_directory/w014.01.25-Grant.pdf http://sharkattackfile.net/spreadsheets/pdf_directory/2014.01.25-Grant\n",
      "365 Mismatch founded pdf_directory2014.01.04-Riano.pdf http://sharkattackfile.net/spreadsheets/pdf_directory/2014.01.04-Rianto.pdf\n",
      "377 Mismatch founded http://sharkattackfile.net/spreadsheets/pdf_directory/2013.11.22-Gardiner http://sharkattackfile.net/spreadsheets/pdf_directory/2013.11.22-Gardiner.pdf\n",
      "378 Mismatch founded http://sharkattackfile.net/spreadsheets/pdf_directory/2013.11.12-Daly http://sharkattackfile.net/spreadsheets/pdf_directory/2013.11.12-Daly.pdf\n",
      "379 Mismatch founded http://sharkattackfile.net/spreadsheets/pdf_directory/2013.11.10-Bahamas http://sharkattackfile.net/spreadsheets/pdf_directory/2013.11.10-Bahamas.pdf\n",
      "380 Mismatch founded http://sharkattackfile.net/spreadsheets/pdf_directory/2013.11.07.b-Gates http://sharkattackfile.net/spreadsheets/pdf_directory/2013.11.07.b-Gates.pdf\n",
      "381 Mismatch founded http://sharkattackfile.net/spreadsheets/pdf_directory/2013.11.07.a-Melian http://sharkattackfile.net/spreadsheets/pdf_directory/2013.11.07.a-Melian.pdf\n",
      "382 Mismatch founded http://sharkattackfile.net/spreadsheets/pdf_directory/2013.10.31-ChristianBrandon http://sharkattackfile.net/spreadsheets/pdf_directory/2013.10.31-ChristianBrandon.pdf\n",
      "383 Mismatch founded http://sharkattackfile.net/spreadsheets/pdf_directory/2013.10.28-Simmons http://sharkattackfile.net/spreadsheets/pdf_directory/2013.10.28-Simmons.pdf\n",
      "384 Mismatch founded http://sharkattackfile.net/spreadsheets/pdf_directory/2013.10.26.b-Tanguy http://sharkattackfile.net/spreadsheets/pdf_directory/2013.10.26.b-Tanguy.pdf\n",
      "448 Mismatch founded http://sharkattackfile.net/spreadsheets/pdf_directory/2013.05.27.b-Ena.pdf pdf-directory/2013.05.27.b-Ena.pdf\n",
      "449 Mismatch founded http://sharkattackfile.net/spreadsheets/pdf_directory/2013.05.27-Kirkpatrick.pdf http://sharkattackfile.net/spreadsheets/pdf_directory/2013.05.27.a-Kirkpatrick.pdf\n",
      "823 Mismatch founded http://sharkattackfile.net/spreadsheets/pdf_directory/2010.02.01-Ward.pdf http://sharkattackfile.net/spreadsheets/pdf_directory/12.26\n",
      "1217 Mismatch founded http://sharkattackfile.net/spreadsheets/pdf_directory/2006.08.22-IsaulCoba.pdf http://sharkattackfile.net/spreadsheets/pdf_directory/2006.08.22.b-Melo.pdf\n",
      "1218 Mismatch founded http://sharkattackfile.net/spreadsheets/pdf_directory/2006.08.22.b-Brazil-incomplete.pdf http://sharkattackfile.net/spreadsheets/pdf_directory/2006.08.22.a-Coba.pdf\n",
      "2274 Mismatch founded nan http://sharkattackfile.net/spreadsheets/pdf_directory/1993.04.00-Szolomiak.pdf\n",
      "2477 Mismatch founded http://sharkattackfile.net/spreadsheets/pdf_directory/1989.00.00-Virginia-spearfisherman.pdf http://sharkattackfile.net/spreadsheets/pdf_directory/1989.00.00.a-Virginia-spearfisherman.pdf\n",
      "3019 Mismatch founded http://sharkattackfile.net/spreadsheets/pdf_directory/1975.01.19-Barrowman.pdf nan\n",
      "3549 Mismatch founded http://sharkattackfile.net/spreadsheets/pdf_directory/http://sharkattackfile.net/spreadsheets/pdf_directory/1963.00.00.a-Seychelles.pdf http://sharkattackfile.net/spreadsheets/pdf_directory/1963.00.00.a-Seychelles.pdf\n",
      "3603 Mismatch founded http://sharkattackfile.net/spreadsheets/pdf_directory/http://sharkattackfile.net/spreadsheets/pdf_directory/1962.03.25.b-Luxton.pdf http://sharkattackfile.net/spreadsheets/pdf_directory/1962.03.25.b-Luxton.pdf\n",
      "3917 Mismatch founded http://sharkattackfile.net/spreadsheets/pdf_directory/1958.08.31.a-NV-Ensenada.pdf http://sharkattackfile.net/spreadsheets/pdf_directory/1958.08.31-NV-Ensenada.pdf\n",
      "3928 Mismatch founded http://sharkattackfile.net/spreadsheets/pdf_directory/1958.07.00.b - Waterman.pdf http://sharkattackfile.net/spreadsheets/pdf_directory/1958.07.00.b-Waterman.pdf\n",
      "4394 Mismatch founded http://sharkattackfile.net/spreadsheets/pdf_directory/1945.07.30 - USS Indianapolis.pdf http://sharkattackfile.net/spreadsheets/pdf_directory/1945.07.30-USS Indianapolis.pdf\n",
      "4642 Mismatch founded http://sharkattackfile.net/spreadsheets/pdf_directory/http://sharkattackfile.net/spreadsheets/pdf_directory/1936.08.04.R-PearlDiver.pdf http://sharkattackfile.net/spreadsheets/pdf_directory/1936.08.04.R-PearlDiver.pdf\n",
      "4668 Mismatch founded http://sharkattackfile.net/spreadsheets/pdf_directory/1935.08.24-Atherfield http://sharkattackfile.net/spreadsheets/pdf_directory/1935.08.24-Atherfield.pdf\n",
      "4719 Mismatch founded http://sharkattackfile.net/spreadsheets/pdf_directory/http://sharkattackfile.net/spreadsheets/pdf_directory/1924.02.08.R-Turkey.pdf http://sharkattackfile.net/spreadsheets/pdf_directory/1924.02.08.R-Turkey.pdf\n",
      "5317 Mismatch founded http://sharkattackfile.net/spreadsheets/pdf_directory/http://sharkattackfile.net/spreadsheets/pdf_directory/1900.09.05-Hartman.pdf http://sharkattackfile.net/spreadsheets/pdf_directory/1900.09.05-Hartman.pdf\n",
      "5458 Mismatch founded http://sharkattackfile.net/spreadsheets/pdf_directory/http://sharkattackfile.net/spreadsheets/pdf_directory/1890.06.26-Mayonni.pdf http://sharkattackfile.net/spreadsheets/pdf_directory/1890.06.26-Mayonni.pdf\n",
      "5686 Mismatch founded nan http://sharkattackfile.net/spreadsheets/pdf_directory/1864.01.01-Kelsall.pdf\n",
      "5694 Mismatch founded http://sharkattackfile.net/spreadsheets/pdf_directory/http://sharkattackfile.net/spreadsheets/pdf_directory/1863.00.00.R-Corfu http://sharkattackfile.net/spreadsheets/pdf_directory/1863.00.00.R-Corfu\n",
      "5819 Mismatch founded http://sharkattackfile.net/spreadsheets/pdf_directory/1819.07.08-Cadiz.pdf http://sharkattackfile.net/spreadsheets/pdf_directory/1819.07.08.R-Cadiz.pdf\n",
      "5857 Mismatch founded http://sharkattackfile.net/spreadsheets/pdf_directory/1637.00.00-Manrique.pdf http://sharkattackfile.net/spreadsheets/pdf_directory/1637.00.00.R-Manrique.pdf\n"
     ]
    },
    {
     "data": {
      "text/plain": [
       "53"
      ]
     },
     "metadata": {},
     "output_type": "display_data"
    }
   ],
   "source": [
    "mismatch_href_count = 0\n",
    "for i, row_value in data['href'].iteritems():\n",
    "    if row_value != data['href formula'][i]:\n",
    "        print(i, 'Mismatch founded', row_value, data['href formula'][i])\n",
    "        mismatch_href_count += 1\n",
    "display(mismatch_href_count)"
   ]
  },
  {
   "cell_type": "markdown",
   "metadata": {},
   "source": [
    "Se puede ver que para 53 filas, los contenidos de las columnas no coinciden. Sin embargo, dado que este valor no llega al 1% de los registros, lo consideramos despreciable. Además, el contenido del campo no nos aporta información para nuestro análisis a alto nivel. Por tanto, eliminamos también la columna 'href'."
   ]
  },
  {
   "cell_type": "code",
   "execution_count": 84,
   "metadata": {},
   "outputs": [],
   "source": [
    "drop_cols += ['href']\n",
    "data = data.drop(drop_cols, axis=1)"
   ]
  },
  {
   "cell_type": "code",
   "execution_count": 85,
   "metadata": {},
   "outputs": [
    {
     "data": {
      "text/html": [
       "<div>\n",
       "<style scoped>\n",
       "    .dataframe tbody tr th:only-of-type {\n",
       "        vertical-align: middle;\n",
       "    }\n",
       "\n",
       "    .dataframe tbody tr th {\n",
       "        vertical-align: top;\n",
       "    }\n",
       "\n",
       "    .dataframe thead th {\n",
       "        text-align: right;\n",
       "    }\n",
       "</style>\n",
       "<table border=\"1\" class=\"dataframe\">\n",
       "  <thead>\n",
       "    <tr style=\"text-align: right;\">\n",
       "      <th></th>\n",
       "      <th>Case Number</th>\n",
       "      <th>Date</th>\n",
       "      <th>Year</th>\n",
       "      <th>Type</th>\n",
       "      <th>Country</th>\n",
       "      <th>Area</th>\n",
       "      <th>Location</th>\n",
       "      <th>Activity</th>\n",
       "      <th>Name</th>\n",
       "      <th>Sex</th>\n",
       "      <th>Age</th>\n",
       "      <th>Injury</th>\n",
       "      <th>Fatal (Y/N)</th>\n",
       "      <th>Time</th>\n",
       "      <th>Species</th>\n",
       "      <th>Investigator or Source</th>\n",
       "      <th>pdf</th>\n",
       "      <th>href formula</th>\n",
       "      <th>original order</th>\n",
       "    </tr>\n",
       "  </thead>\n",
       "  <tbody>\n",
       "    <tr>\n",
       "      <th>0</th>\n",
       "      <td>2016.09.18.c</td>\n",
       "      <td>18-Sep-16</td>\n",
       "      <td>2016</td>\n",
       "      <td>Unprovoked</td>\n",
       "      <td>USA</td>\n",
       "      <td>Florida</td>\n",
       "      <td>New Smyrna Beach, Volusia County</td>\n",
       "      <td>Surfing</td>\n",
       "      <td>male</td>\n",
       "      <td>M</td>\n",
       "      <td>16</td>\n",
       "      <td>Minor injury to thigh</td>\n",
       "      <td>N</td>\n",
       "      <td>13h00</td>\n",
       "      <td>NaN</td>\n",
       "      <td>Orlando Sentinel, 9/19/2016</td>\n",
       "      <td>2016.09.18.c-NSB.pdf</td>\n",
       "      <td>http://sharkattackfile.net/spreadsheets/pdf_di...</td>\n",
       "      <td>5993</td>\n",
       "    </tr>\n",
       "    <tr>\n",
       "      <th>1</th>\n",
       "      <td>2016.09.18.b</td>\n",
       "      <td>18-Sep-16</td>\n",
       "      <td>2016</td>\n",
       "      <td>Unprovoked</td>\n",
       "      <td>USA</td>\n",
       "      <td>Florida</td>\n",
       "      <td>New Smyrna Beach, Volusia County</td>\n",
       "      <td>Surfing</td>\n",
       "      <td>Chucky Luciano</td>\n",
       "      <td>M</td>\n",
       "      <td>36</td>\n",
       "      <td>Lacerations to hands</td>\n",
       "      <td>N</td>\n",
       "      <td>11h00</td>\n",
       "      <td>NaN</td>\n",
       "      <td>Orlando Sentinel, 9/19/2016</td>\n",
       "      <td>2016.09.18.b-Luciano.pdf</td>\n",
       "      <td>http://sharkattackfile.net/spreadsheets/pdf_di...</td>\n",
       "      <td>5992</td>\n",
       "    </tr>\n",
       "    <tr>\n",
       "      <th>2</th>\n",
       "      <td>2016.09.18.a</td>\n",
       "      <td>18-Sep-16</td>\n",
       "      <td>2016</td>\n",
       "      <td>Unprovoked</td>\n",
       "      <td>USA</td>\n",
       "      <td>Florida</td>\n",
       "      <td>New Smyrna Beach, Volusia County</td>\n",
       "      <td>Surfing</td>\n",
       "      <td>male</td>\n",
       "      <td>M</td>\n",
       "      <td>43</td>\n",
       "      <td>Lacerations to lower leg</td>\n",
       "      <td>N</td>\n",
       "      <td>10h43</td>\n",
       "      <td>NaN</td>\n",
       "      <td>Orlando Sentinel, 9/19/2016</td>\n",
       "      <td>2016.09.18.a-NSB.pdf</td>\n",
       "      <td>http://sharkattackfile.net/spreadsheets/pdf_di...</td>\n",
       "      <td>5991</td>\n",
       "    </tr>\n",
       "    <tr>\n",
       "      <th>3</th>\n",
       "      <td>2016.09.17</td>\n",
       "      <td>17-Sep-16</td>\n",
       "      <td>2016</td>\n",
       "      <td>Unprovoked</td>\n",
       "      <td>AUSTRALIA</td>\n",
       "      <td>Victoria</td>\n",
       "      <td>Thirteenth Beach</td>\n",
       "      <td>Surfing</td>\n",
       "      <td>Rory Angiolella</td>\n",
       "      <td>M</td>\n",
       "      <td>NaN</td>\n",
       "      <td>Struck by fin on chest &amp; leg</td>\n",
       "      <td>N</td>\n",
       "      <td>NaN</td>\n",
       "      <td>NaN</td>\n",
       "      <td>The Age, 9/18/2016</td>\n",
       "      <td>2016.09.17-Angiolella.pdf</td>\n",
       "      <td>http://sharkattackfile.net/spreadsheets/pdf_di...</td>\n",
       "      <td>5990</td>\n",
       "    </tr>\n",
       "    <tr>\n",
       "      <th>4</th>\n",
       "      <td>2016.09.15</td>\n",
       "      <td>16-Sep-16</td>\n",
       "      <td>2016</td>\n",
       "      <td>Unprovoked</td>\n",
       "      <td>AUSTRALIA</td>\n",
       "      <td>Victoria</td>\n",
       "      <td>Bells Beach</td>\n",
       "      <td>Surfing</td>\n",
       "      <td>male</td>\n",
       "      <td>M</td>\n",
       "      <td>NaN</td>\n",
       "      <td>No injury: Knocked off board by shark</td>\n",
       "      <td>N</td>\n",
       "      <td>NaN</td>\n",
       "      <td>2 m shark</td>\n",
       "      <td>The Age, 9/16/2016</td>\n",
       "      <td>2016.09.16-BellsBeach.pdf</td>\n",
       "      <td>http://sharkattackfile.net/spreadsheets/pdf_di...</td>\n",
       "      <td>5989</td>\n",
       "    </tr>\n",
       "  </tbody>\n",
       "</table>\n",
       "</div>"
      ],
      "text/plain": [
       "    Case Number       Date  Year        Type    Country      Area  \\\n",
       "0  2016.09.18.c  18-Sep-16  2016  Unprovoked        USA   Florida   \n",
       "1  2016.09.18.b  18-Sep-16  2016  Unprovoked        USA   Florida   \n",
       "2  2016.09.18.a  18-Sep-16  2016  Unprovoked        USA   Florida   \n",
       "3    2016.09.17  17-Sep-16  2016  Unprovoked  AUSTRALIA  Victoria   \n",
       "4    2016.09.15  16-Sep-16  2016  Unprovoked  AUSTRALIA  Victoria   \n",
       "\n",
       "                           Location Activity             Name Sex  Age  \\\n",
       "0  New Smyrna Beach, Volusia County  Surfing             male   M   16   \n",
       "1  New Smyrna Beach, Volusia County  Surfing   Chucky Luciano   M   36   \n",
       "2  New Smyrna Beach, Volusia County  Surfing             male   M   43   \n",
       "3                  Thirteenth Beach  Surfing  Rory Angiolella   M  NaN   \n",
       "4                       Bells Beach  Surfing             male   M  NaN   \n",
       "\n",
       "                                  Injury Fatal (Y/N)   Time    Species  \\\n",
       "0                  Minor injury to thigh           N  13h00        NaN   \n",
       "1                   Lacerations to hands           N  11h00        NaN   \n",
       "2               Lacerations to lower leg           N  10h43        NaN   \n",
       "3           Struck by fin on chest & leg           N    NaN        NaN   \n",
       "4  No injury: Knocked off board by shark           N    NaN  2 m shark   \n",
       "\n",
       "        Investigator or Source                        pdf  \\\n",
       "0  Orlando Sentinel, 9/19/2016       2016.09.18.c-NSB.pdf   \n",
       "1  Orlando Sentinel, 9/19/2016   2016.09.18.b-Luciano.pdf   \n",
       "2  Orlando Sentinel, 9/19/2016       2016.09.18.a-NSB.pdf   \n",
       "3           The Age, 9/18/2016  2016.09.17-Angiolella.pdf   \n",
       "4           The Age, 9/16/2016  2016.09.16-BellsBeach.pdf   \n",
       "\n",
       "                                        href formula  original order  \n",
       "0  http://sharkattackfile.net/spreadsheets/pdf_di...            5993  \n",
       "1  http://sharkattackfile.net/spreadsheets/pdf_di...            5992  \n",
       "2  http://sharkattackfile.net/spreadsheets/pdf_di...            5991  \n",
       "3  http://sharkattackfile.net/spreadsheets/pdf_di...            5990  \n",
       "4  http://sharkattackfile.net/spreadsheets/pdf_di...            5989  "
      ]
     },
     "execution_count": 85,
     "metadata": {},
     "output_type": "execute_result"
    }
   ],
   "source": [
    "data.head()"
   ]
  },
  {
   "cell_type": "markdown",
   "metadata": {},
   "source": [
    "It can be observed that the name in some of the rows of the dataset is male and female. Así que se puede utilizar este valor para tratar de rellenar aquellos valores null del campo Sex. Además se comprobará si hay alguna discrepancia de sexo entre el campo namy y el de female."
   ]
  },
  {
   "cell_type": "code",
   "execution_count": 6,
   "metadata": {},
   "outputs": [
    {
     "name": "stdout",
     "output_type": "stream",
     "text": [
      "397 female M Lacerations to right foot\n",
      "405 female M Arm bitten by captive shark PROVOKED INCIDENT\n",
      "1046 female M Cuts & punctures to right foot\n",
      "2000 male nan 2 small lacerations to bottom of foot\n",
      "2824 male nan Probable drowning & scavenging\n",
      "3068 male nan FATAL, thigh bitten\n",
      "4112 male nan Human remains found in shark\n",
      "4240 male nan Harpooned shark bit his forehead PROVOKED INCIDENT\n",
      "5018 male nan FATAL\n",
      "5603 female M Partial human remains found in 13' shark\n",
      "5779 male nan Lacerations to leg  PROVOKED INCIDENT\n",
      "5825 male nan FATAL\n",
      "5865 male nan Foot severed\n"
     ]
    }
   ],
   "source": [
    "for i in range(len(data['Sex'])):\n",
    "    if data.loc[i, 'Name'] == 'male' and data.loc[i, 'Sex'] != 'M' or data.loc[i, 'Name'] == 'female' and data.loc[i, 'Sex'] != 'F':\n",
    "        print(i, data.loc[i, 'Name'], data.loc[i, 'Sex'], data.loc[i, 'Injury'])"
   ]
  },
  {
   "cell_type": "markdown",
   "metadata": {},
   "source": [
    "No se ha encontrado un alto número de discrepancias entre, pero para los resultados conseguidos completaremos los valores null del campo Sex."
   ]
  },
  {
   "cell_type": "code",
   "execution_count": 7,
   "metadata": {},
   "outputs": [],
   "source": [
    "data.loc[2000, 'Sex'] = 'M'\n",
    "data.loc[2824, 'Sex'] = 'M'\n",
    "data.loc[3068, 'Sex'] = 'M'\n",
    "data.loc[4112, 'Sex'] = 'M'\n",
    "data.loc[4240, 'Sex'] = 'M'\n",
    "data.loc[5018, 'Sex'] = 'M'\n",
    "data.loc[5779, 'Sex'] = 'M'\n",
    "data.loc[5825, 'Sex'] = 'M'\n",
    "data.loc[5865, 'Sex'] = 'M'"
   ]
  },
  {
   "cell_type": "markdown",
   "metadata": {},
   "source": [
    "# 2. Incorrect data identification"
   ]
  },
  {
   "cell_type": "markdown",
   "metadata": {},
   "source": [
    "La primera idea que nos surge para comprobar la corrección de los datos es verificar si las ciudades que se lista en la columna Area pertenecen realmente al país en la columna Country. Para ello recurrimos a una librería externa, Geopy, pero nos encontramos el problema de que la ejecución de la verificación es muy lenta y de que los nombres de los países devueltos están en idioma y/o alfabeto local, con lo cual no se pueden comparar con el país mostrado en el dataset. Además, para algunas ciudades el servidor no devuelve resultad.\n",
    "\n",
    "Se incluye el código a continuación:"
   ]
  },
  {
   "cell_type": "code",
   "execution_count": 8,
   "metadata": {},
   "outputs": [],
   "source": [
    "#from geopy.geocoders import Nominatim\n",
    "#geolocator = Nominatim(timeout=3)\n",
    "#for i in range(len(data['Area'])):\n",
    "    #location = geolocator.geocode(data.loc[i, 'Area'])\n",
    "    #if location:\n",
    "    #   location = location.raw['display_name'].split(',')\n",
    "    #country = location['display_name'].split(',')\n",
    "    #if location[1].lower().strip() == data.loc[i, 'Country'].lower().strip():\n",
    "         #print(i, location[1].lower(), data.loc[i, 'Country'].lower())"
   ]
  },
  {
   "cell_type": "markdown",
   "metadata": {},
   "source": [
    "Como segundo paso a la comprobación de datos incorrectos, se podría verificar que el sexo de las víctimas coincide con el valor del campo nombre cuando en este último se incluye male o female. Sin embargo, esta comprobación ya se hizo en el punto 1, comprobación de nulos.\n",
    "\n",
    "Se comprobará que todos los registros para los que el campo Injury indica 'FATAL', la columna 'Fatal (Y/N)' indica Y."
   ]
  },
  {
   "cell_type": "code",
   "execution_count": 9,
   "metadata": {},
   "outputs": [
    {
     "name": "stdout",
     "output_type": "stream",
     "text": [
      "2449 FATAL nan\n",
      "5718 FATAL nan\n"
     ]
    }
   ],
   "source": [
    "for i in range(len(data['Injury'])):\n",
    "    if data.loc[i, 'Injury'] == 'FATAL' and data.loc[i, 'Fatal (Y/N)'] != 'Y':\n",
    "        print(i, data.loc[i, 'Injury'], data.loc[i, 'Fatal (Y/N)'])"
   ]
  },
  {
   "cell_type": "markdown",
   "metadata": {},
   "source": [
    "A partir de las dos discrepancias anteriores, rellenamos el valor null:"
   ]
  },
  {
   "cell_type": "code",
   "execution_count": 10,
   "metadata": {},
   "outputs": [],
   "source": [
    "data.loc[2449, 'Fatal (Y/N)'] = 'Y'\n",
    "data.loc[5718, 'Fatal (Y/N)'] = 'Y'"
   ]
  },
  {
   "cell_type": "markdown",
   "metadata": {},
   "source": [
    "# 3. Data type correction"
   ]
  },
  {
   "cell_type": "markdown",
   "metadata": {},
   "source": [
    "Para empezar se comprueba que en la columna 'Date', muchos de los valores, a pesar de tener un formato similar al de una fecha en realidad no lo son, y otros incluyen caracteres de texto como 'Reported'. Para obtener las fechas exactas expresadas en formato fecha, se recurre a la columna 'Case Number'."
   ]
  },
  {
   "cell_type": "code",
   "execution_count": 11,
   "metadata": {},
   "outputs": [],
   "source": [
    "import datetime\n",
    "\n",
    "counter = 0\n",
    "for i in range(len(data['Case Number'])):\n",
    "    counter += 1\n",
    "    x = data.loc[i, 'Case Number']\n",
    "    #print(counter, x)\n",
    "    try:\n",
    "        year = int(x[:4])\n",
    "        month = int(x[5:7]) if int(x[5:7]) != 0 else 1\n",
    "        day = int(x[8:10]) if int(x[8:10]) != 0 else 1\n",
    "        #print(counter, x, '.....', year, month, day)\n",
    "        date_value = datetime.date(year, month, day)\n",
    "        data.loc[i, 'Date'] = date_value\n",
    "    except:\n",
    "        pass\n"
   ]
  },
  {
   "cell_type": "code",
   "execution_count": 18,
   "metadata": {},
   "outputs": [
    {
     "name": "stdout",
     "output_type": "stream",
     "text": [
      "Percentage of non valid dates:  2.069 %\n"
     ]
    }
   ],
   "source": [
    "data_counter_not_valid_date = 0\n",
    "for x in data['Date']:\n",
    "    if type(x) is not datetime.date:\n",
    "        data_counter_not_valid_date += 1\n",
    "print('Percentage of non valid dates: ', round(data_counter_not_valid_date/len(data['Date']) * 100, 3), '%')"
   ]
  },
  {
   "cell_type": "markdown",
   "metadata": {},
   "source": [
    "Gracias al código anterior, hemos conseguido transformar a objetos de fechas gran parte de los registros, lo que nos permitirá ubicarlos de forma correcta en un eje temporal. \n",
    "Comprobamos también que sólo un pequeño porcentaje de los registros (2.07%) no ha sido posible de ubicar de forma correcta. Estos registros, mediante análisis cualitativo, puede comprobarse que típicamente se corresponden con fechas muy lejanas."
   ]
  },
  {
   "cell_type": "markdown",
   "metadata": {},
   "source": [
    "Un vez que hemos rellenado correctamente el campo 'Date', se puede verificar que el año se corresponde con el valor del campo 'Year' mediante el código siguiente:"
   ]
  },
  {
   "cell_type": "code",
   "execution_count": 26,
   "metadata": {},
   "outputs": [
    {
     "name": "stdout",
     "output_type": "stream",
     "text": [
      "Percentage of mistmatches:  0.0 %\n"
     ]
    }
   ],
   "source": [
    "data_counter_error_years = 0\n",
    "\n",
    "for i, row_value in data['Year'].iteritems():\n",
    "    try:\n",
    "        if data['Date'][i].year != row_value:\n",
    "            print(i, 'Year mismatch', '     Valor del campo \"Date\": ', data['Date'][i], '     Valor del campo \"Year\": ', row_value, '    Valor de Case Number: ',data['Case Number'][i])\n",
    "            data_counter_error_years += 1\n",
    "    except:\n",
    "        pass\n",
    "    \n",
    "print('Percentage of mistmatches: ', round(data_counter_error_years/len(data['Year']) * 100, 3), '%')"
   ]
  },
  {
   "cell_type": "markdown",
   "metadata": {},
   "source": [
    "Se comprueba que para algunos registros, los valores de ambos campos no coinciden, por lo que procedemos a corregir el campo 'Year':"
   ]
  },
  {
   "cell_type": "code",
   "execution_count": 25,
   "metadata": {},
   "outputs": [],
   "source": [
    "data.loc[2449, 'Year'] = 1989\n",
    "data.loc[3662, 'Year'] = 1961\n",
    "data.loc[4312, 'Year'] = 1948\n",
    "data.loc[4983, 'Year'] = 1923\n",
    "data.loc[5043, 'Year'] = 1900"
   ]
  },
  {
   "cell_type": "markdown",
   "metadata": {},
   "source": [
    "A continuación se hará que todos los campos no númericos (todos menos 'Date', 'Year', 'original order' y 'Age'] sean strings."
   ]
  },
  {
   "cell_type": "code",
   "execution_count": 44,
   "metadata": {},
   "outputs": [
    {
     "data": {
      "text/plain": [
       "Case Number               object\n",
       "Date                      object\n",
       "Year                       int64\n",
       "Type                      object\n",
       "Country                   object\n",
       "Area                      object\n",
       "Location                  object\n",
       "Activity                  object\n",
       "Name                      object\n",
       "Sex                       object\n",
       "Age                       object\n",
       "Injury                    object\n",
       "Fatal (Y/N)               object\n",
       "Time                      object\n",
       "Species                   object\n",
       "Investigator or Source    object\n",
       "pdf                       object\n",
       "href formula              object\n",
       "href                      object\n",
       "Case Number.1             object\n",
       "Case Number.2             object\n",
       "original order             int64\n",
       "Unnamed: 22               object\n",
       "Unnamed: 23               object\n",
       "dtype: object"
      ]
     },
     "execution_count": 44,
     "metadata": {},
     "output_type": "execute_result"
    }
   ],
   "source": [
    "text_columns = ['Country', 'Area', 'Location', 'Activity', 'Name', 'Sex', 'Injury', 'Fatal (Y/N)', 'Time', 'Species', 'Investigator or Source', 'pdf', 'href formula', 'href']\n",
    "data[text_columns] = data[text_columns].astype('str')\n",
    "data['Country'] = data['Country'].astype(str)\n",
    "data.dtypes"
   ]
  },
  {
   "cell_type": "markdown",
   "metadata": {},
   "source": [
    "# 3. Values normalization"
   ]
  },
  {
   "cell_type": "markdown",
   "metadata": {},
   "source": [
    "Para facilitar las tareas de análisis finales, se tratará de normalizar los valores de cada columna en la medida de lo posible eliminando espacios y caracteres especiales."
   ]
  },
  {
   "cell_type": "markdown",
   "metadata": {},
   "source": [
    "COLUMNA 'Activity':"
   ]
  },
  {
   "cell_type": "code",
   "execution_count": 15,
   "metadata": {},
   "outputs": [
    {
     "data": {
      "text/plain": [
       "array(['Unprovoked', 'Boat', 'Provoked', 'Invalid', 'Sea Disaster',\n",
       "       'Boating'], dtype=object)"
      ]
     },
     "execution_count": 15,
     "metadata": {},
     "output_type": "execute_result"
    }
   ],
   "source": [
    "data['Type'].unique()"
   ]
  },
  {
   "cell_type": "markdown",
   "metadata": {},
   "source": [
    "Los resultados Boat y Boating paracen ser la misma categoría, por lo que normalizaremos los valores renombrado los 'boating' como 'boat'."
   ]
  },
  {
   "cell_type": "code",
   "execution_count": 27,
   "metadata": {},
   "outputs": [
    {
     "data": {
      "text/plain": [
       "array(['Unprovoked', 'Boat', 'Provoked', 'Invalid', 'Sea Disaster'],\n",
       "      dtype=object)"
      ]
     },
     "execution_count": 27,
     "metadata": {},
     "output_type": "execute_result"
    }
   ],
   "source": [
    "data['Type'] = data['Type'].str.replace('Boating', 'Boat')\n",
    "data['Type'].unique()"
   ]
  },
  {
   "cell_type": "markdown",
   "metadata": {},
   "source": [
    "COLUMNA 'Country':"
   ]
  },
  {
   "cell_type": "code",
   "execution_count": 59,
   "metadata": {},
   "outputs": [
    {
     "data": {
      "text/plain": [
       "array(['ADMIRALTY ISLANDS', 'ALGERIA', 'AMERICAN SAMOA',\n",
       "       'ANDAMAN / NICOBAR ISLANDAS', 'ANGOLA', 'ANTIGUA', 'ARGENTINA',\n",
       "       'ARUBA', 'ASIA?', 'ATLANTIC OCEAN', 'AUSTRALIA', 'AZORES',\n",
       "       'BAHAMAS', 'BAHREIN', 'BANGLADESH', 'BARBADOS', 'BAY OF BENGAL',\n",
       "       'BELIZE', 'BERMUDA', 'BRAZIL', 'BRITISH ISLES',\n",
       "       'BRITISH NEW GUINEA', 'BRITISH VIRGIN ISLANDS',\n",
       "       'BRITISH WEST INDIES', 'BURMA', 'Between PORTUGAL & INDIA',\n",
       "       'CANADA', 'CAPE VERDE', 'CARIBBEAN SEA', 'CAYMAN ISLANDS',\n",
       "       'CENTRAL PACIFIC', 'CEYLON (SRI LANKA)', 'CHILE', 'CHINA',\n",
       "       'COLUMBIA', 'COOK ISLANDS', 'COSTA RICA', 'CRETE', 'CROATIA',\n",
       "       'CUBA', 'CURACAO', 'CYPRUS', 'Coast of AFRICA', 'DIEGO GARCIA',\n",
       "       'DJIBOUTI', 'DOMINICAN REPUBLIC', 'ECUADOR', 'EGYPT',\n",
       "       'EGYPT / ISRAEL', 'EL SALVADOR', 'ENGLAND',\n",
       "       'EQUATORIAL GUINEA / CAMEROON', 'FALKLAND ISLANDS',\n",
       "       'FEDERATED STATES OF MICRONESIA', 'FIJI', 'FRANCE',\n",
       "       'FRENCH POLYNESIA', 'Fiji', 'GABON', 'GEORGIA', 'GHANA',\n",
       "       'GRAND CAYMAN', 'GREECE', 'GREENLAND', 'GRENADA', 'GUAM',\n",
       "       'GUATEMALA', 'GUINEA', 'GULF OF ADEN', 'GUYANA', 'HAITI',\n",
       "       'HONDURAS', 'HONG KONG', 'ICELAND', 'INDIA', 'INDIAN OCEAN',\n",
       "       'INDIAN OCEAN?', 'INDONESIA', 'IRAN', 'IRAN / IRAQ', 'IRAQ',\n",
       "       'IRELAND', 'ISRAEL', 'ITALY', 'ITALY / CROATIA', 'JAMAICA',\n",
       "       'JAPAN', 'JAVA', 'JOHNSTON ISLAND', 'KENYA', 'KIRIBATI', 'KOREA',\n",
       "       'KUWAIT', 'LEBANON', 'LIBERIA', 'LIBYA', 'MADAGASCAR', 'MALAYSIA',\n",
       "       'MALDIVE ISLANDS', 'MALTA', 'MARSHALL ISLANDS', 'MARTINIQUE',\n",
       "       'MAURITIUS', 'MAYOTTE', 'MEDITERRANEAN SEA', 'MEDITERRANEAN SEA?',\n",
       "       'MEXICO', 'MICRONESIA', 'MID ATLANTIC OCEAN', 'MID-PACIFC OCEAN',\n",
       "       'MONACO', 'MONTENEGRO', 'MOZAMBIQUE', 'NAMIBIA',\n",
       "       'NETHERLANDS ANTILLES', 'NEVIS', 'NEW BRITAIN', 'NEW CALEDONIA',\n",
       "       'NEW GUINEA', 'NEW ZEALAND', 'NICARAGUA', 'NIGERIA',\n",
       "       'NORTH ATLANTIC OCEAN', 'NORTH PACIFIC OCEAN', 'NORTH SEA',\n",
       "       'NORTHERN ARABIAN SEA', 'NORTHERN MARIANA ISLANDS', 'NORWAY',\n",
       "       'OCEAN', 'OKINAWA', 'PACIFIC OCEAN', 'PALAU',\n",
       "       'PALESTINIAN TERRITORIES', 'PANAMA', 'PAPUA NEW GUINEA',\n",
       "       'PARAGUAY', 'PERSIAN GULF', 'PHILIPPINES', 'PORTUGAL',\n",
       "       'PUERTO RICO', 'RED SEA', 'RED SEA / INDIAN OCEAN', 'RED SEA?',\n",
       "       'REUNION', 'RUSSIA', 'SAMOA', 'SAN DOMINGO', 'SAUDI ARABIA',\n",
       "       'SCOTLAND', 'SENEGAL', 'SEYCHELLES', 'SIERRA LEONE', 'SINGAPORE',\n",
       "       'SLOVENIA', 'SOLOMON ISLANDS', 'SOLOMON ISLANDS / VANUATU',\n",
       "       'SOMALIA', 'SOUTH AFRICA', 'SOUTH ATLANTIC OCEAN',\n",
       "       'SOUTH CHINA SEA', 'SOUTH KOREA', 'SOUTH PACIFIC OCEAN',\n",
       "       'SOUTHWEST PACIFIC OCEAN', 'SPAIN', 'SRI LANKA', 'ST. MAARTIN',\n",
       "       'ST. MARTIN', 'SUDAN', 'SUDAN?', 'SWEDEN', 'SYRIA', 'Seychelles',\n",
       "       'Sierra Leone', 'St Helena', 'TAIWAN', 'TANZANIA', 'TASMAN SEA',\n",
       "       'THAILAND', 'THE BALKANS', 'TONGA', 'TRINIDAD & TOBAGO', 'TUNISIA',\n",
       "       'TURKEY', 'TURKS & CAICOS', 'TUVALU', 'UNITED ARAB EMIRATES',\n",
       "       'UNITED ARAB EMIRATES (UAE)', 'UNITED KINGDOM', 'URUGUAY', 'USA',\n",
       "       'VANUATU', 'VENEZUELA', 'VIETNAM', 'WESTERN SAMOA', 'YEMEN', 'nan'],\n",
       "      dtype=object)"
      ]
     },
     "metadata": {},
     "output_type": "display_data"
    },
    {
     "data": {
      "text/plain": [
       "Country\n",
       "ADMIRALTY ISLANDS                1\n",
       "ALGERIA                          1\n",
       "AMERICAN SAMOA                   3\n",
       "ANDAMAN / NICOBAR ISLANDAS       1\n",
       "ANGOLA                           1\n",
       "ANTIGUA                          1\n",
       "ARGENTINA                        1\n",
       "ARUBA                            1\n",
       "ASIA?                            1\n",
       "ATLANTIC OCEAN                  16\n",
       "AUSTRALIA                     1279\n",
       "AZORES                           5\n",
       "BAHAMAS                         98\n",
       "BAHREIN                          1\n",
       "BANGLADESH                       1\n",
       "BARBADOS                         5\n",
       "BAY OF BENGAL                    1\n",
       "BELIZE                           3\n",
       "BERMUDA                         16\n",
       "BRAZIL                         102\n",
       "BRITISH ISLES                    1\n",
       "BRITISH NEW GUINEA               1\n",
       "BRITISH VIRGIN ISLANDS           1\n",
       "BRITISH WEST INDIES              1\n",
       "BURMA                            4\n",
       "Between PORTUGAL & INDIA         1\n",
       "CANADA                          10\n",
       "CAPE VERDE                       3\n",
       "CARIBBEAN SEA                    8\n",
       "CAYMAN ISLANDS                   2\n",
       "                              ... \n",
       "ST. MARTIN                       1\n",
       "SUDAN                            4\n",
       "SUDAN?                           1\n",
       "SWEDEN                           1\n",
       "SYRIA                            1\n",
       "Seychelles                       1\n",
       "Sierra Leone                     1\n",
       "St Helena                        1\n",
       "TAIWAN                           9\n",
       "TANZANIA                         8\n",
       "TASMAN SEA                       1\n",
       "THAILAND                         6\n",
       "THE BALKANS                      1\n",
       "TONGA                           18\n",
       "TRINIDAD & TOBAGO                3\n",
       "TUNISIA                          3\n",
       "TURKEY                          12\n",
       "TURKS & CAICOS                   5\n",
       "TUVALU                           1\n",
       "UNITED ARAB EMIRATES             1\n",
       "UNITED ARAB EMIRATES (UAE)       2\n",
       "UNITED KINGDOM                  10\n",
       "URUGUAY                          3\n",
       "USA                           2116\n",
       "VANUATU                         14\n",
       "VENEZUELA                       11\n",
       "VIETNAM                         14\n",
       "WESTERN SAMOA                    1\n",
       "YEMEN                            9\n",
       "nan                             43\n",
       "Length: 196, dtype: int64"
      ]
     },
     "metadata": {},
     "output_type": "display_data"
    }
   ],
   "source": [
    "display(np.sort(data['Country'].unique()))\n",
    "display(data.groupby(['Country']).size())\n",
    "#display(data.groupby('Country').count())"
   ]
  },
  {
   "cell_type": "markdown",
   "metadata": {},
   "source": [
    "Se observa que no se repiten los valores de los países, aunque hay uno de ellos que no es un país \"Diego García\" y la mayoría de los países aparecen en un único registro."
   ]
  },
  {
   "cell_type": "code",
   "execution_count": 63,
   "metadata": {},
   "outputs": [
    {
     "name": "stdout",
     "output_type": "stream",
     "text": [
      "432 5561\n"
     ]
    }
   ],
   "source": [
    "for i in range(len(data['Country'])):\n",
    "    if data['Country'][i] == 'DIEGO GARCIA':\n",
    "        print(i, data.loc[i, 'original order'])"
   ]
  },
  {
   "cell_type": "code",
   "execution_count": null,
   "metadata": {},
   "outputs": [],
   "source": []
  }
 ],
 "metadata": {
  "kernelspec": {
   "display_name": "Python 3",
   "language": "python",
   "name": "python3"
  },
  "language_info": {
   "codemirror_mode": {
    "name": "ipython",
    "version": 3
   },
   "file_extension": ".py",
   "mimetype": "text/x-python",
   "name": "python",
   "nbconvert_exporter": "python",
   "pygments_lexer": "ipython3",
   "version": "3.7.3"
  }
 },
 "nbformat": 4,
 "nbformat_minor": 2
}
