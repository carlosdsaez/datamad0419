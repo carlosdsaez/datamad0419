{
 "cells": [
  {
   "cell_type": "markdown",
   "metadata": {},
   "source": [
    "# SHARKS ATTACKS"
   ]
  },
  {
   "cell_type": "markdown",
   "metadata": {},
   "source": [
    "# Data import and preview of the data"
   ]
  },
  {
   "cell_type": "markdown",
   "metadata": {},
   "source": [
    "Se comienza importando los datos del csv 'GSAF5' y las librerías que van a ser usadas para el análisis de los datos. A continuación se visualiza una preview del dataframe y se consulta el número de filas y columnas."
   ]
  },
  {
   "cell_type": "code",
   "execution_count": 1,
   "metadata": {},
   "outputs": [
    {
     "data": {
      "text/html": [
       "<div>\n",
       "<style scoped>\n",
       "    .dataframe tbody tr th:only-of-type {\n",
       "        vertical-align: middle;\n",
       "    }\n",
       "\n",
       "    .dataframe tbody tr th {\n",
       "        vertical-align: top;\n",
       "    }\n",
       "\n",
       "    .dataframe thead th {\n",
       "        text-align: right;\n",
       "    }\n",
       "</style>\n",
       "<table border=\"1\" class=\"dataframe\">\n",
       "  <thead>\n",
       "    <tr style=\"text-align: right;\">\n",
       "      <th></th>\n",
       "      <th>Case Number</th>\n",
       "      <th>Date</th>\n",
       "      <th>Year</th>\n",
       "      <th>Type</th>\n",
       "      <th>Country</th>\n",
       "      <th>Area</th>\n",
       "      <th>Location</th>\n",
       "      <th>Activity</th>\n",
       "      <th>Name</th>\n",
       "      <th>Sex</th>\n",
       "      <th>...</th>\n",
       "      <th>Species</th>\n",
       "      <th>Investigator or Source</th>\n",
       "      <th>pdf</th>\n",
       "      <th>href formula</th>\n",
       "      <th>href</th>\n",
       "      <th>Case Number.1</th>\n",
       "      <th>Case Number.2</th>\n",
       "      <th>original order</th>\n",
       "      <th>Unnamed: 22</th>\n",
       "      <th>Unnamed: 23</th>\n",
       "    </tr>\n",
       "  </thead>\n",
       "  <tbody>\n",
       "    <tr>\n",
       "      <th>0</th>\n",
       "      <td>2016.09.18.c</td>\n",
       "      <td>18-Sep-16</td>\n",
       "      <td>2016</td>\n",
       "      <td>Unprovoked</td>\n",
       "      <td>USA</td>\n",
       "      <td>Florida</td>\n",
       "      <td>New Smyrna Beach, Volusia County</td>\n",
       "      <td>Surfing</td>\n",
       "      <td>male</td>\n",
       "      <td>M</td>\n",
       "      <td>...</td>\n",
       "      <td>NaN</td>\n",
       "      <td>Orlando Sentinel, 9/19/2016</td>\n",
       "      <td>2016.09.18.c-NSB.pdf</td>\n",
       "      <td>http://sharkattackfile.net/spreadsheets/pdf_di...</td>\n",
       "      <td>http://sharkattackfile.net/spreadsheets/pdf_di...</td>\n",
       "      <td>2016.09.18.c</td>\n",
       "      <td>2016.09.18.c</td>\n",
       "      <td>5993</td>\n",
       "      <td>NaN</td>\n",
       "      <td>NaN</td>\n",
       "    </tr>\n",
       "    <tr>\n",
       "      <th>1</th>\n",
       "      <td>2016.09.18.b</td>\n",
       "      <td>18-Sep-16</td>\n",
       "      <td>2016</td>\n",
       "      <td>Unprovoked</td>\n",
       "      <td>USA</td>\n",
       "      <td>Florida</td>\n",
       "      <td>New Smyrna Beach, Volusia County</td>\n",
       "      <td>Surfing</td>\n",
       "      <td>Chucky Luciano</td>\n",
       "      <td>M</td>\n",
       "      <td>...</td>\n",
       "      <td>NaN</td>\n",
       "      <td>Orlando Sentinel, 9/19/2016</td>\n",
       "      <td>2016.09.18.b-Luciano.pdf</td>\n",
       "      <td>http://sharkattackfile.net/spreadsheets/pdf_di...</td>\n",
       "      <td>http://sharkattackfile.net/spreadsheets/pdf_di...</td>\n",
       "      <td>2016.09.18.b</td>\n",
       "      <td>2016.09.18.b</td>\n",
       "      <td>5992</td>\n",
       "      <td>NaN</td>\n",
       "      <td>NaN</td>\n",
       "    </tr>\n",
       "    <tr>\n",
       "      <th>2</th>\n",
       "      <td>2016.09.18.a</td>\n",
       "      <td>18-Sep-16</td>\n",
       "      <td>2016</td>\n",
       "      <td>Unprovoked</td>\n",
       "      <td>USA</td>\n",
       "      <td>Florida</td>\n",
       "      <td>New Smyrna Beach, Volusia County</td>\n",
       "      <td>Surfing</td>\n",
       "      <td>male</td>\n",
       "      <td>M</td>\n",
       "      <td>...</td>\n",
       "      <td>NaN</td>\n",
       "      <td>Orlando Sentinel, 9/19/2016</td>\n",
       "      <td>2016.09.18.a-NSB.pdf</td>\n",
       "      <td>http://sharkattackfile.net/spreadsheets/pdf_di...</td>\n",
       "      <td>http://sharkattackfile.net/spreadsheets/pdf_di...</td>\n",
       "      <td>2016.09.18.a</td>\n",
       "      <td>2016.09.18.a</td>\n",
       "      <td>5991</td>\n",
       "      <td>NaN</td>\n",
       "      <td>NaN</td>\n",
       "    </tr>\n",
       "    <tr>\n",
       "      <th>3</th>\n",
       "      <td>2016.09.17</td>\n",
       "      <td>17-Sep-16</td>\n",
       "      <td>2016</td>\n",
       "      <td>Unprovoked</td>\n",
       "      <td>AUSTRALIA</td>\n",
       "      <td>Victoria</td>\n",
       "      <td>Thirteenth Beach</td>\n",
       "      <td>Surfing</td>\n",
       "      <td>Rory Angiolella</td>\n",
       "      <td>M</td>\n",
       "      <td>...</td>\n",
       "      <td>NaN</td>\n",
       "      <td>The Age, 9/18/2016</td>\n",
       "      <td>2016.09.17-Angiolella.pdf</td>\n",
       "      <td>http://sharkattackfile.net/spreadsheets/pdf_di...</td>\n",
       "      <td>http://sharkattackfile.net/spreadsheets/pdf_di...</td>\n",
       "      <td>2016.09.17</td>\n",
       "      <td>2016.09.17</td>\n",
       "      <td>5990</td>\n",
       "      <td>NaN</td>\n",
       "      <td>NaN</td>\n",
       "    </tr>\n",
       "    <tr>\n",
       "      <th>4</th>\n",
       "      <td>2016.09.15</td>\n",
       "      <td>16-Sep-16</td>\n",
       "      <td>2016</td>\n",
       "      <td>Unprovoked</td>\n",
       "      <td>AUSTRALIA</td>\n",
       "      <td>Victoria</td>\n",
       "      <td>Bells Beach</td>\n",
       "      <td>Surfing</td>\n",
       "      <td>male</td>\n",
       "      <td>M</td>\n",
       "      <td>...</td>\n",
       "      <td>2 m shark</td>\n",
       "      <td>The Age, 9/16/2016</td>\n",
       "      <td>2016.09.16-BellsBeach.pdf</td>\n",
       "      <td>http://sharkattackfile.net/spreadsheets/pdf_di...</td>\n",
       "      <td>http://sharkattackfile.net/spreadsheets/pdf_di...</td>\n",
       "      <td>2016.09.16</td>\n",
       "      <td>2016.09.15</td>\n",
       "      <td>5989</td>\n",
       "      <td>NaN</td>\n",
       "      <td>NaN</td>\n",
       "    </tr>\n",
       "  </tbody>\n",
       "</table>\n",
       "<p>5 rows × 24 columns</p>\n",
       "</div>"
      ],
      "text/plain": [
       "    Case Number       Date  Year        Type    Country      Area  \\\n",
       "0  2016.09.18.c  18-Sep-16  2016  Unprovoked        USA   Florida   \n",
       "1  2016.09.18.b  18-Sep-16  2016  Unprovoked        USA   Florida   \n",
       "2  2016.09.18.a  18-Sep-16  2016  Unprovoked        USA   Florida   \n",
       "3    2016.09.17  17-Sep-16  2016  Unprovoked  AUSTRALIA  Victoria   \n",
       "4    2016.09.15  16-Sep-16  2016  Unprovoked  AUSTRALIA  Victoria   \n",
       "\n",
       "                           Location Activity             Name Sex   ...  \\\n",
       "0  New Smyrna Beach, Volusia County  Surfing             male    M  ...   \n",
       "1  New Smyrna Beach, Volusia County  Surfing   Chucky Luciano    M  ...   \n",
       "2  New Smyrna Beach, Volusia County  Surfing             male    M  ...   \n",
       "3                  Thirteenth Beach  Surfing  Rory Angiolella    M  ...   \n",
       "4                       Bells Beach  Surfing             male    M  ...   \n",
       "\n",
       "    Species        Investigator or Source                        pdf  \\\n",
       "0        NaN  Orlando Sentinel, 9/19/2016       2016.09.18.c-NSB.pdf   \n",
       "1        NaN  Orlando Sentinel, 9/19/2016   2016.09.18.b-Luciano.pdf   \n",
       "2        NaN  Orlando Sentinel, 9/19/2016       2016.09.18.a-NSB.pdf   \n",
       "3        NaN           The Age, 9/18/2016  2016.09.17-Angiolella.pdf   \n",
       "4  2 m shark           The Age, 9/16/2016  2016.09.16-BellsBeach.pdf   \n",
       "\n",
       "                                        href formula  \\\n",
       "0  http://sharkattackfile.net/spreadsheets/pdf_di...   \n",
       "1  http://sharkattackfile.net/spreadsheets/pdf_di...   \n",
       "2  http://sharkattackfile.net/spreadsheets/pdf_di...   \n",
       "3  http://sharkattackfile.net/spreadsheets/pdf_di...   \n",
       "4  http://sharkattackfile.net/spreadsheets/pdf_di...   \n",
       "\n",
       "                                                href Case Number.1  \\\n",
       "0  http://sharkattackfile.net/spreadsheets/pdf_di...  2016.09.18.c   \n",
       "1  http://sharkattackfile.net/spreadsheets/pdf_di...  2016.09.18.b   \n",
       "2  http://sharkattackfile.net/spreadsheets/pdf_di...  2016.09.18.a   \n",
       "3  http://sharkattackfile.net/spreadsheets/pdf_di...    2016.09.17   \n",
       "4  http://sharkattackfile.net/spreadsheets/pdf_di...    2016.09.16   \n",
       "\n",
       "  Case Number.2 original order Unnamed: 22 Unnamed: 23  \n",
       "0  2016.09.18.c           5993         NaN         NaN  \n",
       "1  2016.09.18.b           5992         NaN         NaN  \n",
       "2  2016.09.18.a           5991         NaN         NaN  \n",
       "3    2016.09.17           5990         NaN         NaN  \n",
       "4    2016.09.15           5989         NaN         NaN  \n",
       "\n",
       "[5 rows x 24 columns]"
      ]
     },
     "metadata": {},
     "output_type": "display_data"
    },
    {
     "data": {
      "text/plain": [
       "'Las dimensiones del dataframe son: '"
      ]
     },
     "metadata": {},
     "output_type": "display_data"
    },
    {
     "data": {
      "text/plain": [
       "(5992, 24)"
      ]
     },
     "metadata": {},
     "output_type": "display_data"
    }
   ],
   "source": [
    "%matplotlib inline\n",
    "import numpy as np\n",
    "import pandas as pd\n",
    "import re\n",
    "import matplotlib\n",
    "import matplotlib.pyplot as plt\n",
    "import seaborn as sns\n",
    "\n",
    "\n",
    "data = pd.read_csv('GSAF5.csv',  encoding='mac-roman')\n",
    "display(data.head())\n",
    "display('Las dimensiones del dataframe son: ', data.shape)"
   ]
  },
  {
   "cell_type": "markdown",
   "metadata": {},
   "source": [
    "# 0. Cleaning columns names"
   ]
  },
  {
   "cell_type": "markdown",
   "metadata": {},
   "source": [
    "Como primer paso, se eliminan los espacios al principio y final de los nombres de las columnas para que las mismas puedan ser referenciadas sin errores.\n",
    "A continuación, se aplica una fórmula para eliminar los espacios al principio y final de cada una de las celdas."
   ]
  },
  {
   "cell_type": "code",
   "execution_count": 2,
   "metadata": {},
   "outputs": [],
   "source": [
    "columns = data.columns\n",
    "col_names_clean = [name.strip() for name in columns]\n",
    "data.columns = col_names_clean\n",
    "data = data.applymap(lambda x: x.strip() if type(x) is str else x)"
   ]
  },
  {
   "cell_type": "markdown",
   "metadata": {},
   "source": [
    "#    1. Missing Values analysis"
   ]
  },
  {
   "cell_type": "code",
   "execution_count": 3,
   "metadata": {
    "scrolled": true
   },
   "outputs": [
    {
     "data": {
      "text/plain": [
       "Country                     43\n",
       "Area                       402\n",
       "Location                   496\n",
       "Activity                   527\n",
       "Name                       200\n",
       "Sex                        567\n",
       "Age                       2681\n",
       "Injury                      27\n",
       "Fatal (Y/N)                 19\n",
       "Time                      3213\n",
       "Species                   2934\n",
       "Investigator or Source      15\n",
       "href formula                 1\n",
       "href                         3\n",
       "Unnamed: 22               5991\n",
       "Unnamed: 23               5990\n",
       "dtype: int64"
      ]
     },
     "metadata": {},
     "output_type": "display_data"
    },
    {
     "data": {
      "text/plain": [
       "Case Number       0\n",
       "Date              0\n",
       "Year              0\n",
       "Type              0\n",
       "pdf               0\n",
       "Case Number.1     0\n",
       "Case Number.2     0\n",
       "original order    0\n",
       "dtype: int64"
      ]
     },
     "metadata": {},
     "output_type": "display_data"
    },
    {
     "data": {
      "text/plain": [
       "['Year', 'original order']"
      ]
     },
     "metadata": {},
     "output_type": "display_data"
    }
   ],
   "source": [
    "null_cols = data.isnull().sum()\n",
    "display(null_cols[null_cols > 0])\n",
    "display(null_cols[null_cols == 0])\n",
    "\n",
    "numeric_columns = [col for col in data._get_numeric_data()]\n",
    "display(numeric_columns)"
   ]
  },
  {
   "cell_type": "markdown",
   "metadata": {},
   "source": [
    "De acuerdo a los resultados anteriores, parece correcto concluir que las columnas \"Unnamed 22\" and \"Unnamed 23\" pueden ser eliminadas.\n",
    "Además, los únicos campos puramente numéricos, 'Year' y 'original order', no contienen nulos, por lo que no cabe estudiar si conviene completar esos nulos con ceros. El campo edad, que debería ser numérico, no lo es porque algunos registros contienen texto (que se limpiará o traducirá en pasos posteriores)."
   ]
  },
  {
   "cell_type": "code",
   "execution_count": 4,
   "metadata": {},
   "outputs": [],
   "source": [
    "drop_cols = ['Unnamed: 22', 'Unnamed: 23']"
   ]
  },
  {
   "cell_type": "markdown",
   "metadata": {},
   "source": [
    "Se observa también que el valor de los campos Case Number.1 y Case Number.2 es igual que el de Case Number. Lo verificamos con un bucle:"
   ]
  },
  {
   "cell_type": "code",
   "execution_count": 5,
   "metadata": {},
   "outputs": [
    {
     "name": "stdout",
     "output_type": "stream",
     "text": [
      "169 Mismatch founded 2015.07-10 2015.07.10 2015.07.10\n",
      "4719 Mismatch founded 1934.01.08.R 1934.02.08.R 1934.02.08.R\n"
     ]
    }
   ],
   "source": [
    "for i, row_value in data['Case Number'].iteritems():\n",
    "    if row_value != data['Case Number.1'][i] and row_value != data['Case Number.2'][i]:\n",
    "        print(i, 'Mismatch founded', row_value, data['Case Number.1'][i], data['Case Number.2'][i])"
   ]
  },
  {
   "cell_type": "markdown",
   "metadata": {},
   "source": [
    "Para mantener la columna 'Case Number', corregimos las discrepancias y eliminamos las columnas Case Number 1 y 2"
   ]
  },
  {
   "cell_type": "code",
   "execution_count": 6,
   "metadata": {},
   "outputs": [],
   "source": [
    "data.loc[169, 'Case Number'] = data['Case Number.1'][169]\n",
    "data.loc[4719, 'Case Number'] = data['Case Number.1'][4719]\n",
    "drop_cols += ['Case Number.1', 'Case Number.2']"
   ]
  },
  {
   "cell_type": "markdown",
   "metadata": {},
   "source": [
    "También a priori parece que el contenido de las columnas 'href formula' y 'href' es el mismo. Comprobamos:"
   ]
  },
  {
   "cell_type": "code",
   "execution_count": 7,
   "metadata": {},
   "outputs": [
    {
     "data": {
      "text/plain": [
       "\"Diferencias encontradas 'href' vs 'href formula' :\""
      ]
     },
     "metadata": {},
     "output_type": "display_data"
    },
    {
     "data": {
      "text/plain": [
       "53"
      ]
     },
     "metadata": {},
     "output_type": "display_data"
    }
   ],
   "source": [
    "mismatch_href_count = 0\n",
    "for i, row_value in data['href'].iteritems():\n",
    "    if row_value != data['href formula'][i]:\n",
    "        #print(i, 'Mismatch founded', row_value, data['href formula'][i])\n",
    "        mismatch_href_count += 1\n",
    "display(\"Diferencias encontradas 'href' vs 'href formula' :\", mismatch_href_count)"
   ]
  },
  {
   "cell_type": "markdown",
   "metadata": {},
   "source": [
    "Se puede ver que para 53 filas, los contenidos de las columnas no coinciden. Sin embargo, dado que este valor no llega al 1% de los registros, lo consideramos despreciable. Además, el contenido del campo no nos aporta información para nuestro análisis a alto nivel. Por tanto, eliminamos también la columna 'href'."
   ]
  },
  {
   "cell_type": "code",
   "execution_count": 8,
   "metadata": {},
   "outputs": [],
   "source": [
    "drop_cols += ['href']\n",
    "data = data.drop(drop_cols, axis=1)"
   ]
  },
  {
   "cell_type": "markdown",
   "metadata": {},
   "source": [
    "# 2. Incorrect data identification"
   ]
  },
  {
   "cell_type": "markdown",
   "metadata": {},
   "source": [
    "La primera idea que nos surge para comprobar la corrección de los datos es verificar si las ciudades que se lista en la columna Area pertenecen realmente al país en la columna Country. Para ello recurrimos a una librería externa, Geopy, pero nos encontramos el problema de que la ejecución de la verificación es muy lenta y de que los nombres de los países devueltos están en idioma y/o alfabeto local, con lo cual no se pueden comparar con el país mostrado en el dataset. Además, para algunas ciudades el servidor no devuelve resultad.\n",
    "\n",
    "Se incluye el código a continuación:"
   ]
  },
  {
   "cell_type": "code",
   "execution_count": 9,
   "metadata": {},
   "outputs": [],
   "source": [
    "#from geopy.geocoders import Nominatim\n",
    "#geolocator = Nominatim(timeout=3)\n",
    "#for i in range(len(data['Area'])):\n",
    "    #location = geolocator.geocode(data.loc[i, 'Area'])\n",
    "    #if location:\n",
    "    #   location = location.raw['display_name'].split(',')\n",
    "    #country = location['display_name'].split(',')\n",
    "    #if location[1].lower().strip() == data.loc[i, 'Country'].lower().strip():\n",
    "         #print(i, location[1].lower(), data.loc[i, 'Country'].lower())"
   ]
  },
  {
   "cell_type": "markdown",
   "metadata": {},
   "source": [
    "Como segundo paso a la comprobación de datos incorrectos, se podría verificar que el sexo de las víctimas coincide con el valor del campo nombre cuando en este último se incluye male o female."
   ]
  },
  {
   "cell_type": "code",
   "execution_count": 10,
   "metadata": {
    "scrolled": true
   },
   "outputs": [
    {
     "name": "stdout",
     "output_type": "stream",
     "text": [
      "397 female M Lacerations to right foot\n",
      "405 female M Arm bitten by captive shark PROVOKED INCIDENT\n",
      "1046 female M Cuts & punctures to right foot\n",
      "2000 male nan 2 small lacerations to bottom of foot\n",
      "2824 male nan Probable drowning & scavenging\n",
      "3068 male nan FATAL, thigh bitten\n",
      "4112 male nan Human remains found in shark\n",
      "4240 male nan Harpooned shark bit his forehead PROVOKED INCIDENT\n",
      "5018 male nan FATAL\n",
      "5603 female M Partial human remains found in 13' shark\n",
      "5779 male nan Lacerations to leg  PROVOKED INCIDENT\n",
      "5825 male nan FATAL\n",
      "5865 male nan Foot severed\n"
     ]
    }
   ],
   "source": [
    "for i in range(len(data['Sex'])):\n",
    "    if data.loc[i, 'Name'] == 'male' and data.loc[i, 'Sex'] != 'M' or data.loc[i, 'Name'] == 'female' and data.loc[i, 'Sex'] != 'F':\n",
    "        print(i, data.loc[i, 'Name'], data.loc[i, 'Sex'], data.loc[i, 'Injury'])"
   ]
  },
  {
   "cell_type": "markdown",
   "metadata": {},
   "source": [
    "Se puede utilizar estos resultados para rellenar aquellos valores nulos del campo 'Sex'. Por otro lado, el número de discrepancias encontradas es despreciable."
   ]
  },
  {
   "cell_type": "code",
   "execution_count": 11,
   "metadata": {},
   "outputs": [],
   "source": [
    "data.loc[2000, 'Sex'] = 'M'\n",
    "data.loc[2824, 'Sex'] = 'M'\n",
    "data.loc[3068, 'Sex'] = 'M'\n",
    "data.loc[4112, 'Sex'] = 'M'\n",
    "data.loc[4240, 'Sex'] = 'M'\n",
    "data.loc[5018, 'Sex'] = 'M'\n",
    "data.loc[5779, 'Sex'] = 'M'\n",
    "data.loc[5825, 'Sex'] = 'M'\n",
    "data.loc[5865, 'Sex'] = 'M'"
   ]
  },
  {
   "cell_type": "markdown",
   "metadata": {},
   "source": [
    "Se comprobará que todos los registros para los que el campo Injury indica 'FATAL', la columna 'Fatal (Y/N)' indica Y."
   ]
  },
  {
   "cell_type": "code",
   "execution_count": 12,
   "metadata": {},
   "outputs": [
    {
     "name": "stdout",
     "output_type": "stream",
     "text": [
      "2449 FATAL nan\n",
      "5718 FATAL nan\n"
     ]
    }
   ],
   "source": [
    "for i in range(len(data['Injury'])):\n",
    "    if data.loc[i, 'Injury'] == 'FATAL' and data.loc[i, 'Fatal (Y/N)'] != 'Y':\n",
    "        print(i, data.loc[i, 'Injury'], data.loc[i, 'Fatal (Y/N)'])"
   ]
  },
  {
   "cell_type": "markdown",
   "metadata": {},
   "source": [
    "A partir de las dos discrepancias anteriores, rellenamos el valor null:"
   ]
  },
  {
   "cell_type": "code",
   "execution_count": 13,
   "metadata": {},
   "outputs": [],
   "source": [
    "data.loc[2449, 'Fatal (Y/N)'] = 'Y'\n",
    "data.loc[5718, 'Fatal (Y/N)'] = 'Y'"
   ]
  },
  {
   "cell_type": "markdown",
   "metadata": {},
   "source": [
    "# 3. Data type correction"
   ]
  },
  {
   "cell_type": "markdown",
   "metadata": {},
   "source": [
    "Para empezar se comprueba que en la columna 'Date', muchos de los valores, a pesar de tener un formato similar al de una fecha en realidad no lo son, y otros incluyen caracteres de texto como 'Reported'. Para obtener las fechas exactas expresadas en formato fecha, se recurre a la columna 'Case Number'."
   ]
  },
  {
   "cell_type": "code",
   "execution_count": 14,
   "metadata": {},
   "outputs": [],
   "source": [
    "import datetime\n",
    "\n",
    "counter = 0\n",
    "for i in range(len(data['Case Number'])):\n",
    "    counter += 1\n",
    "    x = data.loc[i, 'Case Number']\n",
    "    #print(counter, x)\n",
    "    try:\n",
    "        year = int(x[:4])\n",
    "        month = int(x[5:7]) if int(x[5:7]) != 0 else 1\n",
    "        day = int(x[8:10]) if int(x[8:10]) != 0 else 1\n",
    "        #print(counter, x, '.....', year, month, day)\n",
    "        date_value = datetime.date(year, month, day)\n",
    "        data.loc[i, 'Date'] = date_value\n",
    "    except:\n",
    "        pass\n"
   ]
  },
  {
   "cell_type": "code",
   "execution_count": 15,
   "metadata": {},
   "outputs": [
    {
     "name": "stdout",
     "output_type": "stream",
     "text": [
      "Percentage of non valid dates:  2.069 %\n"
     ]
    }
   ],
   "source": [
    "data_counter_not_valid_date = 0\n",
    "for x in data['Date']:\n",
    "    if type(x) is not datetime.date:\n",
    "        data_counter_not_valid_date += 1\n",
    "print('Percentage of non valid dates: ', round(data_counter_not_valid_date/len(data['Date']) * 100, 3), '%')"
   ]
  },
  {
   "cell_type": "markdown",
   "metadata": {},
   "source": [
    "Gracias al código anterior, hemos conseguido transformar a objetos de fechas gran parte de los registros, lo que nos permitirá ubicarlos de forma correcta en un eje temporal. \n",
    "Comprobamos también que sólo un pequeño porcentaje de los registros (2.07%) no ha sido posible de ubicar de forma correcta. Estos registros, mediante análisis cualitativo, puede comprobarse que típicamente se corresponden con fechas muy lejanas."
   ]
  },
  {
   "cell_type": "markdown",
   "metadata": {},
   "source": [
    "Un vez que hemos rellenado correctamente el campo 'Date', se puede verificar que el año se corresponde con el valor del campo 'Year' mediante el código siguiente:"
   ]
  },
  {
   "cell_type": "code",
   "execution_count": 16,
   "metadata": {},
   "outputs": [
    {
     "name": "stdout",
     "output_type": "stream",
     "text": [
      "2449 Year mismatch      Valor del campo \"Date\":  1989-07-27      Valor del campo \"Year\":  1969     Valor de Case Number:  1989.07.27\n",
      "3662 Year mismatch      Valor del campo \"Date\":  1961-07-16      Valor del campo \"Year\":  1971     Valor de Case Number:  1961.07.16\n",
      "4312 Year mismatch      Valor del campo \"Date\":  1948-09-17      Valor del campo \"Year\":  1848     Valor de Case Number:  1948.09.17.R\n",
      "4983 Year mismatch      Valor del campo \"Date\":  1923-01-01      Valor del campo \"Year\":  1922     Valor de Case Number:  1923.00.00.a\n",
      "5043 Year mismatch      Valor del campo \"Date\":  1900-01-01      Valor del campo \"Year\":  1919     Valor de Case Number:  1900.00.00.R\n",
      "Percentage of mistmatches:  0.083 %\n"
     ]
    }
   ],
   "source": [
    "data_counter_error_years = 0\n",
    "\n",
    "for i, row_value in data['Year'].iteritems():\n",
    "    try:\n",
    "        if data['Date'][i].year != row_value:\n",
    "            print(i, 'Year mismatch', '     Valor del campo \"Date\": ', data['Date'][i], '     Valor del campo \"Year\": ', row_value, '    Valor de Case Number: ',data['Case Number'][i])\n",
    "            data_counter_error_years += 1\n",
    "    except:\n",
    "        pass\n",
    "    \n",
    "print('Percentage of mistmatches: ', round(data_counter_error_years/len(data['Year']) * 100, 3), '%')"
   ]
  },
  {
   "cell_type": "markdown",
   "metadata": {},
   "source": [
    "Se comprueba que para algunos registros, los valores de ambos campos no coinciden, por lo que procedemos a corregir el campo 'Year':"
   ]
  },
  {
   "cell_type": "code",
   "execution_count": 17,
   "metadata": {},
   "outputs": [],
   "source": [
    "data.loc[2449, 'Year'] = 1989\n",
    "data.loc[3662, 'Year'] = 1961\n",
    "data.loc[4312, 'Year'] = 1948\n",
    "data.loc[4983, 'Year'] = 1923\n",
    "data.loc[5043, 'Year'] = 1900"
   ]
  },
  {
   "cell_type": "markdown",
   "metadata": {},
   "source": [
    "A continuación se hará que todos los campos no númericos (todos menos 'Date', 'Year', 'original order' y 'Age'] sean strings."
   ]
  },
  {
   "cell_type": "code",
   "execution_count": 18,
   "metadata": {},
   "outputs": [
    {
     "data": {
      "text/plain": [
       "Case Number               object\n",
       "Date                      object\n",
       "Year                       int64\n",
       "Type                      object\n",
       "Country                   object\n",
       "Area                      object\n",
       "Location                  object\n",
       "Activity                  object\n",
       "Name                      object\n",
       "Sex                       object\n",
       "Age                       object\n",
       "Injury                    object\n",
       "Fatal (Y/N)               object\n",
       "Time                      object\n",
       "Species                   object\n",
       "Investigator or Source    object\n",
       "pdf                       object\n",
       "href formula              object\n",
       "original order             int64\n",
       "dtype: object"
      ]
     },
     "execution_count": 18,
     "metadata": {},
     "output_type": "execute_result"
    }
   ],
   "source": [
    "text_columns = ['Country', 'Area', 'Location', 'Activity', 'Name', 'Sex', 'Injury', 'Fatal (Y/N)', 'Time', 'Species', 'Investigator or Source', 'pdf', 'href formula']\n",
    "data[text_columns] = data[text_columns].astype('str')\n",
    "data['Country'] = data['Country'].astype(str)\n",
    "data.dtypes"
   ]
  },
  {
   "cell_type": "markdown",
   "metadata": {},
   "source": [
    "# 3. Values normalization"
   ]
  },
  {
   "cell_type": "markdown",
   "metadata": {},
   "source": [
    "Para facilitar las tareas de análisis finales, se tratará de normalizar los valores de cada columna en la medida de lo posible eliminando espacios y caracteres especiales."
   ]
  },
  {
   "cell_type": "markdown",
   "metadata": {},
   "source": [
    "COLUMNA 'Activity':"
   ]
  },
  {
   "cell_type": "code",
   "execution_count": 19,
   "metadata": {},
   "outputs": [
    {
     "data": {
      "text/plain": [
       "array(['Unprovoked', 'Boat', 'Provoked', 'Invalid', 'Sea Disaster',\n",
       "       'Boating'], dtype=object)"
      ]
     },
     "execution_count": 19,
     "metadata": {},
     "output_type": "execute_result"
    }
   ],
   "source": [
    "data['Type'].unique()"
   ]
  },
  {
   "cell_type": "markdown",
   "metadata": {},
   "source": [
    "Los resultados Boat y Boating paracen ser la misma categoría, por lo que normalizaremos los valores renombrado los 'boating' como 'boat'."
   ]
  },
  {
   "cell_type": "code",
   "execution_count": 20,
   "metadata": {},
   "outputs": [
    {
     "data": {
      "text/plain": [
       "array(['Unprovoked', 'Boat', 'Provoked', 'Invalid', 'Sea Disaster'],\n",
       "      dtype=object)"
      ]
     },
     "execution_count": 20,
     "metadata": {},
     "output_type": "execute_result"
    }
   ],
   "source": [
    "data['Type'] = data['Type'].str.replace('Boating', 'Boat')\n",
    "data['Type'].unique()"
   ]
  },
  {
   "cell_type": "markdown",
   "metadata": {},
   "source": [
    "COLUMNA 'Country':"
   ]
  },
  {
   "cell_type": "code",
   "execution_count": 21,
   "metadata": {},
   "outputs": [
    {
     "data": {
      "text/plain": [
       "array(['ADMIRALTY ISLANDS', 'ALGERIA', 'AMERICAN SAMOA',\n",
       "       'ANDAMAN / NICOBAR ISLANDAS', 'ANGOLA', 'ANTIGUA', 'ARGENTINA',\n",
       "       'ARUBA', 'ASIA?', 'ATLANTIC OCEAN', 'AUSTRALIA', 'AZORES',\n",
       "       'BAHAMAS', 'BAHREIN', 'BANGLADESH', 'BARBADOS', 'BAY OF BENGAL',\n",
       "       'BELIZE', 'BERMUDA', 'BRAZIL', 'BRITISH ISLES',\n",
       "       'BRITISH NEW GUINEA', 'BRITISH VIRGIN ISLANDS',\n",
       "       'BRITISH WEST INDIES', 'BURMA', 'Between PORTUGAL & INDIA',\n",
       "       'CANADA', 'CAPE VERDE', 'CARIBBEAN SEA', 'CAYMAN ISLANDS',\n",
       "       'CENTRAL PACIFIC', 'CEYLON (SRI LANKA)', 'CHILE', 'CHINA',\n",
       "       'COLUMBIA', 'COOK ISLANDS', 'COSTA RICA', 'CRETE', 'CROATIA',\n",
       "       'CUBA', 'CURACAO', 'CYPRUS', 'Coast of AFRICA', 'DIEGO GARCIA',\n",
       "       'DJIBOUTI', 'DOMINICAN REPUBLIC', 'ECUADOR', 'EGYPT',\n",
       "       'EGYPT / ISRAEL', 'EL SALVADOR', 'ENGLAND',\n",
       "       'EQUATORIAL GUINEA / CAMEROON', 'FALKLAND ISLANDS',\n",
       "       'FEDERATED STATES OF MICRONESIA', 'FIJI', 'FRANCE',\n",
       "       'FRENCH POLYNESIA', 'Fiji', 'GABON', 'GEORGIA', 'GHANA',\n",
       "       'GRAND CAYMAN', 'GREECE', 'GREENLAND', 'GRENADA', 'GUAM',\n",
       "       'GUATEMALA', 'GUINEA', 'GULF OF ADEN', 'GUYANA', 'HAITI',\n",
       "       'HONDURAS', 'HONG KONG', 'ICELAND', 'INDIA', 'INDIAN OCEAN',\n",
       "       'INDIAN OCEAN?', 'INDONESIA', 'IRAN', 'IRAN / IRAQ', 'IRAQ',\n",
       "       'IRELAND', 'ISRAEL', 'ITALY', 'ITALY / CROATIA', 'JAMAICA',\n",
       "       'JAPAN', 'JAVA', 'JOHNSTON ISLAND', 'KENYA', 'KIRIBATI', 'KOREA',\n",
       "       'KUWAIT', 'LEBANON', 'LIBERIA', 'LIBYA', 'MADAGASCAR', 'MALAYSIA',\n",
       "       'MALDIVE ISLANDS', 'MALTA', 'MARSHALL ISLANDS', 'MARTINIQUE',\n",
       "       'MAURITIUS', 'MAYOTTE', 'MEDITERRANEAN SEA', 'MEDITERRANEAN SEA?',\n",
       "       'MEXICO', 'MICRONESIA', 'MID ATLANTIC OCEAN', 'MID-PACIFC OCEAN',\n",
       "       'MONACO', 'MONTENEGRO', 'MOZAMBIQUE', 'NAMIBIA',\n",
       "       'NETHERLANDS ANTILLES', 'NEVIS', 'NEW BRITAIN', 'NEW CALEDONIA',\n",
       "       'NEW GUINEA', 'NEW ZEALAND', 'NICARAGUA', 'NIGERIA',\n",
       "       'NORTH ATLANTIC OCEAN', 'NORTH PACIFIC OCEAN', 'NORTH SEA',\n",
       "       'NORTHERN ARABIAN SEA', 'NORTHERN MARIANA ISLANDS', 'NORWAY',\n",
       "       'OCEAN', 'OKINAWA', 'PACIFIC OCEAN', 'PALAU',\n",
       "       'PALESTINIAN TERRITORIES', 'PANAMA', 'PAPUA NEW GUINEA',\n",
       "       'PARAGUAY', 'PERSIAN GULF', 'PHILIPPINES', 'PORTUGAL',\n",
       "       'PUERTO RICO', 'RED SEA', 'RED SEA / INDIAN OCEAN', 'RED SEA?',\n",
       "       'REUNION', 'RUSSIA', 'SAMOA', 'SAN DOMINGO', 'SAUDI ARABIA',\n",
       "       'SCOTLAND', 'SENEGAL', 'SEYCHELLES', 'SIERRA LEONE', 'SINGAPORE',\n",
       "       'SLOVENIA', 'SOLOMON ISLANDS', 'SOLOMON ISLANDS / VANUATU',\n",
       "       'SOMALIA', 'SOUTH AFRICA', 'SOUTH ATLANTIC OCEAN',\n",
       "       'SOUTH CHINA SEA', 'SOUTH KOREA', 'SOUTH PACIFIC OCEAN',\n",
       "       'SOUTHWEST PACIFIC OCEAN', 'SPAIN', 'SRI LANKA', 'ST. MAARTIN',\n",
       "       'ST. MARTIN', 'SUDAN', 'SUDAN?', 'SWEDEN', 'SYRIA', 'Seychelles',\n",
       "       'Sierra Leone', 'St Helena', 'TAIWAN', 'TANZANIA', 'TASMAN SEA',\n",
       "       'THAILAND', 'THE BALKANS', 'TONGA', 'TRINIDAD & TOBAGO', 'TUNISIA',\n",
       "       'TURKEY', 'TURKS & CAICOS', 'TUVALU', 'UNITED ARAB EMIRATES',\n",
       "       'UNITED ARAB EMIRATES (UAE)', 'UNITED KINGDOM', 'URUGUAY', 'USA',\n",
       "       'VANUATU', 'VENEZUELA', 'VIETNAM', 'WESTERN SAMOA', 'YEMEN', 'nan'],\n",
       "      dtype=object)"
      ]
     },
     "metadata": {},
     "output_type": "display_data"
    },
    {
     "data": {
      "text/plain": [
       "Country\n",
       "ADMIRALTY ISLANDS                1\n",
       "ALGERIA                          1\n",
       "AMERICAN SAMOA                   3\n",
       "ANDAMAN / NICOBAR ISLANDAS       1\n",
       "ANGOLA                           1\n",
       "ANTIGUA                          1\n",
       "ARGENTINA                        1\n",
       "ARUBA                            1\n",
       "ASIA?                            1\n",
       "ATLANTIC OCEAN                  16\n",
       "AUSTRALIA                     1279\n",
       "AZORES                           5\n",
       "BAHAMAS                         98\n",
       "BAHREIN                          1\n",
       "BANGLADESH                       1\n",
       "BARBADOS                         5\n",
       "BAY OF BENGAL                    1\n",
       "BELIZE                           3\n",
       "BERMUDA                         16\n",
       "BRAZIL                         102\n",
       "BRITISH ISLES                    1\n",
       "BRITISH NEW GUINEA               1\n",
       "BRITISH VIRGIN ISLANDS           1\n",
       "BRITISH WEST INDIES              1\n",
       "BURMA                            4\n",
       "Between PORTUGAL & INDIA         1\n",
       "CANADA                          10\n",
       "CAPE VERDE                       3\n",
       "CARIBBEAN SEA                    8\n",
       "CAYMAN ISLANDS                   2\n",
       "                              ... \n",
       "ST. MARTIN                       1\n",
       "SUDAN                            4\n",
       "SUDAN?                           1\n",
       "SWEDEN                           1\n",
       "SYRIA                            1\n",
       "Seychelles                       1\n",
       "Sierra Leone                     1\n",
       "St Helena                        1\n",
       "TAIWAN                           9\n",
       "TANZANIA                         8\n",
       "TASMAN SEA                       1\n",
       "THAILAND                         6\n",
       "THE BALKANS                      1\n",
       "TONGA                           18\n",
       "TRINIDAD & TOBAGO                3\n",
       "TUNISIA                          3\n",
       "TURKEY                          12\n",
       "TURKS & CAICOS                   5\n",
       "TUVALU                           1\n",
       "UNITED ARAB EMIRATES             1\n",
       "UNITED ARAB EMIRATES (UAE)       2\n",
       "UNITED KINGDOM                  10\n",
       "URUGUAY                          3\n",
       "USA                           2116\n",
       "VANUATU                         14\n",
       "VENEZUELA                       11\n",
       "VIETNAM                         14\n",
       "WESTERN SAMOA                    1\n",
       "YEMEN                            9\n",
       "nan                             43\n",
       "Length: 196, dtype: int64"
      ]
     },
     "metadata": {},
     "output_type": "display_data"
    }
   ],
   "source": [
    "display(np.sort(data['Country'].unique()))\n",
    "display(data.groupby(['Country']).size())\n",
    "#display(data.groupby('Country').count())"
   ]
  },
  {
   "cell_type": "markdown",
   "metadata": {},
   "source": [
    "Se observa que no se repiten los valores de los países, aunque hay uno de ellos que no es un país \"Diego García\" y la mayoría de los países aparecen en un único registro."
   ]
  },
  {
   "cell_type": "markdown",
   "metadata": {},
   "source": [
    "COLUMNA 'Area':\n",
    "La información de esta columna, pese a ser interesante, es demasiado específica y contiene muchos valores distintos, por lo que no se normalizará para el análisis:"
   ]
  },
  {
   "cell_type": "code",
   "execution_count": 22,
   "metadata": {},
   "outputs": [
    {
     "data": {
      "text/plain": [
       "Area\n",
       "\"Head of the Gulf\"                                                  1\n",
       "(Southwestern Pacific)                                              1\n",
       "04.05N-13.23W                                                       1\n",
       "1,000 miles east of Hawaii                                          1\n",
       "1000 miles west of Hawaii                                           2\n",
       "10∫S, 142∫E                                                         1\n",
       "12 miles off the north coast                                        1\n",
       "150 miles offshore                                                  1\n",
       "165  miles from Bermuda                                             1\n",
       "180 miles southeast of Okinawa                                      1\n",
       "18S / 50E                                                           1\n",
       "19S, 178?E                                                          1\n",
       "2 to 3 miles off Taboguilla Island, Pacific Ocean                   1\n",
       "200 nm southeast of Manila                                          1\n",
       "22∫N, 88∫E                                                          4\n",
       "25 km off the coast of Iran & 483km from mouth of Persian Gulf      1\n",
       "250 miles southwest of O'ahu, Hawaii                                1\n",
       "30 nm from Singapore                                                1\n",
       "300 miles east of Luzon                                             1\n",
       "300 miles east of St. Thomas (Virgin Islands)                       1\n",
       "300 miles from Antigua                                              1\n",
       "330 to 350 miles east of Wake Island                                1\n",
       "33N, 68W                                                            1\n",
       "35∫39 : 165∫8'                                                      1\n",
       "40 miles south of Naples                                            1\n",
       "400 miles southeast of Sri Lanka                                    1\n",
       "5aint-Denis                                                         1\n",
       "60 miles north of San Domingo in the West Indies                    1\n",
       "600 nm west of the Canary Islands                                   1\n",
       "740 miles SE of Tarawa Atoll                                        1\n",
       "                                                                 ... \n",
       "Wallis and Futuna                                                   1\n",
       "Washington                                                          1\n",
       "West Africa                                                         1\n",
       "West Bengal                                                         8\n",
       "West End                                                            2\n",
       "West New Britain Province                                           7\n",
       "West coast                                                          1\n",
       "West of Ceylon (Sri  Lanka)                                         1\n",
       "Western Area                                                        7\n",
       "Western Australia                                                 172\n",
       "Western Banks                                                       1\n",
       "Western Cape Province                                             188\n",
       "Western Caroline Islands                                            3\n",
       "Western Caroline Islands (North Pacific Ocean)                      1\n",
       "Western District                                                    1\n",
       "Western Luzon Island                                                1\n",
       "Western Papuan Gulf                                                 1\n",
       "Western Province                                                    5\n",
       "Western Viscayas                                                    1\n",
       "Westmoreland Parish                                                 3\n",
       "Woodlark Islands                                                    1\n",
       "Worcestershire                                                      1\n",
       "Yasawa Islands                                                      3\n",
       "Ysabel Island                                                       1\n",
       "Yucatan Channel                                                     1\n",
       "Zadar County                                                        4\n",
       "Zambesi River                                                       1\n",
       "Zamboanga del Sur Province                                          3\n",
       "dí…tang-SalÈ                                                        2\n",
       "nan                                                               402\n",
       "Length: 764, dtype: int64"
      ]
     },
     "metadata": {},
     "output_type": "display_data"
    }
   ],
   "source": [
    "display(data.groupby(['Area']).size())"
   ]
  },
  {
   "cell_type": "markdown",
   "metadata": {},
   "source": [
    "COLUMNA 'Name':\n",
    "No contiene información relevante para el análisis más allá del sexo de algunas víctimas usada en apartados anteriores."
   ]
  },
  {
   "cell_type": "markdown",
   "metadata": {},
   "source": [
    "COLUMNA 'Injury':\n",
    "No contiene información relevante nuestro análisis al tener muchos resultados unívocos. Sólo ha sido usada anteriormente para corregir o completar los valores de 'Fatal Y/N' La información relacionada con esta columna que usaremos será la de la columna 'Fatal Y/N'. más allá del sexo de algunas víctimas usada en apartados anteriores."
   ]
  },
  {
   "cell_type": "markdown",
   "metadata": {},
   "source": [
    "COLUMNA 'Fatal Y/N':"
   ]
  },
  {
   "cell_type": "code",
   "execution_count": 23,
   "metadata": {},
   "outputs": [
    {
     "data": {
      "text/plain": [
       "array(['N', 'Y', 'nan', 'UNKNOWN', 'F', '#VALUE!', 'n'], dtype=object)"
      ]
     },
     "metadata": {},
     "output_type": "display_data"
    },
    {
     "data": {
      "text/plain": [
       "Fatal (Y/N)\n",
       "#VALUE!       1\n",
       "F             1\n",
       "N          4324\n",
       "UNKNOWN      94\n",
       "Y          1554\n",
       "n             1\n",
       "nan          17\n",
       "dtype: int64"
      ]
     },
     "metadata": {},
     "output_type": "display_data"
    }
   ],
   "source": [
    "display(data['Fatal (Y/N)'].unique())\n",
    "display(data.groupby(['Fatal (Y/N)']).size())"
   ]
  },
  {
   "cell_type": "code",
   "execution_count": 24,
   "metadata": {},
   "outputs": [],
   "source": [
    "\"\"\"\n",
    "Corregimos transformando:\n",
    "n -> N\n",
    "F -> Y\n",
    "nan -> UNKNOWN\n",
    "VALUE! -> UNKNOWN\n",
    "\"\"\"\n",
    "data['Fatal (Y/N)'] = data['Fatal (Y/N)'].str.replace('nan', 'UNKNOWN').replace('n', 'N').replace('F', 'Y').replace('#VALUE!', 'UNKNOWN')"
   ]
  },
  {
   "cell_type": "markdown",
   "metadata": {},
   "source": [
    "COLUMNA 'Age':\n",
    "\n",
    "En primer lugar, sustituimos los valores 'Teen' por el valor 15 (edad estimada).\n",
    "Para todos los valores, la función aplicada extrae únicamente los valores numéricos. En caso de que se hayan devuelto cero o más de 2 valores, rellenamos con ceros.\n",
    "Finalmente, rellenamos todos los ceros con el valor medio de los valores correctos."
   ]
  },
  {
   "cell_type": "code",
   "execution_count": 25,
   "metadata": {},
   "outputs": [
    {
     "data": {
      "text/plain": [
       "0       16\n",
       "1       36\n",
       "2       43\n",
       "3       27\n",
       "4       27\n",
       "5       27\n",
       "6       60\n",
       "7       51\n",
       "8       50\n",
       "9       12\n",
       "10      27\n",
       "11       9\n",
       "12      22\n",
       "13      25\n",
       "14      37\n",
       "15      20\n",
       "16      49\n",
       "17      15\n",
       "18      21\n",
       "19      22\n",
       "20      40\n",
       "21      72\n",
       "22      27\n",
       "23      43\n",
       "24      18\n",
       "25      29\n",
       "26      36\n",
       "27      27\n",
       "28      31\n",
       "29      27\n",
       "        ..\n",
       "5962    27\n",
       "5963    27\n",
       "5964    27\n",
       "5965    27\n",
       "5966    16\n",
       "5967    27\n",
       "5968    27\n",
       "5969    27\n",
       "5970    27\n",
       "5971    27\n",
       "5972    27\n",
       "5973    27\n",
       "5974    27\n",
       "5975    27\n",
       "5976    27\n",
       "5977    27\n",
       "5978    27\n",
       "5979    27\n",
       "5980    27\n",
       "5981    27\n",
       "5982    27\n",
       "5983    27\n",
       "5984    27\n",
       "5985    27\n",
       "5986    27\n",
       "5987    27\n",
       "5988    27\n",
       "5989    27\n",
       "5990    27\n",
       "5991    15\n",
       "Name: Age, Length: 5992, dtype: int64"
      ]
     },
     "execution_count": 25,
     "metadata": {},
     "output_type": "execute_result"
    }
   ],
   "source": [
    "try:\n",
    "    data['Age'] = data['Age'].str.replace('Teen', 15)\n",
    "except:\n",
    "    pass\n",
    "\n",
    "def translate_age(row_value):\n",
    "    try:\n",
    "        numbers = re.findall('[0-9]', row_value)\n",
    "        if len(numbers) == 1 or len(numbers) == 2:\n",
    "            return int(''.join(numbers))\n",
    "        else:\n",
    "            return 0\n",
    "    except:\n",
    "        return 0\n",
    "    \n",
    "data['Age'] = data['Age'].apply(translate_age)\n",
    "\n",
    "mean_age = data['Age'][(data['Age'] > 0)].mean()\n",
    "data.loc[(data['Age']==0), 'Age'] = round(mean_age, 2)\n",
    "\n",
    "data['Age'] = data['Age'].astype('int64')\n",
    "\n",
    "data['Age']"
   ]
  },
  {
   "cell_type": "markdown",
   "metadata": {},
   "source": [
    "COLUMNA 'Species':\n",
    "Para esta columna, podría ser interesante normalizar los datos sustituyendo los valores de la columna por el nombre del tiburón, por ejemplo 'White', 'Bull' y 'Grey'. Pero dado que muchos de los registros no contienen ninguna referencia a la especie del tiburón atacante, o incluso están en blanco, la información aportada por el campo estaría muy sesgada.\n",
    "Debido al alto número de distintos tipos de tiburones reportados."
   ]
  },
  {
   "cell_type": "code",
   "execution_count": 26,
   "metadata": {},
   "outputs": [
    {
     "data": {
      "text/plain": [
       "array(['nan', '2 m shark', \"3' to 4' shark\", ..., \"12' tiger shark\",\n",
       "       'Blue pointers',\n",
       "       'Said to involve a grey nurse shark that leapt out of the water and  seized the boy but species identification is questionable'],\n",
       "      dtype=object)"
      ]
     },
     "metadata": {},
     "output_type": "display_data"
    },
    {
     "data": {
      "text/plain": [
       "Species\n",
       "                                                                                                                                      6\n",
       "\"A 2' (0.6 m) brown shark\"                                                                                                            1\n",
       "\"A long thin brown-colored shark\"                                                                                                     1\n",
       "\"A pack of 6 sharks\"                                                                                                                  1\n",
       "\"A pack of sharks\"                                                                                                                    1\n",
       "\"A small shark\"                                                                                                                       2\n",
       "\"Attacked by a number of sharks\"                                                                                                      1\n",
       "\"Blue nose shark\"                                                                                                                     1\n",
       "\"Blue nose sharks\"                                                                                                                    1\n",
       "\"Blue whaler\" (Galeolamna)                                                                                                            1\n",
       "\"Dog shark\"                                                                                                                           1\n",
       "\"Shark caught later\"                                                                                                                  1\n",
       "\"Shark had a very large girth\"                                                                                                        1\n",
       "\"The fish was harpooned, dried, and presented to the sailor, who went round Europe exhibiting it  It was said to be 20 feet long.     1\n",
       "\"Tintorero\"                                                                                                                           1\n",
       "\"a black-tipped shark\"                                                                                                                1\n",
       "\"a blue shark\"                                                                                                                        1\n",
       "\"a dog shark\"                                                                                                                         3\n",
       "\"a large shark\"                                                                                                                       2\n",
       "\"a little shark\"                                                                                                                      1\n",
       "\"a school of sharks\"                                                                                                                  1\n",
       "\"a small shark\"                                                                                                                      13\n",
       "\"a very large shark\"                                                                                                                  1\n",
       "\"a young shark\"                                                                                                                       1\n",
       "\"black tipped\" shark                                                                                                                  1\n",
       "\"gray shark\"                                                                                                                          1\n",
       "\"grey shark\"                                                                                                                          1\n",
       "\"grey-colored shark\"                                                                                                                  1\n",
       "\"gummy\" shark (Rhizoprionodon or Loxodon) 1.2 m [4']                                                                                  1\n",
       "\"juvenile shark\"                                                                                                                      1\n",
       "                                                                                                                                     ..\n",
       "possibly a bull shark                                                                                                                 1\n",
       "possibly a porbeagle shark                                                                                                            1\n",
       "possibly a small blacktip shark                                                                                                       1\n",
       "reef shark                                                                                                                            2\n",
       "reef shark, 1.5m                                                                                                                      1\n",
       "reef shark, 1.8m                                                                                                                      1\n",
       "reef shark, 1m                                                                                                                        1\n",
       "reef shark?                                                                                                                           3\n",
       "said to involve 2.5 m hammerhead sharks                                                                                               1\n",
       "said to involve a tiger shark                                                                                                         1\n",
       "said to involve an oceanic whitetip shark                                                                                             1\n",
       "sand shark                                                                                                                            1\n",
       "sandtiger shark                                                                                                                       1\n",
       "shark involvement not confirmed                                                                                                       1\n",
       "small blacktip shark                                                                                                                  2\n",
       "small blacktip shark?                                                                                                                 2\n",
       "small blue shark                                                                                                                      1\n",
       "small carpet shark                                                                                                                    1\n",
       "small catsharks                                                                                                                       1\n",
       "small hammerhead shark                                                                                                                1\n",
       "small nurse shark                                                                                                                     2\n",
       "small shark                                                                                                                           4\n",
       "small sharks                                                                                                                          2\n",
       "small sharks'                                                                                                                         1\n",
       "unknown, possibly a white shark                                                                                                       1\n",
       "whaler shark                                                                                                                          1\n",
       "white shark                                                                                                                           1\n",
       "white shark, 15'                                                                                                                      1\n",
       "ìsmall brown sharkî                                                                                                                   1\n",
       "†                                                                                                                                     2\n",
       "Length: 1460, dtype: int64"
      ]
     },
     "metadata": {},
     "output_type": "display_data"
    }
   ],
   "source": [
    "display(data['Species'].unique())\n",
    "display(data.groupby(['Species']).size())"
   ]
  },
  {
   "cell_type": "markdown",
   "metadata": {},
   "source": [
    "No existen columnas susceptibles de ser analizadas para determinar una varianza baja, por lo que no se llevará a cabo esa parte del roceso de limipieza.\n",
    "Sí se eliminarán registros duplicados."
   ]
  },
  {
   "cell_type": "code",
   "execution_count": 27,
   "metadata": {},
   "outputs": [],
   "source": [
    "data = data.drop_duplicates()"
   ]
  },
  {
   "cell_type": "markdown",
   "metadata": {},
   "source": [
    "Finalmente se exporta el archivo:"
   ]
  },
  {
   "cell_type": "code",
   "execution_count": null,
   "metadata": {},
   "outputs": [],
   "source": []
  },
  {
   "cell_type": "code",
   "execution_count": 28,
   "metadata": {},
   "outputs": [],
   "source": [
    "data.to_csv('shark_attacks_ds_clean.csv', index=False)"
   ]
  },
  {
   "cell_type": "markdown",
   "metadata": {},
   "source": [
    "# Conclusions"
   ]
  },
  {
   "cell_type": "code",
   "execution_count": 29,
   "metadata": {},
   "outputs": [
    {
     "data": {
      "text/plain": [
       "<matplotlib.axes._subplots.AxesSubplot at 0x11d0b44a8>"
      ]
     },
     "execution_count": 29,
     "metadata": {},
     "output_type": "execute_result"
    },
    {
     "data": {
      "image/png": "[encoded data removed]",
      "text/plain": [
       "<Figure size 432x288 with 1 Axes>"
      ]
     },
     "metadata": {},
     "output_type": "display_data"
    }
   ],
   "source": [
    "sns.set()\n",
    "years_count = data['Year'].value_counts().sort_index()\n",
    "years_count.plot(title = 'Attacks per year')"
   ]
  },
  {
   "cell_type": "markdown",
   "metadata": {},
   "source": [
    "Observamos que el gráfico no muestra con precisión la evolución de ataques de tiburón registrados por año, ya que el eje es muy extenso y antes de 1850 aproximadamente no se manejaban datos.\n",
    "Debido a esto, filtramos los datos de la columna año para aquellos posteriores a 1850 y representamos de nuevo:"
   ]
  },
  {
   "cell_type": "code",
   "execution_count": 30,
   "metadata": {},
   "outputs": [
    {
     "data": {
      "text/plain": [
       "<matplotlib.axes._subplots.AxesSubplot at 0x11d0dc320>"
      ]
     },
     "execution_count": 30,
     "metadata": {},
     "output_type": "execute_result"
    },
    {
     "data": {
      "image/png": "[encoded data removed]",
      "text/plain": [
       "<Figure size 432x288 with 1 Axes>"
      ]
     },
     "metadata": {},
     "output_type": "display_data"
    }
   ],
   "source": [
    "significant_years = data['Year'][(data['Year'] > 1850)]\n",
    "significant_years_count = significant_years.value_counts().sort_index()\n",
    "significant_years_count.plot(title=\"Attacks per year\")"
   ]
  },
  {
   "cell_type": "markdown",
   "metadata": {},
   "source": [
    "Efectivamente, ahora sí podemos comprobar cómo la evolución del número de ataques registrados ha sido creciente, teniendo un pico en el año 1960 y aumentando la pendiente de crecimiento de forma considerable a partir de 1990 aproximadamente."
   ]
  },
  {
   "cell_type": "code",
   "execution_count": 31,
   "metadata": {},
   "outputs": [
    {
     "data": {
      "text/plain": [
       "<matplotlib.axes._subplots.AxesSubplot at 0x109f9fb00>"
      ]
     },
     "execution_count": 31,
     "metadata": {},
     "output_type": "execute_result"
    },
    {
     "data": {
      "image/png": "[encoded data removed]",
      "text/plain": [
       "<Figure size 432x288 with 1 Axes>"
      ]
     },
     "metadata": {},
     "output_type": "display_data"
    }
   ],
   "source": [
    "attack_type = data[(data['Year'] > 1850)]['Type'].value_counts()\n",
    "attack_type.plot(kind='bar', title = 'Attack type')"
   ]
  },
  {
   "cell_type": "markdown",
   "metadata": {},
   "source": [
    "Se comprueba que la mayor parte de los ataques son no provocados, es decir, que el tiburón ataca en primera instancia cuando se está realizando algún tipo de actividad naútica o similar (ver siguiente gráfico)."
   ]
  },
  {
   "cell_type": "code",
   "execution_count": 32,
   "metadata": {},
   "outputs": [
    {
     "data": {
      "text/plain": [
       "<matplotlib.axes._subplots.AxesSubplot at 0x10a260128>"
      ]
     },
     "execution_count": 32,
     "metadata": {},
     "output_type": "execute_result"
    },
    {
     "data": {
      "image/png": "[encoded data removed]",
      "text/plain": [
       "<Figure size 432x288 with 1 Axes>"
      ]
     },
     "metadata": {},
     "output_type": "display_data"
    }
   ],
   "source": [
    "activity = data[(data['Year'] > 1850)]['Activity'].value_counts().head(10)\n",
    "activity.plot(kind='bar', title = 'Attack type')"
   ]
  },
  {
   "cell_type": "markdown",
   "metadata": {},
   "source": [
    "De acuerdo con la conclusión anterior, se observa que gran parte de los ataques se producen durante actividades de ocio no realizadas con la pesca de tiburones, como el surf y la natación. Por tanto, el mayor riesgo está en aquellos deportes náuticos en los que la víctima potencial se encuentra en contacto directo con el agua."
   ]
  },
  {
   "cell_type": "markdown",
   "metadata": {},
   "source": [
    "Analizamos a continuación la mortalidad confirmada, expresado en porcentajes sobre el total:"
   ]
  },
  {
   "cell_type": "code",
   "execution_count": 34,
   "metadata": {},
   "outputs": [
    {
     "data": {
      "text/plain": [
       "<matplotlib.axes._subplots.AxesSubplot at 0x11bf3e358>"
      ]
     },
     "execution_count": 34,
     "metadata": {},
     "output_type": "execute_result"
    },
    {
     "data": {
      "image/png": "[encoded data removed]",
      "text/plain": [
       "<Figure size 432x288 with 1 Axes>"
      ]
     },
     "metadata": {},
     "output_type": "display_data"
    }
   ],
   "source": [
    "fatality = data[(data['Year'] > 1850)]['Fatal (Y/N)'].value_counts(normalize = True)\n",
    "fatality.plot(kind='bar', title = 'Attack type')"
   ]
  },
  {
   "cell_type": "markdown",
   "metadata": {},
   "source": [
    "En la mayoría de los casos reportados, solo un 25% aprox. de las víctimas fallece, frente al 73% aprox que sobrevive. De un 2% de los casos restantes se desconoce el final. Faltaría investigar en más profundidad el nivel de daño causado a los supervivientes si se dispusiera de un campo estandarizado a ese respecto."
   ]
  },
  {
   "cell_type": "code",
   "execution_count": null,
   "metadata": {},
   "outputs": [],
   "source": []
  }
 ],
 "metadata": {
  "kernelspec": {
   "display_name": "Python 3",
   "language": "python",
   "name": "python3"
  },
  "language_info": {
   "codemirror_mode": {
    "name": "ipython",
    "version": 3
   },
   "file_extension": ".py",
   "mimetype": "text/x-python",
   "name": "python",
   "nbconvert_exporter": "python",
   "pygments_lexer": "ipython3",
   "version": "3.7.3"
  }
 },
 "nbformat": 4,
 "nbformat_minor": 2
}
