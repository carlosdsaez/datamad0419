{
 "cells": [
  {
   "cell_type": "markdown",
   "metadata": {},
   "source": [
    "In the cell below, create a Python function that wraps your previous solution for the Bag of Words lab.\n",
    "\n",
    "Requirements:\n",
    "\n",
    "1. Your function should accept the following parameters:\n",
    "    * `docs` [REQUIRED] - array of document paths.\n",
    "    * `stop_words` [OPTIONAL] - array of stop words. The default value is an empty array.\n",
    "\n",
    "1. Your function should return a Python object that contains the following:\n",
    "    * `bag_of_words` - array of strings of normalized unique words in the corpus.\n",
    "    * `term_freq` - array of the term-frequency vectors."
   ]
  },
  {
   "cell_type": "code",
   "execution_count": 1,
   "metadata": {},
   "outputs": [
    {
     "name": "stdout",
     "output_type": "stream",
     "text": [
      "{'bag_of_words': ['ironhack', 'is', 'cool', 'i', 'love', 'am', 'a', 'student', 'at'], 'term_freq': [[1, 1, 1, 0, 0, 0, 0, 0, 0], [1, 0, 0, 1, 1, 0, 0, 0, 0], [1, 0, 0, 1, 0, 1, 1, 1, 1]]}\n"
     ]
    }
   ],
   "source": [
    "\n",
    "def get_bow_from_docs(docs, stop_words=[]):\n",
    "\n",
    "    # In the function, first define the variables you will use such as `corpus`, `bag_of_words`, and `term_freq`.\n",
    "    corpus = []\n",
    "    bag_of_words = []\n",
    "    term_freq = []\n",
    "    \"\"\"\n",
    "    Loop `docs` and read the content of each doc into a string in `corpus`.\n",
    "    Remember to convert the doc content to lowercases and remove punctuation.\n",
    "    \"\"\"\n",
    "    for doc in docs:\n",
    "        with open(doc, 'r') as doc:\n",
    "            corpus.append(doc.read().replace('.', '').lower())\n",
    "    \n",
    "        \"\"\"\n",
    "    Loop `corpus`. Append the terms in each doc into the `bag_of_words` array. The terms in `bag_of_words` \n",
    "    should be unique which means before adding each term you need to check if it's already added to the array.\n",
    "    In addition, check if each term is in the `stop_words` array. Only append the term to `bag_of_words`\n",
    "    if it is not a stop word.\n",
    "    \"\"\"\n",
    "        \n",
    "    for i in corpus:\n",
    "        for word in i.split(' '):\n",
    "            if word not in bag_of_words and word not in stop_words: bag_of_words.append(word)\n",
    "                \n",
    "    \"\"\"\n",
    "    Loop `corpus` again. For each doc string, count the number of occurrences of each term in `bag_of_words`. \n",
    "    Create an array for each doc's term frequency and append it to `term_freq`.\n",
    "    \"\"\"\n",
    "    \n",
    "    for i in corpus:\n",
    "        freq = []\n",
    "        for word in bag_of_words:\n",
    "            counter = 0\n",
    "            for term in i.split(' '):\n",
    "                if term == word: counter += 1\n",
    "            freq.append(counter)\n",
    "        term_freq.append(freq)  \n",
    "    \n",
    "    # Now return your output as an object\n",
    "    return {\n",
    "        \"bag_of_words\": bag_of_words,\n",
    "        \"term_freq\": term_freq\n",
    "    }\n",
    "\n",
    "path = '../../lab-bag-of-words/your-code/'\n",
    "docs = [ path + 'doc1.txt', path + 'doc2.txt', path + 'doc3.txt']\n",
    "\n",
    "print(get_bow_from_docs(docs))"
   ]
  },
  {
   "cell_type": "markdown",
   "metadata": {},
   "source": [
    "Test your function without stop words. You should see the output like below:\n",
    "\n",
    "```{'bag_of_words': ['ironhack', 'is', 'cool', 'i', 'love', 'am', 'a', 'student', 'at'], 'term_freq': [[1, 1, 1, 0, 0, 0, 0, 0, 0], [1, 0, 0, 1, 1, 0, 0, 0, 0], [1, 0, 0, 1, 0, 1, 1, 1, 1]]}```"
   ]
  },
  {
   "cell_type": "code",
   "execution_count": 2,
   "metadata": {},
   "outputs": [
    {
     "name": "stdout",
     "output_type": "stream",
     "text": [
      "{'bag_of_words': ['ironhack', 'is', 'cool', 'i', 'love', 'am', 'a', 'student', 'at'], 'term_freq': [[1, 1, 1, 0, 0, 0, 0, 0, 0], [1, 0, 0, 1, 1, 0, 0, 0, 0], [1, 0, 0, 1, 0, 1, 1, 1, 1]]}\n"
     ]
    }
   ],
   "source": [
    "# Define doc paths array\n",
    "docs = [ path + 'doc1.txt', path + 'doc2.txt', path + 'doc3.txt']\n",
    "\n",
    "# Obtain BoW from your function\n",
    "bow = get_bow_from_docs(docs)\n",
    "\n",
    "# Print BoW\n",
    "print(bow)"
   ]
  },
  {
   "cell_type": "markdown",
   "metadata": {},
   "source": [
    "If your attempt above is successful, nice work done!\n",
    "\n",
    "Now test your function again with the stop words. In the previous lab we defined the stop words in a large array. In this lab, we'll import the stop words from Scikit-Learn."
   ]
  },
  {
   "cell_type": "code",
   "execution_count": 3,
   "metadata": {},
   "outputs": [
    {
     "name": "stdout",
     "output_type": "stream",
     "text": [
      "frozenset({'others', 'alone', 'serious', 'back', 'too', 'system', 'thereafter', 'sometimes', 'two', 'became', 'eleven', 'thence', 'beforehand', 'at', 'our', 'should', 'de', 'about', 'whereupon', 'what', 'has', 'neither', 'show', 'amoungst', 'twenty', 'hundred', 'amount', 'one', 'meanwhile', 'very', 'twelve', 'by', 'will', 'same', 'nowhere', 'latterly', 'top', 'but', 'where', 'beyond', 'even', 'detail', 'she', 'you', 'in', 'both', 'yourselves', 'couldnt', 'above', 'after', 'to', 'cry', 'found', 'whom', 'anything', 'still', 'because', 'nor', 'it', 'side', 'un', 'name', 'from', 'describe', 'for', 'front', 'on', 'now', 'herein', 'ourselves', 'whenever', 'though', 'rather', 'do', 'of', 'give', 'wherever', 'why', 'anyone', 'he', 'hasnt', 'thereby', 'when', 'last', 'hereafter', 'which', 'been', 'cant', 'we', 'becomes', 'fire', 'those', 'yours', 'toward', 'fifteen', 'every', 'namely', 'below', 'often', 'down', 'bill', 'myself', 'either', 'around', 'then', 'an', 'further', 'each', 'nine', 'hence', 'least', 'up', 'everything', 're', 'get', 'themselves', 'had', 'against', 'thereupon', 'without', 'yet', 'have', 'ours', 'him', 'and', 'was', 'whether', 'thick', 'thru', 'part', 'although', 'many', 'no', 'can', 'become', 'somehow', 'onto', 'upon', 'is', 'call', 'within', 'during', 'somewhere', 'besides', 'her', 'are', 'fifty', 'again', 'mine', 'once', 'am', 'only', 'find', 'so', 'sixty', 'ltd', 'mill', 'own', 'thus', 'along', 'as', 'well', 'be', 'co', 'perhaps', 'go', 'per', 'always', 'that', 'interest', 'elsewhere', 'six', 'my', 'eight', 'yourself', 'whose', 'with', 'would', 'ie', 'whereas', 'since', 'most', 'nevertheless', 'they', 'the', 'its', 'i', 'sometime', 'eg', 'through', 'or', 'moreover', 'next', 'being', 'wherein', 'might', 'not', 'sincere', 'move', 'under', 'together', 'noone', 'etc', 'whence', 'itself', 'keep', 'less', 'three', 'towards', 'first', 'there', 'herself', 'also', 'made', 'cannot', 'other', 'hereby', 'everyone', 'con', 'hers', 'bottom', 'me', 'via', 'throughout', 'anyhow', 'whither', 'anyway', 'any', 'former', 'seeming', 'full', 'except', 'himself', 'how', 'were', 'beside', 'here', 'indeed', 'almost', 'their', 'seem', 'something', 'these', 'due', 'see', 'take', 'amongst', 'forty', 'inc', 'while', 'whereby', 'becoming', 'all', 'anywhere', 'done', 'fill', 'your', 'never', 'another', 'much', 'may', 'must', 'between', 'put', 'someone', 'nobody', 'formerly', 'otherwise', 'nothing', 'everywhere', 'seems', 'could', 'therefore', 'whole', 'than', 'over', 'who', 'before', 'some', 'until', 'else', 'enough', 'few', 'whatever', 'such', 'mostly', 'a', 'more', 'however', 'off', 'latter', 'four', 'behind', 'whereafter', 'across', 'into', 'please', 'empty', 'several', 'whoever', 'hereupon', 'ever', 'if', 'five', 'thin', 'out', 'us', 'his', 'seemed', 'them', 'already', 'among', 'none', 'ten', 'afterwards', 'therein', 'third', 'this'})\n"
     ]
    }
   ],
   "source": [
    "from sklearn.feature_extraction import stop_words\n",
    "print(stop_words.ENGLISH_STOP_WORDS)"
   ]
  },
  {
   "cell_type": "markdown",
   "metadata": {},
   "source": [
    "You should have seen a large list of words that looks like:\n",
    "\n",
    "```frozenset({'across', 'mine', 'cannot', ...})```\n",
    "\n",
    "`frozenset` is a type of Python object that is immutable. In this lab you can use it just like an array without conversion."
   ]
  },
  {
   "cell_type": "markdown",
   "metadata": {},
   "source": [
    "Next, test your function with supplying `stop_words.ENGLISH_STOP_WORDS` as the second parameter."
   ]
  },
  {
   "cell_type": "code",
   "execution_count": 5,
   "metadata": {},
   "outputs": [
    {
     "name": "stdout",
     "output_type": "stream",
     "text": [
      "{'bag_of_words': ['ironhack', 'cool', 'love', 'student'], 'term_freq': [[1, 1, 0, 0], [1, 0, 1, 0], [1, 0, 0, 1]]}\n"
     ]
    }
   ],
   "source": [
    "bow = get_bow_from_docs(docs, stop_words.ENGLISH_STOP_WORDS)\n",
    "\n",
    "print(bow)"
   ]
  },
  {
   "cell_type": "markdown",
   "metadata": {},
   "source": [
    "You should have seen:\n",
    "\n",
    "```{'bag_of_words': ['ironhack', 'cool', 'love', 'student'], 'term_freq': [[1, 1, 0, 0], [1, 0, 1, 0], [1, 0, 0, 1]]}```"
   ]
  },
  {
   "cell_type": "code",
   "execution_count": null,
   "metadata": {},
   "outputs": [],
   "source": []
  }
 ],
 "metadata": {
  "kernelspec": {
   "display_name": "Python 3",
   "language": "python",
   "name": "python3"
  },
  "language_info": {
   "codemirror_mode": {
    "name": "ipython",
    "version": 3
   },
   "file_extension": ".py",
   "mimetype": "text/x-python",
   "name": "python",
   "nbconvert_exporter": "python",
   "pygments_lexer": "ipython3",
   "version": "3.7.3"
  }
 },
 "nbformat": 4,
 "nbformat_minor": 2
}
