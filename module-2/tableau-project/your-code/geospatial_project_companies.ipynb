{
 "cells": [
  {
   "cell_type": "code",
   "execution_count": 44,
   "metadata": {},
   "outputs": [],
   "source": [
    "import pandas as pd\n",
    "from pymongo import MongoClient\n",
    "from pandas.io.json import json_normalize\n",
    "pd.set_option('display.max_columns', 500)\n",
    "client = MongoClient ('localhost', 27017)\n",
    "data = client['companies'].companies"
   ]
  },
  {
   "cell_type": "code",
   "execution_count": 82,
   "metadata": {},
   "outputs": [],
   "source": [
    "meta = ['name', 'category_code', 'number_of_employees', 'founded_year', 'total_money_raised']\n",
    "\n",
    "def get_locations(data):\n",
    "    return json_normalize(data, record_path = 'offices', meta = meta)\n",
    "\n",
    "\n",
    "def get_companies_df(data):\n",
    "    #df = pd.DataFrame(data)\n",
    "    locations = get_locations(data)\n",
    "    return(locations)\n",
    "    \n",
    "    '''\n",
    "    gelocs = locations.apply(lambda e: [e[\"coord\"][0],e[\"coord\"][1]], result_type=\"expand\", axis=1)\n",
    "    clean_df = pd.concat([bks[\"restaurant_id\"],locations[[\"street\",\"zipcode\"]],gelocs], axis=1)\n",
    "    clean_df.rename({1:\"lat\",0:\"long\"}, axis=1, inplace=True)\n",
    "    return clean_df\n",
    "    '''"
   ]
  },
  {
   "cell_type": "code",
   "execution_count": 83,
   "metadata": {},
   "outputs": [
    {
     "name": "stdout",
     "output_type": "stream",
     "text": [
      "['web' 'enterprise' 'software' 'news' 'social' 'network_hosting'\n",
      " 'games_video' 'music' 'mobile' 'search' 'advertising' 'messaging'\n",
      " 'security' 'photo_video' 'finance' 'hardware' 'ecommerce' 'travel'\n",
      " 'public_relations' 'other' 'real_estate' 'semiconductor' 'analytics'\n",
      " 'health' 'legal' 'sports' 'biotech' 'cleantech' 'education' 'consulting'\n",
      " 'transportation' None 'hospitality' 'fashion' 'nonprofit' 'nanotech'\n",
      " 'automotive' 'design' 'manufacturing' 'government' 'local' 'medical']\n"
     ]
    }
   ],
   "source": [
    "#Buscamos empresas dedicadas al sector del software y video juegos principalmente\n",
    "result = data.find({}, {\n",
    "    \"name\": 1,\n",
    "    \"category_code\": 1,\n",
    "    \"_id\": 0\n",
    "})\n",
    "\n",
    "datasets = []\n",
    "for i in result:\n",
    " datasets.append(pd.DataFrame(i, index = [0]))\n",
    "\n",
    "sector_df = pd.concat(datasets)\n",
    "\n",
    "print(sector_df['category_code'].unique())"
   ]
  },
  {
   "cell_type": "code",
   "execution_count": null,
   "metadata": {},
   "outputs": [],
   "source": []
  },
  {
   "cell_type": "code",
   "execution_count": 28,
   "metadata": {},
   "outputs": [
    {
     "data": {
      "text/plain": [
       "\"\\n['web', 'software', 'social', 'network_hosting'\\n 'games_video', photo_video', 'mobile', 'search', 'ecommerce', 'consulting', 'nanotech']\\n\\n\""
      ]
     },
     "execution_count": 28,
     "metadata": {},
     "output_type": "execute_result"
    }
   ],
   "source": [
    "#Analizamos los diferentes sectores de las compañías para ver cúales pueden ser los más interesantes para buscar similares\n",
    "\n",
    "'''\n",
    "['web', 'software', 'social', 'network_hosting'\n",
    " 'games_video', photo_video', 'mobile', 'search', 'ecommerce', 'consulting', 'nanotech']\n",
    "\n",
    "'''\n",
    "\n",
    "\n",
    "#Buscamos compañías relativamente modernos, fundadas por lo menos a partir del año 90 (para incluir a Google)\n",
    "#'founded_year: {$gte: 1990}'\n",
    "\n",
    "#'Buscamos que un importante ratio de las empresas tenga IPO'\n",
    "#En caso de no tener IPO, buscar si tiene acqusition.price_amount.\n",
    "#Incluir algunas empresas que no tienen ni IPO ni precio de acqusition, pero su fundación es de hace poco tiempo.\n",
    "\n",
    "\n",
    "\n",
    "#Buscamos empresas dedicadas al sector del software y video juegos principalmente\n",
    "\n",
    " "
   ]
  },
  {
   "cell_type": "code",
   "execution_count": 84,
   "metadata": {},
   "outputs": [
    {
     "name": "stderr",
     "output_type": "stream",
     "text": [
      "/usr/local/Cellar/ipython/7.4.0/libexec/vendor/lib/python3.7/site-packages/ipykernel_launcher.py:4: DeprecationWarning: count is deprecated. Use Collection.count_documents instead.\n",
      "  after removing the cwd from sys.path.\n"
     ]
    },
    {
     "data": {
      "text/plain": [
       "218"
      ]
     },
     "metadata": {},
     "output_type": "display_data"
    },
    {
     "data": {
      "text/html": [
       "<div>\n",
       "<style scoped>\n",
       "    .dataframe tbody tr th:only-of-type {\n",
       "        vertical-align: middle;\n",
       "    }\n",
       "\n",
       "    .dataframe tbody tr th {\n",
       "        vertical-align: top;\n",
       "    }\n",
       "\n",
       "    .dataframe thead th {\n",
       "        text-align: right;\n",
       "    }\n",
       "</style>\n",
       "<table border=\"1\" class=\"dataframe\">\n",
       "  <thead>\n",
       "    <tr style=\"text-align: right;\">\n",
       "      <th></th>\n",
       "      <th>address1</th>\n",
       "      <th>address2</th>\n",
       "      <th>city</th>\n",
       "      <th>country_code</th>\n",
       "      <th>description</th>\n",
       "      <th>latitude</th>\n",
       "      <th>longitude</th>\n",
       "      <th>state_code</th>\n",
       "      <th>zip_code</th>\n",
       "      <th>name</th>\n",
       "      <th>category_code</th>\n",
       "      <th>number_of_employees</th>\n",
       "      <th>founded_year</th>\n",
       "      <th>total_money_raised</th>\n",
       "    </tr>\n",
       "  </thead>\n",
       "  <tbody>\n",
       "    <tr>\n",
       "      <th>0</th>\n",
       "      <td>1601 Willow Road</td>\n",
       "      <td></td>\n",
       "      <td>Menlo Park</td>\n",
       "      <td>USA</td>\n",
       "      <td>Headquarters</td>\n",
       "      <td>37.416050</td>\n",
       "      <td>-122.151801</td>\n",
       "      <td>CA</td>\n",
       "      <td>94025</td>\n",
       "      <td>Facebook</td>\n",
       "      <td>social</td>\n",
       "      <td>5299</td>\n",
       "      <td>2004</td>\n",
       "      <td>$2.43B</td>\n",
       "    </tr>\n",
       "    <tr>\n",
       "      <th>1</th>\n",
       "      <td></td>\n",
       "      <td></td>\n",
       "      <td>Dublin</td>\n",
       "      <td>IRL</td>\n",
       "      <td>Europe HQ</td>\n",
       "      <td>53.344104</td>\n",
       "      <td>-6.267494</td>\n",
       "      <td>None</td>\n",
       "      <td></td>\n",
       "      <td>Facebook</td>\n",
       "      <td>social</td>\n",
       "      <td>5299</td>\n",
       "      <td>2004</td>\n",
       "      <td>$2.43B</td>\n",
       "    </tr>\n",
       "    <tr>\n",
       "      <th>2</th>\n",
       "      <td>340 Madison Ave</td>\n",
       "      <td></td>\n",
       "      <td>New York</td>\n",
       "      <td>USA</td>\n",
       "      <td>New York</td>\n",
       "      <td>40.755716</td>\n",
       "      <td>-73.979247</td>\n",
       "      <td>NY</td>\n",
       "      <td>10017</td>\n",
       "      <td>Facebook</td>\n",
       "      <td>social</td>\n",
       "      <td>5299</td>\n",
       "      <td>2004</td>\n",
       "      <td>$2.43B</td>\n",
       "    </tr>\n",
       "    <tr>\n",
       "      <th>3</th>\n",
       "      <td>1355 Market St.</td>\n",
       "      <td></td>\n",
       "      <td>San Francisco</td>\n",
       "      <td>USA</td>\n",
       "      <td></td>\n",
       "      <td>37.776805</td>\n",
       "      <td>-122.416924</td>\n",
       "      <td>CA</td>\n",
       "      <td>94103</td>\n",
       "      <td>Twitter</td>\n",
       "      <td>social</td>\n",
       "      <td>1300</td>\n",
       "      <td>2006</td>\n",
       "      <td>$1.16B</td>\n",
       "    </tr>\n",
       "    <tr>\n",
       "      <th>4</th>\n",
       "      <td>2145 Hamilton Avenue</td>\n",
       "      <td></td>\n",
       "      <td>San Jose</td>\n",
       "      <td>USA</td>\n",
       "      <td>Headquarters</td>\n",
       "      <td>37.295005</td>\n",
       "      <td>-121.930035</td>\n",
       "      <td>CA</td>\n",
       "      <td>95125</td>\n",
       "      <td>eBay</td>\n",
       "      <td>web</td>\n",
       "      <td>15000</td>\n",
       "      <td>1995</td>\n",
       "      <td>$6.7M</td>\n",
       "    </tr>\n",
       "    <tr>\n",
       "      <th>5</th>\n",
       "      <td>701 First Avenue</td>\n",
       "      <td></td>\n",
       "      <td>Sunnyvale</td>\n",
       "      <td>USA</td>\n",
       "      <td>None</td>\n",
       "      <td>37.418531</td>\n",
       "      <td>-122.025485</td>\n",
       "      <td>CA</td>\n",
       "      <td>94089</td>\n",
       "      <td>Yahoo!</td>\n",
       "      <td>web</td>\n",
       "      <td>13600</td>\n",
       "      <td>1994</td>\n",
       "      <td>$6.8M</td>\n",
       "    </tr>\n",
       "    <tr>\n",
       "      <th>6</th>\n",
       "      <td>60 E. Rio Salado Pkwy, Suite 400</td>\n",
       "      <td></td>\n",
       "      <td>Tempe</td>\n",
       "      <td>USA</td>\n",
       "      <td></td>\n",
       "      <td>33.429859</td>\n",
       "      <td>-111.938739</td>\n",
       "      <td>AZ</td>\n",
       "      <td>85281</td>\n",
       "      <td>LifeLock</td>\n",
       "      <td>security</td>\n",
       "      <td>644</td>\n",
       "      <td>2005</td>\n",
       "      <td>$178M</td>\n",
       "    </tr>\n",
       "    <tr>\n",
       "      <th>7</th>\n",
       "      <td>1600 Amphitheatre Parkway</td>\n",
       "      <td></td>\n",
       "      <td>Mountain View</td>\n",
       "      <td>USA</td>\n",
       "      <td>Google Headquarters</td>\n",
       "      <td>37.421972</td>\n",
       "      <td>-122.084143</td>\n",
       "      <td>CA</td>\n",
       "      <td></td>\n",
       "      <td>Google</td>\n",
       "      <td>search</td>\n",
       "      <td>28000</td>\n",
       "      <td>1998</td>\n",
       "      <td>$555M</td>\n",
       "    </tr>\n",
       "    <tr>\n",
       "      <th>8</th>\n",
       "      <td>112 S. Main St.</td>\n",
       "      <td>2nd Floor</td>\n",
       "      <td>Ann Arbor</td>\n",
       "      <td>USA</td>\n",
       "      <td>Google Ann Arbor</td>\n",
       "      <td>42.280988</td>\n",
       "      <td>-83.748882</td>\n",
       "      <td>MI</td>\n",
       "      <td>48104</td>\n",
       "      <td>Google</td>\n",
       "      <td>search</td>\n",
       "      <td>28000</td>\n",
       "      <td>1998</td>\n",
       "      <td>$555M</td>\n",
       "    </tr>\n",
       "    <tr>\n",
       "      <th>9</th>\n",
       "      <td>10 10th Street NE</td>\n",
       "      <td>Suite 600</td>\n",
       "      <td>Atlanta</td>\n",
       "      <td>USA</td>\n",
       "      <td>Google Atlanta</td>\n",
       "      <td>33.781466</td>\n",
       "      <td>-84.387519</td>\n",
       "      <td>GA</td>\n",
       "      <td>30309</td>\n",
       "      <td>Google</td>\n",
       "      <td>search</td>\n",
       "      <td>28000</td>\n",
       "      <td>1998</td>\n",
       "      <td>$555M</td>\n",
       "    </tr>\n",
       "    <tr>\n",
       "      <th>10</th>\n",
       "      <td>Plaza 7000</td>\n",
       "      <td>7000 North MoPac Expressway, 2nd Floor</td>\n",
       "      <td>Austin</td>\n",
       "      <td>USA</td>\n",
       "      <td>Google Austin</td>\n",
       "      <td>30.351416</td>\n",
       "      <td>-97.751382</td>\n",
       "      <td>TX</td>\n",
       "      <td>78731</td>\n",
       "      <td>Google</td>\n",
       "      <td>search</td>\n",
       "      <td>28000</td>\n",
       "      <td>1998</td>\n",
       "      <td>$555M</td>\n",
       "    </tr>\n",
       "    <tr>\n",
       "      <th>11</th>\n",
       "      <td>2590 Pearl Street</td>\n",
       "      <td>Suite 100</td>\n",
       "      <td>Boulder</td>\n",
       "      <td>USA</td>\n",
       "      <td>Google Boulder</td>\n",
       "      <td>40.021416</td>\n",
       "      <td>-105.260931</td>\n",
       "      <td>CO</td>\n",
       "      <td>80302</td>\n",
       "      <td>Google</td>\n",
       "      <td>search</td>\n",
       "      <td>28000</td>\n",
       "      <td>1998</td>\n",
       "      <td>$555M</td>\n",
       "    </tr>\n",
       "    <tr>\n",
       "      <th>12</th>\n",
       "      <td>5 Cambridge Center</td>\n",
       "      <td>Floors 3-6</td>\n",
       "      <td>Cambridge</td>\n",
       "      <td>USA</td>\n",
       "      <td>Google Cambridge</td>\n",
       "      <td>42.363050</td>\n",
       "      <td>-71.087478</td>\n",
       "      <td>MA</td>\n",
       "      <td>02142</td>\n",
       "      <td>Google</td>\n",
       "      <td>search</td>\n",
       "      <td>28000</td>\n",
       "      <td>1998</td>\n",
       "      <td>$555M</td>\n",
       "    </tr>\n",
       "    <tr>\n",
       "      <th>13</th>\n",
       "      <td>20 West Kinzie St.</td>\n",
       "      <td></td>\n",
       "      <td>Chicago</td>\n",
       "      <td>USA</td>\n",
       "      <td>Google Chicago</td>\n",
       "      <td>41.889474</td>\n",
       "      <td>-87.628912</td>\n",
       "      <td>IL</td>\n",
       "      <td>60610</td>\n",
       "      <td>Google</td>\n",
       "      <td>search</td>\n",
       "      <td>28000</td>\n",
       "      <td>1998</td>\n",
       "      <td>$555M</td>\n",
       "    </tr>\n",
       "    <tr>\n",
       "      <th>14</th>\n",
       "      <td>701 Canyon Drive</td>\n",
       "      <td>Suite 120</td>\n",
       "      <td>Coppell</td>\n",
       "      <td>USA</td>\n",
       "      <td>Google Coppell</td>\n",
       "      <td>32.981465</td>\n",
       "      <td>-97.018196</td>\n",
       "      <td>TX</td>\n",
       "      <td>75019</td>\n",
       "      <td>Google</td>\n",
       "      <td>search</td>\n",
       "      <td>28000</td>\n",
       "      <td>1998</td>\n",
       "      <td>$555M</td>\n",
       "    </tr>\n",
       "    <tr>\n",
       "      <th>15</th>\n",
       "      <td>3102 Oak Lawn</td>\n",
       "      <td>Suite 200</td>\n",
       "      <td>Dallas</td>\n",
       "      <td>USA</td>\n",
       "      <td>Google Dallas</td>\n",
       "      <td>32.809161</td>\n",
       "      <td>-96.807693</td>\n",
       "      <td>TX</td>\n",
       "      <td>75219</td>\n",
       "      <td>Google</td>\n",
       "      <td>search</td>\n",
       "      <td>28000</td>\n",
       "      <td>1998</td>\n",
       "      <td>$555M</td>\n",
       "    </tr>\n",
       "    <tr>\n",
       "      <th>16</th>\n",
       "      <td>4600 S. Syracuse St.</td>\n",
       "      <td>8th Floor</td>\n",
       "      <td>Denver</td>\n",
       "      <td>USA</td>\n",
       "      <td>Google Denver</td>\n",
       "      <td>39.629190</td>\n",
       "      <td>-104.898419</td>\n",
       "      <td>CO</td>\n",
       "      <td>80237</td>\n",
       "      <td>Google</td>\n",
       "      <td>search</td>\n",
       "      <td>28000</td>\n",
       "      <td>1998</td>\n",
       "      <td>$555M</td>\n",
       "    </tr>\n",
       "    <tr>\n",
       "      <th>17</th>\n",
       "      <td>114 Willits Street</td>\n",
       "      <td></td>\n",
       "      <td>Birmingham</td>\n",
       "      <td>USA</td>\n",
       "      <td>Google Detroit</td>\n",
       "      <td>42.547807</td>\n",
       "      <td>-83.215498</td>\n",
       "      <td>MI</td>\n",
       "      <td>48009</td>\n",
       "      <td>Google</td>\n",
       "      <td>search</td>\n",
       "      <td>28000</td>\n",
       "      <td>1998</td>\n",
       "      <td>$555M</td>\n",
       "    </tr>\n",
       "    <tr>\n",
       "      <th>18</th>\n",
       "      <td>19540 Jamboree Road</td>\n",
       "      <td>2nd Floor</td>\n",
       "      <td>Irvine</td>\n",
       "      <td>USA</td>\n",
       "      <td>Google Irvine</td>\n",
       "      <td>33.658331</td>\n",
       "      <td>-117.861817</td>\n",
       "      <td>CA</td>\n",
       "      <td>92612</td>\n",
       "      <td>Google</td>\n",
       "      <td>search</td>\n",
       "      <td>28000</td>\n",
       "      <td>1998</td>\n",
       "      <td>$555M</td>\n",
       "    </tr>\n",
       "    <tr>\n",
       "      <th>19</th>\n",
       "      <td>Central Way Plaza</td>\n",
       "      <td>720 4th Avenue, Ste 400</td>\n",
       "      <td>Kirkland</td>\n",
       "      <td>USA</td>\n",
       "      <td>Google Kirkland</td>\n",
       "      <td>NaN</td>\n",
       "      <td>NaN</td>\n",
       "      <td>WA</td>\n",
       "      <td>98033</td>\n",
       "      <td>Google</td>\n",
       "      <td>search</td>\n",
       "      <td>28000</td>\n",
       "      <td>1998</td>\n",
       "      <td>$555M</td>\n",
       "    </tr>\n",
       "    <tr>\n",
       "      <th>20</th>\n",
       "      <td>76 Ninth Avenue</td>\n",
       "      <td>4th Floor</td>\n",
       "      <td>New York</td>\n",
       "      <td>USA</td>\n",
       "      <td>Google New York</td>\n",
       "      <td>40.742220</td>\n",
       "      <td>-74.004489</td>\n",
       "      <td>NY</td>\n",
       "      <td>10011</td>\n",
       "      <td>Google</td>\n",
       "      <td>search</td>\n",
       "      <td>28000</td>\n",
       "      <td>1998</td>\n",
       "      <td>$555M</td>\n",
       "    </tr>\n",
       "    <tr>\n",
       "      <th>21</th>\n",
       "      <td>1551 S. Rural Road</td>\n",
       "      <td>2nd floor</td>\n",
       "      <td>Tempe</td>\n",
       "      <td>USA</td>\n",
       "      <td>Google Phoenix</td>\n",
       "      <td>33.411898</td>\n",
       "      <td>-111.926263</td>\n",
       "      <td>AZ</td>\n",
       "      <td>85281</td>\n",
       "      <td>Google</td>\n",
       "      <td>search</td>\n",
       "      <td>28000</td>\n",
       "      <td>1998</td>\n",
       "      <td>$555M</td>\n",
       "    </tr>\n",
       "    <tr>\n",
       "      <th>22</th>\n",
       "      <td>4720 Forbes Avenue</td>\n",
       "      <td>Lower Level</td>\n",
       "      <td>Pittsburgh</td>\n",
       "      <td>USA</td>\n",
       "      <td>Google Pittsburgh</td>\n",
       "      <td>40.444528</td>\n",
       "      <td>-79.946269</td>\n",
       "      <td>PA</td>\n",
       "      <td>15213</td>\n",
       "      <td>Google</td>\n",
       "      <td>search</td>\n",
       "      <td>28000</td>\n",
       "      <td>1998</td>\n",
       "      <td>$555M</td>\n",
       "    </tr>\n",
       "    <tr>\n",
       "      <th>23</th>\n",
       "      <td>345 Spear Street</td>\n",
       "      <td>4th Floor</td>\n",
       "      <td>San Francisco</td>\n",
       "      <td>USA</td>\n",
       "      <td>Google San Francisco</td>\n",
       "      <td>37.789803</td>\n",
       "      <td>-122.389757</td>\n",
       "      <td>CA</td>\n",
       "      <td>94105</td>\n",
       "      <td>Google</td>\n",
       "      <td>search</td>\n",
       "      <td>28000</td>\n",
       "      <td>1998</td>\n",
       "      <td>$555M</td>\n",
       "    </tr>\n",
       "    <tr>\n",
       "      <th>24</th>\n",
       "      <td>604 Arizona Avenue</td>\n",
       "      <td></td>\n",
       "      <td>Santa Monica</td>\n",
       "      <td>USA</td>\n",
       "      <td>Google Santa Monica</td>\n",
       "      <td>34.019282</td>\n",
       "      <td>-118.494288</td>\n",
       "      <td>CA</td>\n",
       "      <td>90401</td>\n",
       "      <td>Google</td>\n",
       "      <td>search</td>\n",
       "      <td>28000</td>\n",
       "      <td>1998</td>\n",
       "      <td>$555M</td>\n",
       "    </tr>\n",
       "    <tr>\n",
       "      <th>25</th>\n",
       "      <td>Evanston Building</td>\n",
       "      <td>501 N. 34th Street, Suite 300</td>\n",
       "      <td>Seattle</td>\n",
       "      <td>USA</td>\n",
       "      <td>Google Seattle</td>\n",
       "      <td>47.675326</td>\n",
       "      <td>-122.351397</td>\n",
       "      <td>WA</td>\n",
       "      <td>98103</td>\n",
       "      <td>Google</td>\n",
       "      <td>search</td>\n",
       "      <td>28000</td>\n",
       "      <td>1998</td>\n",
       "      <td>$555M</td>\n",
       "    </tr>\n",
       "    <tr>\n",
       "      <th>26</th>\n",
       "      <td>651 N. 34th St.</td>\n",
       "      <td></td>\n",
       "      <td>Seattle</td>\n",
       "      <td>USA</td>\n",
       "      <td>Google Seattle</td>\n",
       "      <td>47.649701</td>\n",
       "      <td>-122.350592</td>\n",
       "      <td>WA</td>\n",
       "      <td>98103</td>\n",
       "      <td>Google</td>\n",
       "      <td>search</td>\n",
       "      <td>28000</td>\n",
       "      <td>1998</td>\n",
       "      <td>$555M</td>\n",
       "    </tr>\n",
       "    <tr>\n",
       "      <th>27</th>\n",
       "      <td>1101 New York Avenue, N.W.</td>\n",
       "      <td>Second Floor</td>\n",
       "      <td>Washington</td>\n",
       "      <td>USA</td>\n",
       "      <td>Google Washington DC</td>\n",
       "      <td>38.901113</td>\n",
       "      <td>-77.027101</td>\n",
       "      <td>DC</td>\n",
       "      <td>20005</td>\n",
       "      <td>Google</td>\n",
       "      <td>search</td>\n",
       "      <td>28000</td>\n",
       "      <td>1998</td>\n",
       "      <td>$555M</td>\n",
       "    </tr>\n",
       "    <tr>\n",
       "      <th>28</th>\n",
       "      <td>Rialto South Tower, Level 27</td>\n",
       "      <td>525 Collins Street</td>\n",
       "      <td>Melbourne</td>\n",
       "      <td>AUS</td>\n",
       "      <td>Google Melbourne</td>\n",
       "      <td>-37.879234</td>\n",
       "      <td>145.073608</td>\n",
       "      <td>None</td>\n",
       "      <td>3000</td>\n",
       "      <td>Google</td>\n",
       "      <td>search</td>\n",
       "      <td>28000</td>\n",
       "      <td>1998</td>\n",
       "      <td>$555M</td>\n",
       "    </tr>\n",
       "    <tr>\n",
       "      <th>29</th>\n",
       "      <td>Levels 11 &amp; 18, Tower 1, Darling Park</td>\n",
       "      <td>201 Sussex St.</td>\n",
       "      <td>Sydney</td>\n",
       "      <td>AUS</td>\n",
       "      <td>Google Sydney</td>\n",
       "      <td>-34.822723</td>\n",
       "      <td>138.612396</td>\n",
       "      <td>None</td>\n",
       "      <td>2000</td>\n",
       "      <td>Google</td>\n",
       "      <td>search</td>\n",
       "      <td>28000</td>\n",
       "      <td>1998</td>\n",
       "      <td>$555M</td>\n",
       "    </tr>\n",
       "    <tr>\n",
       "      <th>...</th>\n",
       "      <td>...</td>\n",
       "      <td>...</td>\n",
       "      <td>...</td>\n",
       "      <td>...</td>\n",
       "      <td>...</td>\n",
       "      <td>...</td>\n",
       "      <td>...</td>\n",
       "      <td>...</td>\n",
       "      <td>...</td>\n",
       "      <td>...</td>\n",
       "      <td>...</td>\n",
       "      <td>...</td>\n",
       "      <td>...</td>\n",
       "      <td>...</td>\n",
       "    </tr>\n",
       "    <tr>\n",
       "      <th>452</th>\n",
       "      <td>205 Lexington Avenue</td>\n",
       "      <td>10th Floor</td>\n",
       "      <td>New York</td>\n",
       "      <td>USA</td>\n",
       "      <td>Tangoe New York</td>\n",
       "      <td>NaN</td>\n",
       "      <td>NaN</td>\n",
       "      <td>NY</td>\n",
       "      <td>10016</td>\n",
       "      <td>Tangoe</td>\n",
       "      <td>enterprise</td>\n",
       "      <td>485</td>\n",
       "      <td>2000</td>\n",
       "      <td>$24.2M</td>\n",
       "    </tr>\n",
       "    <tr>\n",
       "      <th>453</th>\n",
       "      <td>384 Oyster Point Blvd., Suite #8</td>\n",
       "      <td></td>\n",
       "      <td>South San Francisco</td>\n",
       "      <td>USA</td>\n",
       "      <td></td>\n",
       "      <td>37.665648</td>\n",
       "      <td>-122.384349</td>\n",
       "      <td>CA</td>\n",
       "      <td>94080</td>\n",
       "      <td>VistaGen Therapeutics</td>\n",
       "      <td>biotech</td>\n",
       "      <td>None</td>\n",
       "      <td>2013</td>\n",
       "      <td>$41.3M</td>\n",
       "    </tr>\n",
       "    <tr>\n",
       "      <th>454</th>\n",
       "      <td>260 East Grand Avenue</td>\n",
       "      <td></td>\n",
       "      <td>South San Francisco</td>\n",
       "      <td>USA</td>\n",
       "      <td></td>\n",
       "      <td>37.653482</td>\n",
       "      <td>-122.395647</td>\n",
       "      <td>CA</td>\n",
       "      <td>94080</td>\n",
       "      <td>KaloBios Pharmaceuticals</td>\n",
       "      <td>biotech</td>\n",
       "      <td>None</td>\n",
       "      <td>2001</td>\n",
       "      <td>$29M</td>\n",
       "    </tr>\n",
       "    <tr>\n",
       "      <th>455</th>\n",
       "      <td>Wassenaarseweg 72</td>\n",
       "      <td>2333 AL Leiden</td>\n",
       "      <td></td>\n",
       "      <td>NLD</td>\n",
       "      <td></td>\n",
       "      <td>52.168019</td>\n",
       "      <td>4.465864</td>\n",
       "      <td>None</td>\n",
       "      <td></td>\n",
       "      <td>Prosensa</td>\n",
       "      <td>biotech</td>\n",
       "      <td>None</td>\n",
       "      <td>2002</td>\n",
       "      <td>€41M</td>\n",
       "    </tr>\n",
       "    <tr>\n",
       "      <th>456</th>\n",
       "      <td>None</td>\n",
       "      <td>None</td>\n",
       "      <td>Leiden</td>\n",
       "      <td>NLD</td>\n",
       "      <td>None</td>\n",
       "      <td>52.158494</td>\n",
       "      <td>4.496199</td>\n",
       "      <td></td>\n",
       "      <td>None</td>\n",
       "      <td>Prosensa</td>\n",
       "      <td>biotech</td>\n",
       "      <td>None</td>\n",
       "      <td>2002</td>\n",
       "      <td>€41M</td>\n",
       "    </tr>\n",
       "    <tr>\n",
       "      <th>457</th>\n",
       "      <td>243 Daniel Webster Highway</td>\n",
       "      <td></td>\n",
       "      <td>Merrimack</td>\n",
       "      <td>USA</td>\n",
       "      <td>Worldwide Headquarters</td>\n",
       "      <td>42.830989</td>\n",
       "      <td>-71.489876</td>\n",
       "      <td>NH</td>\n",
       "      <td>03054</td>\n",
       "      <td>GT Solar</td>\n",
       "      <td>cleantech</td>\n",
       "      <td>None</td>\n",
       "      <td>1994</td>\n",
       "      <td>$40M</td>\n",
       "    </tr>\n",
       "    <tr>\n",
       "      <th>458</th>\n",
       "      <td>110 E. Broadway</td>\n",
       "      <td>Suite 400</td>\n",
       "      <td>Missoula</td>\n",
       "      <td>USA</td>\n",
       "      <td>Missoula, Montana</td>\n",
       "      <td>46.871951</td>\n",
       "      <td>-113.993427</td>\n",
       "      <td>MT</td>\n",
       "      <td>59802</td>\n",
       "      <td>GT Solar</td>\n",
       "      <td>cleantech</td>\n",
       "      <td>None</td>\n",
       "      <td>1994</td>\n",
       "      <td>$40M</td>\n",
       "    </tr>\n",
       "    <tr>\n",
       "      <th>459</th>\n",
       "      <td></td>\n",
       "      <td></td>\n",
       "      <td>Shanghai</td>\n",
       "      <td>CHN</td>\n",
       "      <td>Shanghai, China</td>\n",
       "      <td>35.864019</td>\n",
       "      <td>120.011334</td>\n",
       "      <td>None</td>\n",
       "      <td>200040</td>\n",
       "      <td>GT Solar</td>\n",
       "      <td>cleantech</td>\n",
       "      <td>None</td>\n",
       "      <td>1994</td>\n",
       "      <td>$40M</td>\n",
       "    </tr>\n",
       "    <tr>\n",
       "      <th>460</th>\n",
       "      <td></td>\n",
       "      <td></td>\n",
       "      <td>Beijing</td>\n",
       "      <td>CHN</td>\n",
       "      <td>Beijing, China</td>\n",
       "      <td>NaN</td>\n",
       "      <td>NaN</td>\n",
       "      <td>None</td>\n",
       "      <td>100062</td>\n",
       "      <td>GT Solar</td>\n",
       "      <td>cleantech</td>\n",
       "      <td>None</td>\n",
       "      <td>1994</td>\n",
       "      <td>$40M</td>\n",
       "    </tr>\n",
       "    <tr>\n",
       "      <th>461</th>\n",
       "      <td>520 FairView Avenue N</td>\n",
       "      <td>Suite 2000</td>\n",
       "      <td>Seattle</td>\n",
       "      <td>USA</td>\n",
       "      <td>Corporate Headquarters</td>\n",
       "      <td>47.623478</td>\n",
       "      <td>-122.334354</td>\n",
       "      <td>WA</td>\n",
       "      <td>98109</td>\n",
       "      <td>NanoString Technologies</td>\n",
       "      <td>biotech</td>\n",
       "      <td>None</td>\n",
       "      <td>2003</td>\n",
       "      <td>$106M</td>\n",
       "    </tr>\n",
       "    <tr>\n",
       "      <th>462</th>\n",
       "      <td>561 Eccles Avenue</td>\n",
       "      <td></td>\n",
       "      <td>South San Francisco</td>\n",
       "      <td>USA</td>\n",
       "      <td>Corporate Headquarters</td>\n",
       "      <td>37.661543</td>\n",
       "      <td>-122.390464</td>\n",
       "      <td>CA</td>\n",
       "      <td>94080</td>\n",
       "      <td>Solazyme</td>\n",
       "      <td>cleantech</td>\n",
       "      <td>None</td>\n",
       "      <td>2003</td>\n",
       "      <td>$146M</td>\n",
       "    </tr>\n",
       "    <tr>\n",
       "      <th>463</th>\n",
       "      <td>1120 S Capital of Texas Hwy</td>\n",
       "      <td>Bldg. 3, Ste 220</td>\n",
       "      <td>Austin</td>\n",
       "      <td>USA</td>\n",
       "      <td>Headquarters</td>\n",
       "      <td>30.281130</td>\n",
       "      <td>-97.824782</td>\n",
       "      <td>TX</td>\n",
       "      <td>78746</td>\n",
       "      <td>Perficient</td>\n",
       "      <td>consulting</td>\n",
       "      <td>None</td>\n",
       "      <td>1998</td>\n",
       "      <td>$57.9M</td>\n",
       "    </tr>\n",
       "    <tr>\n",
       "      <th>464</th>\n",
       "      <td>1875 Charleston Road</td>\n",
       "      <td></td>\n",
       "      <td>Mountain View</td>\n",
       "      <td>USA</td>\n",
       "      <td>Headquarters</td>\n",
       "      <td>37.420408</td>\n",
       "      <td>-122.088466</td>\n",
       "      <td>CA</td>\n",
       "      <td>94043-1215</td>\n",
       "      <td>NetLogic Microsystems</td>\n",
       "      <td>semiconductor</td>\n",
       "      <td>None</td>\n",
       "      <td>1995</td>\n",
       "      <td>$189M</td>\n",
       "    </tr>\n",
       "    <tr>\n",
       "      <th>465</th>\n",
       "      <td>2525 28th Street</td>\n",
       "      <td>Suite 100</td>\n",
       "      <td>Boulder</td>\n",
       "      <td>USA</td>\n",
       "      <td>HQ</td>\n",
       "      <td>40.026000</td>\n",
       "      <td>-105.259041</td>\n",
       "      <td>CO</td>\n",
       "      <td>80301</td>\n",
       "      <td>Clovis Oncology</td>\n",
       "      <td>biotech</td>\n",
       "      <td>None</td>\n",
       "      <td>2009</td>\n",
       "      <td>$357M</td>\n",
       "    </tr>\n",
       "    <tr>\n",
       "      <th>466</th>\n",
       "      <td>1020 East Meadow Circle</td>\n",
       "      <td></td>\n",
       "      <td>Palo Alto</td>\n",
       "      <td>USA</td>\n",
       "      <td>HQ</td>\n",
       "      <td>37.431409</td>\n",
       "      <td>-122.106490</td>\n",
       "      <td>CA</td>\n",
       "      <td>94303-4230</td>\n",
       "      <td>Anacor Pharmaceutical</td>\n",
       "      <td>biotech</td>\n",
       "      <td>31</td>\n",
       "      <td>2000</td>\n",
       "      <td>$192M</td>\n",
       "    </tr>\n",
       "    <tr>\n",
       "      <th>467</th>\n",
       "      <td>6120 Windward Parkway</td>\n",
       "      <td>Suite 290</td>\n",
       "      <td>Alpharetta</td>\n",
       "      <td>USA</td>\n",
       "      <td></td>\n",
       "      <td>34.093625</td>\n",
       "      <td>-84.242809</td>\n",
       "      <td>GA</td>\n",
       "      <td>30005</td>\n",
       "      <td>Alimera Sciences</td>\n",
       "      <td>biotech</td>\n",
       "      <td>None</td>\n",
       "      <td>2003</td>\n",
       "      <td>$107M</td>\n",
       "    </tr>\n",
       "    <tr>\n",
       "      <th>468</th>\n",
       "      <td>Sagee 2000 Industrial Park, P.O. Box 6</td>\n",
       "      <td></td>\n",
       "      <td>Migdal HaEmeq</td>\n",
       "      <td>ISR</td>\n",
       "      <td>Enzymotec Ltd</td>\n",
       "      <td>NaN</td>\n",
       "      <td>NaN</td>\n",
       "      <td>None</td>\n",
       "      <td>23106</td>\n",
       "      <td>Enzymotec</td>\n",
       "      <td>biotech</td>\n",
       "      <td>None</td>\n",
       "      <td>1998</td>\n",
       "      <td>$11M</td>\n",
       "    </tr>\n",
       "    <tr>\n",
       "      <th>469</th>\n",
       "      <td>2911 Zanker Road</td>\n",
       "      <td></td>\n",
       "      <td>San Jose</td>\n",
       "      <td>USA</td>\n",
       "      <td></td>\n",
       "      <td>37.396198</td>\n",
       "      <td>-121.930167</td>\n",
       "      <td>CA</td>\n",
       "      <td>95134</td>\n",
       "      <td>NeoPhotonics</td>\n",
       "      <td>network_hosting</td>\n",
       "      <td>None</td>\n",
       "      <td>1997</td>\n",
       "      <td>$155M</td>\n",
       "    </tr>\n",
       "    <tr>\n",
       "      <th>470</th>\n",
       "      <td>20300 Ventura Blvd. Suite 330</td>\n",
       "      <td></td>\n",
       "      <td>Woodland Hills</td>\n",
       "      <td>USA</td>\n",
       "      <td>HQ</td>\n",
       "      <td>34.168955</td>\n",
       "      <td>-118.575293</td>\n",
       "      <td>CA</td>\n",
       "      <td>91364</td>\n",
       "      <td>CrowdGather</td>\n",
       "      <td>web</td>\n",
       "      <td>9</td>\n",
       "      <td>2008</td>\n",
       "      <td>$18M</td>\n",
       "    </tr>\n",
       "    <tr>\n",
       "      <th>471</th>\n",
       "      <td></td>\n",
       "      <td></td>\n",
       "      <td>Toronto</td>\n",
       "      <td>CAN</td>\n",
       "      <td></td>\n",
       "      <td>43.670233</td>\n",
       "      <td>-79.386755</td>\n",
       "      <td>None</td>\n",
       "      <td></td>\n",
       "      <td>Constellation Software</td>\n",
       "      <td>software</td>\n",
       "      <td>None</td>\n",
       "      <td>1997</td>\n",
       "      <td>$0</td>\n",
       "    </tr>\n",
       "    <tr>\n",
       "      <th>472</th>\n",
       "      <td></td>\n",
       "      <td></td>\n",
       "      <td>Moscow</td>\n",
       "      <td>RUS</td>\n",
       "      <td></td>\n",
       "      <td>55.755786</td>\n",
       "      <td>37.617633</td>\n",
       "      <td>None</td>\n",
       "      <td></td>\n",
       "      <td>Mobile TeleSystems OJSC</td>\n",
       "      <td>mobile</td>\n",
       "      <td>None</td>\n",
       "      <td>1993</td>\n",
       "      <td>$0</td>\n",
       "    </tr>\n",
       "    <tr>\n",
       "      <th>473</th>\n",
       "      <td>Trony Solar Plaza, Long Gang District</td>\n",
       "      <td></td>\n",
       "      <td>Shenzhen</td>\n",
       "      <td>USA</td>\n",
       "      <td>Headquarters</td>\n",
       "      <td>NaN</td>\n",
       "      <td>NaN</td>\n",
       "      <td>None</td>\n",
       "      <td>518116</td>\n",
       "      <td>Trony Solar</td>\n",
       "      <td>cleantech</td>\n",
       "      <td>None</td>\n",
       "      <td>1993</td>\n",
       "      <td>$20M</td>\n",
       "    </tr>\n",
       "    <tr>\n",
       "      <th>474</th>\n",
       "      <td>Digital Technology Plaza</td>\n",
       "      <td>No.9 Shangdi 9th Street</td>\n",
       "      <td>Haidian District,Beijing</td>\n",
       "      <td>CHN</td>\n",
       "      <td></td>\n",
       "      <td>NaN</td>\n",
       "      <td>NaN</td>\n",
       "      <td>None</td>\n",
       "      <td>100085</td>\n",
       "      <td>Digital China Information Technology Services ...</td>\n",
       "      <td>software</td>\n",
       "      <td>None</td>\n",
       "      <td>2008</td>\n",
       "      <td>$73.1M</td>\n",
       "    </tr>\n",
       "    <tr>\n",
       "      <th>475</th>\n",
       "      <td>1-1-6 Uchisaiwai-cho</td>\n",
       "      <td></td>\n",
       "      <td>Chiyoda-ku, Tokyo</td>\n",
       "      <td>JPN</td>\n",
       "      <td></td>\n",
       "      <td>NaN</td>\n",
       "      <td>NaN</td>\n",
       "      <td>None</td>\n",
       "      <td>100-8019</td>\n",
       "      <td>NTT Communications</td>\n",
       "      <td>network_hosting</td>\n",
       "      <td>None</td>\n",
       "      <td>1999</td>\n",
       "      <td>$0</td>\n",
       "    </tr>\n",
       "    <tr>\n",
       "      <th>476</th>\n",
       "      <td>475 Providence Main Street, Suite 402B</td>\n",
       "      <td></td>\n",
       "      <td>Huntsville</td>\n",
       "      <td>USA</td>\n",
       "      <td></td>\n",
       "      <td>34.754002</td>\n",
       "      <td>-86.692677</td>\n",
       "      <td>AL</td>\n",
       "      <td>35806</td>\n",
       "      <td>Silicon Laboratories</td>\n",
       "      <td>hardware</td>\n",
       "      <td>None</td>\n",
       "      <td>1996</td>\n",
       "      <td>$0</td>\n",
       "    </tr>\n",
       "    <tr>\n",
       "      <th>477</th>\n",
       "      <td>28544 Sorano Cove</td>\n",
       "      <td></td>\n",
       "      <td>Trabuco Canyon</td>\n",
       "      <td>USA</td>\n",
       "      <td></td>\n",
       "      <td>NaN</td>\n",
       "      <td>NaN</td>\n",
       "      <td>CA</td>\n",
       "      <td>92679</td>\n",
       "      <td>Energy and Power Solutions</td>\n",
       "      <td>cleantech</td>\n",
       "      <td>None</td>\n",
       "      <td>2003</td>\n",
       "      <td>$30M</td>\n",
       "    </tr>\n",
       "    <tr>\n",
       "      <th>478</th>\n",
       "      <td>7109 Timberlake Road</td>\n",
       "      <td></td>\n",
       "      <td>Lynchburg</td>\n",
       "      <td>USA</td>\n",
       "      <td></td>\n",
       "      <td>37.362749</td>\n",
       "      <td>-79.210057</td>\n",
       "      <td>VA</td>\n",
       "      <td>24502</td>\n",
       "      <td>Sitestar</td>\n",
       "      <td>network_hosting</td>\n",
       "      <td>None</td>\n",
       "      <td>1999</td>\n",
       "      <td>$0</td>\n",
       "    </tr>\n",
       "    <tr>\n",
       "      <th>479</th>\n",
       "      <td>26601 Agoura Rd.</td>\n",
       "      <td></td>\n",
       "      <td>Calabasas</td>\n",
       "      <td>USA</td>\n",
       "      <td>Ixia Headquarters</td>\n",
       "      <td>NaN</td>\n",
       "      <td>NaN</td>\n",
       "      <td>CA</td>\n",
       "      <td>91302</td>\n",
       "      <td>IXIA</td>\n",
       "      <td>network_hosting</td>\n",
       "      <td>None</td>\n",
       "      <td>1997</td>\n",
       "      <td>$0</td>\n",
       "    </tr>\n",
       "    <tr>\n",
       "      <th>480</th>\n",
       "      <td>101 East County Line Road</td>\n",
       "      <td>Suite 210</td>\n",
       "      <td>Hatboro</td>\n",
       "      <td>USA</td>\n",
       "      <td></td>\n",
       "      <td>40.192329</td>\n",
       "      <td>-75.106923</td>\n",
       "      <td>PA</td>\n",
       "      <td>19040</td>\n",
       "      <td>InfoLogix</td>\n",
       "      <td>enterprise</td>\n",
       "      <td>206</td>\n",
       "      <td>2001</td>\n",
       "      <td>$3M</td>\n",
       "    </tr>\n",
       "    <tr>\n",
       "      <th>481</th>\n",
       "      <td>475 Half Day Road</td>\n",
       "      <td>Suite 500</td>\n",
       "      <td>Lincolnshire</td>\n",
       "      <td>USA</td>\n",
       "      <td></td>\n",
       "      <td>42.200364</td>\n",
       "      <td>-87.902493</td>\n",
       "      <td>IL</td>\n",
       "      <td>60069</td>\n",
       "      <td>Zebra Technologies</td>\n",
       "      <td>enterprise</td>\n",
       "      <td>3200</td>\n",
       "      <td>1991</td>\n",
       "      <td>$0</td>\n",
       "    </tr>\n",
       "  </tbody>\n",
       "</table>\n",
       "<p>482 rows × 14 columns</p>\n",
       "</div>"
      ],
      "text/plain": [
       "                                   address1  \\\n",
       "0                          1601 Willow Road   \n",
       "1                                             \n",
       "2                           340 Madison Ave   \n",
       "3                           1355 Market St.   \n",
       "4                      2145 Hamilton Avenue   \n",
       "5                          701 First Avenue   \n",
       "6          60 E. Rio Salado Pkwy, Suite 400   \n",
       "7                 1600 Amphitheatre Parkway   \n",
       "8                           112 S. Main St.   \n",
       "9                         10 10th Street NE   \n",
       "10                               Plaza 7000   \n",
       "11                        2590 Pearl Street   \n",
       "12                       5 Cambridge Center   \n",
       "13                       20 West Kinzie St.   \n",
       "14                         701 Canyon Drive   \n",
       "15                            3102 Oak Lawn   \n",
       "16                     4600 S. Syracuse St.   \n",
       "17                       114 Willits Street   \n",
       "18                      19540 Jamboree Road   \n",
       "19                        Central Way Plaza   \n",
       "20                          76 Ninth Avenue   \n",
       "21                       1551 S. Rural Road   \n",
       "22                       4720 Forbes Avenue   \n",
       "23                         345 Spear Street   \n",
       "24                       604 Arizona Avenue   \n",
       "25                        Evanston Building   \n",
       "26                          651 N. 34th St.   \n",
       "27               1101 New York Avenue, N.W.   \n",
       "28             Rialto South Tower, Level 27   \n",
       "29    Levels 11 & 18, Tower 1, Darling Park   \n",
       "..                                      ...   \n",
       "452                    205 Lexington Avenue   \n",
       "453        384 Oyster Point Blvd., Suite #8   \n",
       "454                   260 East Grand Avenue   \n",
       "455                       Wassenaarseweg 72   \n",
       "456                                    None   \n",
       "457              243 Daniel Webster Highway   \n",
       "458                         110 E. Broadway   \n",
       "459                                           \n",
       "460                                           \n",
       "461                   520 FairView Avenue N   \n",
       "462                       561 Eccles Avenue   \n",
       "463             1120 S Capital of Texas Hwy   \n",
       "464                    1875 Charleston Road   \n",
       "465                        2525 28th Street   \n",
       "466                 1020 East Meadow Circle   \n",
       "467                   6120 Windward Parkway   \n",
       "468  Sagee 2000 Industrial Park, P.O. Box 6   \n",
       "469                        2911 Zanker Road   \n",
       "470           20300 Ventura Blvd. Suite 330   \n",
       "471                                           \n",
       "472                                           \n",
       "473   Trony Solar Plaza, Long Gang District   \n",
       "474                Digital Technology Plaza   \n",
       "475                    1-1-6 Uchisaiwai-cho   \n",
       "476  475 Providence Main Street, Suite 402B   \n",
       "477                       28544 Sorano Cove   \n",
       "478                    7109 Timberlake Road   \n",
       "479                        26601 Agoura Rd.   \n",
       "480               101 East County Line Road   \n",
       "481                       475 Half Day Road   \n",
       "\n",
       "                                   address2                      city  \\\n",
       "0                                                          Menlo Park   \n",
       "1                                                              Dublin   \n",
       "2                                                            New York   \n",
       "3                                                       San Francisco   \n",
       "4                                                            San Jose   \n",
       "5                                                           Sunnyvale   \n",
       "6                                                               Tempe   \n",
       "7                                                       Mountain View   \n",
       "8                                 2nd Floor                 Ann Arbor   \n",
       "9                                 Suite 600                   Atlanta   \n",
       "10   7000 North MoPac Expressway, 2nd Floor                    Austin   \n",
       "11                                Suite 100                   Boulder   \n",
       "12                               Floors 3-6                 Cambridge   \n",
       "13                                                            Chicago   \n",
       "14                                Suite 120                   Coppell   \n",
       "15                                Suite 200                    Dallas   \n",
       "16                                8th Floor                    Denver   \n",
       "17                                                         Birmingham   \n",
       "18                                2nd Floor                    Irvine   \n",
       "19                  720 4th Avenue, Ste 400                  Kirkland   \n",
       "20                                4th Floor                  New York   \n",
       "21                                2nd floor                     Tempe   \n",
       "22                              Lower Level                Pittsburgh   \n",
       "23                                4th Floor             San Francisco   \n",
       "24                                                       Santa Monica   \n",
       "25            501 N. 34th Street, Suite 300                   Seattle   \n",
       "26                                                            Seattle   \n",
       "27                             Second Floor                Washington   \n",
       "28                       525 Collins Street                 Melbourne   \n",
       "29                           201 Sussex St.                    Sydney   \n",
       "..                                      ...                       ...   \n",
       "452                              10th Floor                  New York   \n",
       "453                                               South San Francisco   \n",
       "454                                               South San Francisco   \n",
       "455                          2333 AL Leiden                             \n",
       "456                                    None                    Leiden   \n",
       "457                                                         Merrimack   \n",
       "458                               Suite 400                  Missoula   \n",
       "459                                                          Shanghai   \n",
       "460                                                           Beijing   \n",
       "461                              Suite 2000                   Seattle   \n",
       "462                                               South San Francisco   \n",
       "463                        Bldg. 3, Ste 220                    Austin   \n",
       "464                                                     Mountain View   \n",
       "465                               Suite 100                   Boulder   \n",
       "466                                                         Palo Alto   \n",
       "467                               Suite 290                Alpharetta   \n",
       "468                                                     Migdal HaEmeq   \n",
       "469                                                          San Jose   \n",
       "470                                                    Woodland Hills   \n",
       "471                                                           Toronto   \n",
       "472                                                            Moscow   \n",
       "473                                                          Shenzhen   \n",
       "474                 No.9 Shangdi 9th Street  Haidian District,Beijing   \n",
       "475                                                 Chiyoda-ku, Tokyo   \n",
       "476                                                        Huntsville   \n",
       "477                                                    Trabuco Canyon   \n",
       "478                                                         Lynchburg   \n",
       "479                                                         Calabasas   \n",
       "480                               Suite 210                   Hatboro   \n",
       "481                               Suite 500              Lincolnshire   \n",
       "\n",
       "    country_code             description   latitude   longitude state_code  \\\n",
       "0            USA            Headquarters  37.416050 -122.151801         CA   \n",
       "1            IRL               Europe HQ  53.344104   -6.267494       None   \n",
       "2            USA                New York  40.755716  -73.979247         NY   \n",
       "3            USA                          37.776805 -122.416924         CA   \n",
       "4            USA            Headquarters  37.295005 -121.930035         CA   \n",
       "5            USA                    None  37.418531 -122.025485         CA   \n",
       "6            USA                          33.429859 -111.938739         AZ   \n",
       "7            USA     Google Headquarters  37.421972 -122.084143         CA   \n",
       "8            USA        Google Ann Arbor  42.280988  -83.748882         MI   \n",
       "9            USA          Google Atlanta  33.781466  -84.387519         GA   \n",
       "10           USA           Google Austin  30.351416  -97.751382         TX   \n",
       "11           USA          Google Boulder  40.021416 -105.260931         CO   \n",
       "12           USA        Google Cambridge  42.363050  -71.087478         MA   \n",
       "13           USA          Google Chicago  41.889474  -87.628912         IL   \n",
       "14           USA          Google Coppell  32.981465  -97.018196         TX   \n",
       "15           USA           Google Dallas  32.809161  -96.807693         TX   \n",
       "16           USA           Google Denver  39.629190 -104.898419         CO   \n",
       "17           USA          Google Detroit  42.547807  -83.215498         MI   \n",
       "18           USA           Google Irvine  33.658331 -117.861817         CA   \n",
       "19           USA         Google Kirkland        NaN         NaN         WA   \n",
       "20           USA         Google New York  40.742220  -74.004489         NY   \n",
       "21           USA          Google Phoenix  33.411898 -111.926263         AZ   \n",
       "22           USA       Google Pittsburgh  40.444528  -79.946269         PA   \n",
       "23           USA    Google San Francisco  37.789803 -122.389757         CA   \n",
       "24           USA     Google Santa Monica  34.019282 -118.494288         CA   \n",
       "25           USA          Google Seattle  47.675326 -122.351397         WA   \n",
       "26           USA          Google Seattle  47.649701 -122.350592         WA   \n",
       "27           USA    Google Washington DC  38.901113  -77.027101         DC   \n",
       "28           AUS        Google Melbourne -37.879234  145.073608       None   \n",
       "29           AUS           Google Sydney -34.822723  138.612396       None   \n",
       "..           ...                     ...        ...         ...        ...   \n",
       "452          USA         Tangoe New York        NaN         NaN         NY   \n",
       "453          USA                          37.665648 -122.384349         CA   \n",
       "454          USA                          37.653482 -122.395647         CA   \n",
       "455          NLD                          52.168019    4.465864       None   \n",
       "456          NLD                    None  52.158494    4.496199              \n",
       "457          USA  Worldwide Headquarters  42.830989  -71.489876         NH   \n",
       "458          USA       Missoula, Montana  46.871951 -113.993427         MT   \n",
       "459          CHN         Shanghai, China  35.864019  120.011334       None   \n",
       "460          CHN          Beijing, China        NaN         NaN       None   \n",
       "461          USA  Corporate Headquarters  47.623478 -122.334354         WA   \n",
       "462          USA  Corporate Headquarters  37.661543 -122.390464         CA   \n",
       "463          USA            Headquarters  30.281130  -97.824782         TX   \n",
       "464          USA            Headquarters  37.420408 -122.088466         CA   \n",
       "465          USA                      HQ  40.026000 -105.259041         CO   \n",
       "466          USA                      HQ  37.431409 -122.106490         CA   \n",
       "467          USA                          34.093625  -84.242809         GA   \n",
       "468          ISR           Enzymotec Ltd        NaN         NaN       None   \n",
       "469          USA                          37.396198 -121.930167         CA   \n",
       "470          USA                      HQ  34.168955 -118.575293         CA   \n",
       "471          CAN                          43.670233  -79.386755       None   \n",
       "472          RUS                          55.755786   37.617633       None   \n",
       "473          USA            Headquarters        NaN         NaN       None   \n",
       "474          CHN                                NaN         NaN       None   \n",
       "475          JPN                                NaN         NaN       None   \n",
       "476          USA                          34.754002  -86.692677         AL   \n",
       "477          USA                                NaN         NaN         CA   \n",
       "478          USA                          37.362749  -79.210057         VA   \n",
       "479          USA       Ixia Headquarters        NaN         NaN         CA   \n",
       "480          USA                          40.192329  -75.106923         PA   \n",
       "481          USA                          42.200364  -87.902493         IL   \n",
       "\n",
       "       zip_code                                               name  \\\n",
       "0         94025                                           Facebook   \n",
       "1                                                         Facebook   \n",
       "2         10017                                           Facebook   \n",
       "3         94103                                            Twitter   \n",
       "4         95125                                               eBay   \n",
       "5         94089                                             Yahoo!   \n",
       "6         85281                                           LifeLock   \n",
       "7                                                           Google   \n",
       "8         48104                                             Google   \n",
       "9         30309                                             Google   \n",
       "10        78731                                             Google   \n",
       "11        80302                                             Google   \n",
       "12        02142                                             Google   \n",
       "13        60610                                             Google   \n",
       "14        75019                                             Google   \n",
       "15        75219                                             Google   \n",
       "16        80237                                             Google   \n",
       "17        48009                                             Google   \n",
       "18        92612                                             Google   \n",
       "19        98033                                             Google   \n",
       "20        10011                                             Google   \n",
       "21        85281                                             Google   \n",
       "22        15213                                             Google   \n",
       "23        94105                                             Google   \n",
       "24        90401                                             Google   \n",
       "25        98103                                             Google   \n",
       "26        98103                                             Google   \n",
       "27        20005                                             Google   \n",
       "28         3000                                             Google   \n",
       "29         2000                                             Google   \n",
       "..          ...                                                ...   \n",
       "452       10016                                             Tangoe   \n",
       "453       94080                              VistaGen Therapeutics   \n",
       "454       94080                           KaloBios Pharmaceuticals   \n",
       "455                                                       Prosensa   \n",
       "456        None                                           Prosensa   \n",
       "457       03054                                           GT Solar   \n",
       "458       59802                                           GT Solar   \n",
       "459      200040                                           GT Solar   \n",
       "460      100062                                           GT Solar   \n",
       "461       98109                            NanoString Technologies   \n",
       "462       94080                                           Solazyme   \n",
       "463       78746                                         Perficient   \n",
       "464  94043-1215                              NetLogic Microsystems   \n",
       "465       80301                                    Clovis Oncology   \n",
       "466  94303-4230                              Anacor Pharmaceutical   \n",
       "467       30005                                   Alimera Sciences   \n",
       "468       23106                                          Enzymotec   \n",
       "469       95134                                       NeoPhotonics   \n",
       "470       91364                                        CrowdGather   \n",
       "471                                         Constellation Software   \n",
       "472                                        Mobile TeleSystems OJSC   \n",
       "473      518116                                        Trony Solar   \n",
       "474      100085  Digital China Information Technology Services ...   \n",
       "475    100-8019                                 NTT Communications   \n",
       "476       35806                               Silicon Laboratories   \n",
       "477       92679                         Energy and Power Solutions   \n",
       "478       24502                                           Sitestar   \n",
       "479       91302                                               IXIA   \n",
       "480       19040                                          InfoLogix   \n",
       "481       60069                                 Zebra Technologies   \n",
       "\n",
       "       category_code number_of_employees  founded_year total_money_raised  \n",
       "0             social                5299          2004             $2.43B  \n",
       "1             social                5299          2004             $2.43B  \n",
       "2             social                5299          2004             $2.43B  \n",
       "3             social                1300          2006             $1.16B  \n",
       "4                web               15000          1995              $6.7M  \n",
       "5                web               13600          1994              $6.8M  \n",
       "6           security                 644          2005              $178M  \n",
       "7             search               28000          1998              $555M  \n",
       "8             search               28000          1998              $555M  \n",
       "9             search               28000          1998              $555M  \n",
       "10            search               28000          1998              $555M  \n",
       "11            search               28000          1998              $555M  \n",
       "12            search               28000          1998              $555M  \n",
       "13            search               28000          1998              $555M  \n",
       "14            search               28000          1998              $555M  \n",
       "15            search               28000          1998              $555M  \n",
       "16            search               28000          1998              $555M  \n",
       "17            search               28000          1998              $555M  \n",
       "18            search               28000          1998              $555M  \n",
       "19            search               28000          1998              $555M  \n",
       "20            search               28000          1998              $555M  \n",
       "21            search               28000          1998              $555M  \n",
       "22            search               28000          1998              $555M  \n",
       "23            search               28000          1998              $555M  \n",
       "24            search               28000          1998              $555M  \n",
       "25            search               28000          1998              $555M  \n",
       "26            search               28000          1998              $555M  \n",
       "27            search               28000          1998              $555M  \n",
       "28            search               28000          1998              $555M  \n",
       "29            search               28000          1998              $555M  \n",
       "..               ...                 ...           ...                ...  \n",
       "452       enterprise                 485          2000             $24.2M  \n",
       "453          biotech                None          2013             $41.3M  \n",
       "454          biotech                None          2001               $29M  \n",
       "455          biotech                None          2002               €41M  \n",
       "456          biotech                None          2002               €41M  \n",
       "457        cleantech                None          1994               $40M  \n",
       "458        cleantech                None          1994               $40M  \n",
       "459        cleantech                None          1994               $40M  \n",
       "460        cleantech                None          1994               $40M  \n",
       "461          biotech                None          2003              $106M  \n",
       "462        cleantech                None          2003              $146M  \n",
       "463       consulting                None          1998             $57.9M  \n",
       "464    semiconductor                None          1995              $189M  \n",
       "465          biotech                None          2009              $357M  \n",
       "466          biotech                  31          2000              $192M  \n",
       "467          biotech                None          2003              $107M  \n",
       "468          biotech                None          1998               $11M  \n",
       "469  network_hosting                None          1997              $155M  \n",
       "470              web                   9          2008               $18M  \n",
       "471         software                None          1997                 $0  \n",
       "472           mobile                None          1993                 $0  \n",
       "473        cleantech                None          1993               $20M  \n",
       "474         software                None          2008             $73.1M  \n",
       "475  network_hosting                None          1999                 $0  \n",
       "476         hardware                None          1996                 $0  \n",
       "477        cleantech                None          2003               $30M  \n",
       "478  network_hosting                None          1999                 $0  \n",
       "479  network_hosting                None          1997                 $0  \n",
       "480       enterprise                 206          2001                $3M  \n",
       "481       enterprise                3200          1991                 $0  \n",
       "\n",
       "[482 rows x 14 columns]"
      ]
     },
     "metadata": {},
     "output_type": "display_data"
    }
   ],
   "source": [
    "#Buscamos todas aquellas que tienen IPO y que su fecha de fundación es posterior a 1990\n",
    "have_ipo = data.find({'ipo': {'$exists': True, '$not': {'$eq': None}}, 'founded_year': {'$gte': 1990}})\n",
    "\n",
    "display(have_ipo.count())\n",
    "\n",
    "display((get_companies_df(have_ipo)))"
   ]
  },
  {
   "cell_type": "code",
   "execution_count": 57,
   "metadata": {},
   "outputs": [
    {
     "name": "stderr",
     "output_type": "stream",
     "text": [
      "/usr/local/Cellar/ipython/7.4.0/libexec/vendor/lib/python3.7/site-packages/ipykernel_launcher.py:24: DeprecationWarning: count is deprecated. Use Collection.count_documents instead.\n"
     ]
    },
    {
     "data": {
      "text/plain": [
       "'valid_coordinates:'"
      ]
     },
     "metadata": {},
     "output_type": "display_data"
    },
    {
     "data": {
      "text/plain": [
       "64"
      ]
     },
     "metadata": {},
     "output_type": "display_data"
    },
    {
     "data": {
      "text/plain": [
       "'Facebook'"
      ]
     },
     "metadata": {},
     "output_type": "display_data"
    },
    {
     "data": {
      "text/plain": [
       "37.41605"
      ]
     },
     "metadata": {},
     "output_type": "display_data"
    },
    {
     "data": {
      "text/plain": [
       "'Twitter'"
      ]
     },
     "metadata": {},
     "output_type": "display_data"
    },
    {
     "data": {
      "text/plain": [
       "37.7768052"
      ]
     },
     "metadata": {},
     "output_type": "display_data"
    },
    {
     "data": {
      "text/plain": [
       "'eBay'"
      ]
     },
     "metadata": {},
     "output_type": "display_data"
    },
    {
     "data": {
      "text/plain": [
       "37.295005"
      ]
     },
     "metadata": {},
     "output_type": "display_data"
    },
    {
     "data": {
      "text/plain": [
       "'Yahoo!'"
      ]
     },
     "metadata": {},
     "output_type": "display_data"
    },
    {
     "data": {
      "text/plain": [
       "37.418531"
      ]
     },
     "metadata": {},
     "output_type": "display_data"
    },
    {
     "data": {
      "text/plain": [
       "'blinkx'"
      ]
     },
     "metadata": {},
     "output_type": "display_data"
    },
    {
     "data": {
      "text/plain": [
       "37.793819"
      ]
     },
     "metadata": {},
     "output_type": "display_data"
    },
    {
     "data": {
      "text/plain": [
       "'Yelp'"
      ]
     },
     "metadata": {},
     "output_type": "display_data"
    },
    {
     "data": {
      "text/plain": [
       "37.786183"
      ]
     },
     "metadata": {},
     "output_type": "display_data"
    },
    {
     "data": {
      "text/plain": [
       "'LinkedIn'"
      ]
     },
     "metadata": {},
     "output_type": "display_data"
    },
    {
     "data": {
      "text/plain": [
       "37.423258"
      ]
     },
     "metadata": {},
     "output_type": "display_data"
    },
    {
     "data": {
      "text/plain": [
       "'Carbonite'"
      ]
     },
     "metadata": {},
     "output_type": "display_data"
    },
    {
     "data": {
      "text/plain": [
       "42.350571"
      ]
     },
     "metadata": {},
     "output_type": "display_data"
    },
    {
     "data": {
      "text/plain": [
       "'Scripps Networks Interactive'"
      ]
     },
     "metadata": {},
     "output_type": "display_data"
    },
    {
     "data": {
      "text/plain": [
       "37.09024"
      ]
     },
     "metadata": {},
     "output_type": "display_data"
    },
    {
     "data": {
      "text/plain": [
       "'Bazaarvoice'"
      ]
     },
     "metadata": {},
     "output_type": "display_data"
    },
    {
     "data": {
      "text/plain": [
       "30.407545"
      ]
     },
     "metadata": {},
     "output_type": "display_data"
    },
    {
     "data": {
      "text/plain": [
       "'Amazon'"
      ]
     },
     "metadata": {},
     "output_type": "display_data"
    },
    {
     "data": {
      "text/plain": [
       "47.5923"
      ]
     },
     "metadata": {},
     "output_type": "display_data"
    },
    {
     "data": {
      "text/plain": [
       "'GoFish'"
      ]
     },
     "metadata": {},
     "output_type": "display_data"
    },
    {
     "data": {
      "text/plain": [
       "37.09024"
      ]
     },
     "metadata": {},
     "output_type": "display_data"
    },
    {
     "data": {
      "text/plain": [
       "'OpenTable'"
      ]
     },
     "metadata": {},
     "output_type": "display_data"
    },
    {
     "data": {
      "text/plain": [
       "37.785647"
      ]
     },
     "metadata": {},
     "output_type": "display_data"
    },
    {
     "data": {
      "text/plain": [
       "'ChannelAdvisor'"
      ]
     },
     "metadata": {},
     "output_type": "display_data"
    },
    {
     "data": {
      "text/plain": [
       "35.854483"
      ]
     },
     "metadata": {},
     "output_type": "display_data"
    },
    {
     "data": {
      "text/plain": [
       "'Marchex'"
      ]
     },
     "metadata": {},
     "output_type": "display_data"
    },
    {
     "data": {
      "text/plain": [
       "47.611201"
      ]
     },
     "metadata": {},
     "output_type": "display_data"
    },
    {
     "data": {
      "text/plain": [
       "'Vringo'"
      ]
     },
     "metadata": {},
     "output_type": "display_data"
    },
    {
     "data": {
      "text/plain": [
       "40.7550005"
      ]
     },
     "metadata": {},
     "output_type": "display_data"
    },
    {
     "data": {
      "text/plain": [
       "'Blucora'"
      ]
     },
     "metadata": {},
     "output_type": "display_data"
    },
    {
     "data": {
      "text/plain": [
       "47.615611"
      ]
     },
     "metadata": {},
     "output_type": "display_data"
    },
    {
     "data": {
      "text/plain": [
       "'GeoSentric'"
      ]
     },
     "metadata": {},
     "output_type": "display_data"
    },
    {
     "data": {
      "text/plain": [
       "37.09024"
      ]
     },
     "metadata": {},
     "output_type": "display_data"
    },
    {
     "data": {
      "text/plain": [
       "'Splunk'"
      ]
     },
     "metadata": {},
     "output_type": "display_data"
    },
    {
     "data": {
      "text/plain": [
       "37.78274"
      ]
     },
     "metadata": {},
     "output_type": "display_data"
    },
    {
     "data": {
      "text/plain": [
       "'TripAdvisor'"
      ]
     },
     "metadata": {},
     "output_type": "display_data"
    },
    {
     "data": {
      "text/plain": [
       "42.312908"
      ]
     },
     "metadata": {},
     "output_type": "display_data"
    },
    {
     "data": {
      "text/plain": [
       "'NetApp'"
      ]
     },
     "metadata": {},
     "output_type": "display_data"
    },
    {
     "data": {
      "text/plain": [
       "37.09024"
      ]
     },
     "metadata": {},
     "output_type": "display_data"
    },
    {
     "data": {
      "text/plain": [
       "'XING'"
      ]
     },
     "metadata": {},
     "output_type": "display_data"
    },
    {
     "data": {
      "text/plain": [
       "53.555554"
      ]
     },
     "metadata": {},
     "output_type": "display_data"
    },
    {
     "data": {
      "text/plain": [
       "'comScore'"
      ]
     },
     "metadata": {},
     "output_type": "display_data"
    },
    {
     "data": {
      "text/plain": [
       "38.9579071"
      ]
     },
     "metadata": {},
     "output_type": "display_data"
    },
    {
     "data": {
      "text/plain": [
       "'Expedia'"
      ]
     },
     "metadata": {},
     "output_type": "display_data"
    },
    {
     "data": {
      "text/plain": [
       "47.58181"
      ]
     },
     "metadata": {},
     "output_type": "display_data"
    },
    {
     "data": {
      "text/plain": [
       "'Netflix'"
      ]
     },
     "metadata": {},
     "output_type": "display_data"
    },
    {
     "data": {
      "text/plain": [
       "37.25142"
      ]
     },
     "metadata": {},
     "output_type": "display_data"
    },
    {
     "data": {
      "text/plain": [
       "'ePals'"
      ]
     },
     "metadata": {},
     "output_type": "display_data"
    },
    {
     "data": {
      "text/plain": [
       "38.95424"
      ]
     },
     "metadata": {},
     "output_type": "display_data"
    },
    {
     "data": {
      "text/plain": [
       "'XO Group'"
      ]
     },
     "metadata": {},
     "output_type": "display_data"
    },
    {
     "data": {
      "text/plain": [
       "40.720824"
      ]
     },
     "metadata": {},
     "output_type": "display_data"
    },
    {
     "data": {
      "text/plain": [
       "'Cvent'"
      ]
     },
     "metadata": {},
     "output_type": "display_data"
    },
    {
     "data": {
      "text/plain": [
       "38.923453"
      ]
     },
     "metadata": {},
     "output_type": "display_data"
    },
    {
     "data": {
      "text/plain": [
       "'BroadSoft'"
      ]
     },
     "metadata": {},
     "output_type": "display_data"
    },
    {
     "data": {
      "text/plain": [
       "39.141511"
      ]
     },
     "metadata": {},
     "output_type": "display_data"
    },
    {
     "data": {
      "text/plain": [
       "'Higher One'"
      ]
     },
     "metadata": {},
     "output_type": "display_data"
    },
    {
     "data": {
      "text/plain": [
       "41.3239577"
      ]
     },
     "metadata": {},
     "output_type": "display_data"
    },
    {
     "data": {
      "text/plain": [
       "'Bango'"
      ]
     },
     "metadata": {},
     "output_type": "display_data"
    },
    {
     "data": {
      "text/plain": [
       "52.2155382"
      ]
     },
     "metadata": {},
     "output_type": "display_data"
    },
    {
     "data": {
      "text/plain": [
       "'Marketo'"
      ]
     },
     "metadata": {},
     "output_type": "display_data"
    },
    {
     "data": {
      "text/plain": [
       "37.5583"
      ]
     },
     "metadata": {},
     "output_type": "display_data"
    },
    {
     "data": {
      "text/plain": [
       "'WebMD'"
      ]
     },
     "metadata": {},
     "output_type": "display_data"
    },
    {
     "data": {
      "text/plain": [
       "40.7410886"
      ]
     },
     "metadata": {},
     "output_type": "display_data"
    },
    {
     "data": {
      "text/plain": [
       "'Absolute Software'"
      ]
     },
     "metadata": {},
     "output_type": "display_data"
    },
    {
     "data": {
      "text/plain": [
       "49.285941"
      ]
     },
     "metadata": {},
     "output_type": "display_data"
    },
    {
     "data": {
      "text/plain": [
       "\"Angie's List\""
      ]
     },
     "metadata": {},
     "output_type": "display_data"
    },
    {
     "data": {
      "text/plain": [
       "39.767289"
      ]
     },
     "metadata": {},
     "output_type": "display_data"
    },
    {
     "data": {
      "text/plain": [
       "'TigerLogic'"
      ]
     },
     "metadata": {},
     "output_type": "display_data"
    },
    {
     "data": {
      "text/plain": [
       "33.651624"
      ]
     },
     "metadata": {},
     "output_type": "display_data"
    },
    {
     "data": {
      "text/plain": [
       "'Infinera Corporation'"
      ]
     },
     "metadata": {},
     "output_type": "display_data"
    },
    {
     "data": {
      "text/plain": [
       "37.411877"
      ]
     },
     "metadata": {},
     "output_type": "display_data"
    },
    {
     "data": {
      "text/plain": [
       "'Blue Coat Systems'"
      ]
     },
     "metadata": {},
     "output_type": "display_data"
    },
    {
     "data": {
      "text/plain": [
       "37.390753"
      ]
     },
     "metadata": {},
     "output_type": "display_data"
    },
    {
     "data": {
      "text/plain": [
       "'Saba'"
      ]
     },
     "metadata": {},
     "output_type": "display_data"
    },
    {
     "data": {
      "text/plain": [
       "37.503055"
      ]
     },
     "metadata": {},
     "output_type": "display_data"
    },
    {
     "data": {
      "text/plain": [
       "'VMware'"
      ]
     },
     "metadata": {},
     "output_type": "display_data"
    },
    {
     "data": {
      "text/plain": [
       "37.403315"
      ]
     },
     "metadata": {},
     "output_type": "display_data"
    },
    {
     "data": {
      "text/plain": [
       "'GlobalSCAPE'"
      ]
     },
     "metadata": {},
     "output_type": "display_data"
    },
    {
     "data": {
      "text/plain": [
       "29.584017"
      ]
     },
     "metadata": {},
     "output_type": "display_data"
    },
    {
     "data": {
      "text/plain": [
       "'Vonage'"
      ]
     },
     "metadata": {},
     "output_type": "display_data"
    },
    {
     "data": {
      "text/plain": [
       "40.34537"
      ]
     },
     "metadata": {},
     "output_type": "display_data"
    },
    {
     "data": {
      "text/plain": [
       "'Epocrates'"
      ]
     },
     "metadata": {},
     "output_type": "display_data"
    },
    {
     "data": {
      "text/plain": [
       "37.544987"
      ]
     },
     "metadata": {},
     "output_type": "display_data"
    },
    {
     "data": {
      "text/plain": [
       "'ExactTarget'"
      ]
     },
     "metadata": {},
     "output_type": "display_data"
    },
    {
     "data": {
      "text/plain": [
       "39.7672093"
      ]
     },
     "metadata": {},
     "output_type": "display_data"
    },
    {
     "data": {
      "text/plain": [
       "'Endurance International'"
      ]
     },
     "metadata": {},
     "output_type": "display_data"
    },
    {
     "data": {
      "text/plain": [
       "42.4969894"
      ]
     },
     "metadata": {},
     "output_type": "display_data"
    },
    {
     "data": {
      "text/plain": [
       "'Clearwire'"
      ]
     },
     "metadata": {},
     "output_type": "display_data"
    },
    {
     "data": {
      "text/plain": [
       "30.6324797"
      ]
     },
     "metadata": {},
     "output_type": "display_data"
    },
    {
     "data": {
      "text/plain": [
       "'LogMeIn'"
      ]
     },
     "metadata": {},
     "output_type": "display_data"
    },
    {
     "data": {
      "text/plain": [
       "42.486535"
      ]
     },
     "metadata": {},
     "output_type": "display_data"
    },
    {
     "data": {
      "text/plain": [
       "'LoopNet'"
      ]
     },
     "metadata": {},
     "output_type": "display_data"
    },
    {
     "data": {
      "text/plain": [
       "37.7759421"
      ]
     },
     "metadata": {},
     "output_type": "display_data"
    },
    {
     "data": {
      "text/plain": [
       "'Tableau Software'"
      ]
     },
     "metadata": {},
     "output_type": "display_data"
    },
    {
     "data": {
      "text/plain": [
       "47.6504518"
      ]
     },
     "metadata": {},
     "output_type": "display_data"
    },
    {
     "data": {
      "text/plain": [
       "'SolarWinds'"
      ]
     },
     "metadata": {},
     "output_type": "display_data"
    },
    {
     "data": {
      "text/plain": [
       "30.245535"
      ]
     },
     "metadata": {},
     "output_type": "display_data"
    },
    {
     "data": {
      "text/plain": [
       "'Silver Spring Networks'"
      ]
     },
     "metadata": {},
     "output_type": "display_data"
    },
    {
     "data": {
      "text/plain": [
       "37.4858629"
      ]
     },
     "metadata": {},
     "output_type": "display_data"
    },
    {
     "data": {
      "text/plain": [
       "'Meru Networks'"
      ]
     },
     "metadata": {},
     "output_type": "display_data"
    },
    {
     "data": {
      "text/plain": [
       "37.400867"
      ]
     },
     "metadata": {},
     "output_type": "display_data"
    },
    {
     "data": {
      "text/plain": [
       "'DemandTec'"
      ]
     },
     "metadata": {},
     "output_type": "display_data"
    },
    {
     "data": {
      "text/plain": [
       "37.498842"
      ]
     },
     "metadata": {},
     "output_type": "display_data"
    },
    {
     "data": {
      "text/plain": [
       "'Glu Mobile'"
      ]
     },
     "metadata": {},
     "output_type": "display_data"
    },
    {
     "data": {
      "text/plain": [
       "37.7911371"
      ]
     },
     "metadata": {},
     "output_type": "display_data"
    },
    {
     "data": {
      "text/plain": [
       "'WANdisco'"
      ]
     },
     "metadata": {},
     "output_type": "display_data"
    },
    {
     "data": {
      "text/plain": [
       "37.769205"
      ]
     },
     "metadata": {},
     "output_type": "display_data"
    },
    {
     "data": {
      "text/plain": [
       "'Concur Technologies'"
      ]
     },
     "metadata": {},
     "output_type": "display_data"
    },
    {
     "data": {
      "text/plain": [
       "51.5200277"
      ]
     },
     "metadata": {},
     "output_type": "display_data"
    },
    {
     "data": {
      "text/plain": [
       "'inContact'"
      ]
     },
     "metadata": {},
     "output_type": "display_data"
    },
    {
     "data": {
      "text/plain": [
       "40.6110797"
      ]
     },
     "metadata": {},
     "output_type": "display_data"
    },
    {
     "data": {
      "text/plain": [
       "'Cornerstone OnDemand'"
      ]
     },
     "metadata": {},
     "output_type": "display_data"
    },
    {
     "data": {
      "text/plain": [
       "34.028182"
      ]
     },
     "metadata": {},
     "output_type": "display_data"
    },
    {
     "data": {
      "text/plain": [
       "'Perficient'"
      ]
     },
     "metadata": {},
     "output_type": "display_data"
    },
    {
     "data": {
      "text/plain": [
       "30.28113"
      ]
     },
     "metadata": {},
     "output_type": "display_data"
    },
    {
     "data": {
      "text/plain": [
       "'NeoPhotonics'"
      ]
     },
     "metadata": {},
     "output_type": "display_data"
    },
    {
     "data": {
      "text/plain": [
       "37.3961981"
      ]
     },
     "metadata": {},
     "output_type": "display_data"
    },
    {
     "data": {
      "text/plain": [
       "'CrowdGather'"
      ]
     },
     "metadata": {},
     "output_type": "display_data"
    },
    {
     "data": {
      "text/plain": [
       "34.168955"
      ]
     },
     "metadata": {},
     "output_type": "display_data"
    },
    {
     "data": {
      "text/plain": [
       "'Constellation Software'"
      ]
     },
     "metadata": {},
     "output_type": "display_data"
    },
    {
     "data": {
      "text/plain": [
       "43.670233"
      ]
     },
     "metadata": {},
     "output_type": "display_data"
    },
    {
     "data": {
      "text/plain": [
       "'Mobile TeleSystems OJSC'"
      ]
     },
     "metadata": {},
     "output_type": "display_data"
    },
    {
     "data": {
      "text/plain": [
       "55.755786"
      ]
     },
     "metadata": {},
     "output_type": "display_data"
    },
    {
     "data": {
      "text/plain": [
       "'Sitestar'"
      ]
     },
     "metadata": {},
     "output_type": "display_data"
    },
    {
     "data": {
      "text/plain": [
       "37.362749"
      ]
     },
     "metadata": {},
     "output_type": "display_data"
    }
   ],
   "source": [
    "#Filtramos por sectores y además por compañías que disponen de al menos una oficina con coordenadas válidas no nulas:\n",
    "\n",
    "categories = ['web', 'software', 'social', 'network_hosting', 'games_video', \n",
    "              'photo_video', 'mobile', 'search', 'ecommerce', 'consulting', 'nanotech']\n",
    "\n",
    "'''\n",
    "valid_coordinates = data.find({'$and': [\n",
    "    {'offices': {'$exists': True}}, \n",
    "    {'offices.0.latitude': {'$ne': None}}, \n",
    "    {'offices.0.longitude': {'$ne': None}},\n",
    "    {'category_code': {'$in': categories}}\n",
    "]})\n",
    "'''\n",
    "valid_coordinates = data.find({\n",
    "    'offices': {'$exists': True, '$ne': []}, \n",
    "    'offices.latitude': {'$ne': None}, \n",
    "    'offices.longitude': {'$ne': None},\n",
    "    'category_code': {'$in': categories},\n",
    "    'ipo': {'$ne': None},\n",
    "    'founded_year': {'$gte': 1990}\n",
    "    })\n",
    "\n",
    "\n",
    "display('valid_coordinates:', valid_coordinates.count())\n",
    "\n",
    "for i in list(valid_coordinates):\n",
    "    display(i['name'], i['offices'][0]['latitude'])\n",
    "\n"
   ]
  },
  {
   "cell_type": "code",
   "execution_count": 47,
   "metadata": {},
   "outputs": [
    {
     "name": "stderr",
     "output_type": "stream",
     "text": [
      "/usr/local/Cellar/ipython/7.4.0/libexec/vendor/lib/python3.7/site-packages/ipykernel_launcher.py:17: DeprecationWarning: count is deprecated. Use Collection.count_documents instead.\n"
     ]
    },
    {
     "data": {
      "text/plain": [
       "0"
      ]
     },
     "metadata": {},
     "output_type": "display_data"
    }
   ],
   "source": [
    "#Buscamos todas aquellas que no tienen IPO pero tienen price amount y su fecha de fundación es posterior a 1990\n",
    "categories = ['web', 'software', 'social', 'network_hosting', 'games_video', \n",
    "              'photo_video', 'mobile', 'search', 'ecommerce', 'consulting', 'nanotech']\n",
    "\n",
    "have_ipo = data.find({\n",
    "    '''\n",
    "    'offices': {'$exists': True}, \n",
    "    'offices.0.latitude': {'$ne': None}, \n",
    "    'offices.0.longitude': {'$ne': None},\n",
    "    '''\n",
    "\n",
    "    'category_code': {'$in': categories},\n",
    "    'ipo': {'$ne': None},\n",
    "    'founded_year': {'$gte': 1990}\n",
    "})\n",
    "                                   \n",
    "display(have_ipo.count())                                "
   ]
  },
  {
   "cell_type": "code",
   "execution_count": 59,
   "metadata": {},
   "outputs": [
    {
     "name": "stderr",
     "output_type": "stream",
     "text": [
      "/usr/local/Cellar/ipython/7.4.0/libexec/vendor/lib/python3.7/site-packages/ipykernel_launcher.py:12: DeprecationWarning: count is deprecated. Use Collection.count_documents instead.\n",
      "  if sys.path[0] == '':\n"
     ]
    },
    {
     "data": {
      "text/plain": [
       "256"
      ]
     },
     "metadata": {},
     "output_type": "display_data"
    },
    {
     "name": "stdout",
     "output_type": "stream",
     "text": [
      "47\n",
      "5299\n",
      "None\n",
      "1300\n",
      "None\n",
      "15000\n",
      "50\n",
      "13600\n",
      "60\n",
      "35\n",
      "110\n",
      "0\n",
      "3\n",
      "None\n",
      "None\n",
      "800\n",
      "8\n",
      "75\n",
      "26\n",
      "20\n",
      "0\n",
      "None\n",
      "4800\n",
      "28\n",
      "68\n",
      "None\n",
      "10\n",
      "None\n",
      "5\n",
      "600\n",
      "None\n",
      "None\n",
      "None\n",
      "None\n",
      "None\n",
      "None\n",
      "None\n",
      "800\n",
      "None\n",
      "70\n",
      "None\n",
      "264\n",
      "550\n",
      "300\n",
      "40\n",
      "None\n",
      "None\n",
      "None\n",
      "None\n",
      "None\n",
      "None\n",
      "0\n",
      "30\n",
      "None\n",
      "None\n",
      "3\n",
      "None\n",
      "0\n",
      "None\n",
      "None\n",
      "None\n",
      "None\n",
      "None\n",
      "None\n",
      "None\n",
      "500\n",
      "None\n",
      "350\n",
      "28\n",
      "60\n",
      "None\n",
      "None\n",
      "8000\n",
      "None\n",
      "200\n",
      "500\n",
      "None\n",
      "4400\n",
      "76\n",
      "10\n",
      "2000\n",
      "0\n",
      "150\n",
      "None\n",
      "1250\n",
      "18\n",
      "None\n",
      "None\n",
      "None\n",
      "None\n",
      "None\n",
      "80\n",
      "66\n",
      "14\n",
      "None\n",
      "10\n",
      "None\n",
      "None\n",
      "None\n",
      "800\n",
      "85\n",
      "None\n",
      "None\n",
      "29\n",
      "275\n",
      "None\n",
      "380\n",
      "210\n",
      "None\n",
      "70\n",
      "260\n",
      "None\n",
      "None\n",
      "85\n",
      "60\n",
      "300\n",
      "None\n",
      "10\n",
      "None\n",
      "None\n",
      "None\n",
      "None\n",
      "None\n",
      "120\n",
      "30\n",
      "None\n",
      "None\n",
      "2000\n",
      "974\n",
      "None\n",
      "None\n",
      "1400\n",
      "35\n",
      "600\n",
      "None\n",
      "500\n",
      "None\n",
      "13500\n",
      "5\n",
      "None\n",
      "None\n",
      "75\n",
      "None\n",
      "10\n",
      "45\n",
      "3\n",
      "None\n",
      "None\n",
      "26\n",
      "None\n",
      "None\n",
      "9\n",
      "25\n",
      "1500\n",
      "62\n",
      "5\n",
      "300\n",
      "45\n",
      "None\n",
      "None\n",
      "150\n",
      "23\n",
      "150\n",
      "None\n",
      "18\n",
      "None\n",
      "210\n",
      "None\n",
      "None\n",
      "18\n",
      "None\n",
      "210\n",
      "None\n",
      "None\n",
      "None\n",
      "None\n",
      "None\n",
      "None\n",
      "225\n",
      "None\n",
      "None\n",
      "None\n",
      "5\n",
      "None\n",
      "12\n",
      "None\n",
      "None\n",
      "9\n",
      "None\n",
      "None\n",
      "100\n",
      "None\n",
      "300\n",
      "50\n",
      "400\n",
      "160\n",
      "92\n",
      "354\n",
      "650\n",
      "None\n",
      "None\n",
      "None\n",
      "None\n",
      "None\n",
      "None\n",
      "175\n",
      "None\n",
      "None\n",
      "350\n",
      "None\n",
      "None\n",
      "144\n",
      "None\n",
      "None\n",
      "175\n",
      "1200\n",
      "300\n",
      "65\n",
      "120\n",
      "881\n",
      "None\n",
      "None\n",
      "800\n",
      "170\n",
      "20\n",
      "20\n",
      "None\n",
      "None\n",
      "80\n",
      "100\n",
      "None\n",
      "None\n",
      "None\n",
      "None\n",
      "9\n",
      "None\n",
      "None\n",
      "None\n",
      "None\n",
      "None\n",
      "None\n",
      "166\n",
      "None\n",
      "None\n",
      "None\n",
      "None\n",
      "None\n",
      "None\n",
      "None\n",
      "None\n",
      "None\n",
      "160\n",
      "207\n",
      "None\n",
      "None\n",
      "None\n"
     ]
    }
   ],
   "source": [
    "#No tienen IPO pero sí tiene acqusition.price_amount y su fecha de fundación es posterior a 1990\n",
    "\n",
    "have_ipo_or_acquisiton = data.find({\n",
    "    'offices': {'$exists': True, '$ne': []},\n",
    "    'offices.latitude': {'$ne': None}, \n",
    "    'offices.longitude': {'$ne': None},\n",
    "    'category_code': {'$in': categories},\n",
    "    '$or': [{'ipo': {'$ne': None}} , {'acquisition.price_amount': {'$ne': None}}],\n",
    "    'founded_year': {'$gte': 1990}\n",
    "})\n",
    "\n",
    "display(have_ipo_or_acquisiton.count()) \n",
    "\n",
    "for i in list(have_ipo_or_acquisiton):\n",
    "    print(i['number_of_employees'])"
   ]
  },
  {
   "cell_type": "code",
   "execution_count": 60,
   "metadata": {},
   "outputs": [
    {
     "data": {
      "text/html": [
       "<div>\n",
       "<style scoped>\n",
       "    .dataframe tbody tr th:only-of-type {\n",
       "        vertical-align: middle;\n",
       "    }\n",
       "\n",
       "    .dataframe tbody tr th {\n",
       "        vertical-align: top;\n",
       "    }\n",
       "\n",
       "    .dataframe thead th {\n",
       "        text-align: right;\n",
       "    }\n",
       "</style>\n",
       "<table border=\"1\" class=\"dataframe\">\n",
       "  <thead>\n",
       "    <tr style=\"text-align: right;\">\n",
       "      <th></th>\n",
       "    </tr>\n",
       "  </thead>\n",
       "  <tbody>\n",
       "  </tbody>\n",
       "</table>\n",
       "</div>"
      ],
      "text/plain": [
       "Empty DataFrame\n",
       "Columns: []\n",
       "Index: []"
      ]
     },
     "metadata": {},
     "output_type": "display_data"
    }
   ],
   "source": [
    "ipos_df = json_normalize(have_ipo)\n",
    "display(ipos_df)"
   ]
  },
  {
   "cell_type": "code",
   "execution_count": null,
   "metadata": {},
   "outputs": [],
   "source": []
  },
  {
   "cell_type": "code",
   "execution_count": null,
   "metadata": {},
   "outputs": [],
   "source": []
  }
 ],
 "metadata": {
  "kernelspec": {
   "display_name": "Python 3",
   "language": "python",
   "name": "python3"
  },
  "language_info": {
   "codemirror_mode": {
    "name": "ipython",
    "version": 3
   },
   "file_extension": ".py",
   "mimetype": "text/x-python",
   "name": "python",
   "nbconvert_exporter": "python",
   "pygments_lexer": "ipython3",
   "version": "3.7.3"
  }
 },
 "nbformat": 4,
 "nbformat_minor": 2
}
