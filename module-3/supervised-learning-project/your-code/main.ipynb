{
 "cells": [
  {
   "cell_type": "markdown",
   "metadata": {},
   "source": [
    "# Modelo para la predicción de precios de viviendas en Melbourne"
   ]
  },
  {
   "cell_type": "markdown",
   "metadata": {},
   "source": [
    "A partir de los datos de una serie de viviendas de Melbourne, con sus respectivos precios de venta, se va a tratar de elegir un modelo para la predicción del precio en función de las características del piso"
   ]
  },
  {
   "cell_type": "code",
   "execution_count": 1,
   "metadata": {},
   "outputs": [],
   "source": [
    "import pandas as pd\n",
    "import numpy as np\n",
    "from sklearn.decomposition import PCA\n",
    "import matplotlib.pyplot as plt\n",
    "import matplotlib\n",
    "import seaborn as sns\n",
    "from sklearn.preprocessing import RobustScaler\n",
    "from sklearn.tree import DecisionTreeRegressor\n",
    "from sklearn.ensemble import RandomForestRegressor, GradientBoostingRegressor\n",
    "from sklearn.linear_model import LinearRegression, Lasso, SGDRegressor\n",
    "from sklearn.kernel_ridge import KernelRidge\n",
    "from sklearn.model_selection import train_test_split\n",
    "from sklearn.svm import SVR\n",
    "from sklearn.metrics import mean_absolute_error\n",
    "%matplotlib inline\n",
    "pd.set_option('display.max_columns', 22)\n"
   ]
  },
  {
   "cell_type": "code",
   "execution_count": 2,
   "metadata": {},
   "outputs": [
    {
     "data": {
      "text/html": [
       "<div>\n",
       "<style scoped>\n",
       "    .dataframe tbody tr th:only-of-type {\n",
       "        vertical-align: middle;\n",
       "    }\n",
       "\n",
       "    .dataframe tbody tr th {\n",
       "        vertical-align: top;\n",
       "    }\n",
       "\n",
       "    .dataframe thead th {\n",
       "        text-align: right;\n",
       "    }\n",
       "</style>\n",
       "<table border=\"1\" class=\"dataframe\">\n",
       "  <thead>\n",
       "    <tr style=\"text-align: right;\">\n",
       "      <th></th>\n",
       "      <th>Unnamed: 0</th>\n",
       "      <th>Suburb</th>\n",
       "      <th>Address</th>\n",
       "      <th>Rooms</th>\n",
       "      <th>Type</th>\n",
       "      <th>Price</th>\n",
       "      <th>Method</th>\n",
       "      <th>SellerG</th>\n",
       "      <th>Date</th>\n",
       "      <th>Distance</th>\n",
       "      <th>Postcode</th>\n",
       "      <th>Bedroom2</th>\n",
       "      <th>Bathroom</th>\n",
       "      <th>Car</th>\n",
       "      <th>Landsize</th>\n",
       "      <th>BuildingArea</th>\n",
       "      <th>YearBuilt</th>\n",
       "      <th>CouncilArea</th>\n",
       "      <th>Lattitude</th>\n",
       "      <th>Longtitude</th>\n",
       "      <th>Regionname</th>\n",
       "      <th>Propertycount</th>\n",
       "    </tr>\n",
       "  </thead>\n",
       "  <tbody>\n",
       "    <tr>\n",
       "      <th>0</th>\n",
       "      <td>1</td>\n",
       "      <td>Abbotsford</td>\n",
       "      <td>85 Turner St</td>\n",
       "      <td>2</td>\n",
       "      <td>h</td>\n",
       "      <td>1480000.0</td>\n",
       "      <td>S</td>\n",
       "      <td>Biggin</td>\n",
       "      <td>3/12/2016</td>\n",
       "      <td>2.5</td>\n",
       "      <td>3067.0</td>\n",
       "      <td>2.0</td>\n",
       "      <td>1.0</td>\n",
       "      <td>1.0</td>\n",
       "      <td>202.0</td>\n",
       "      <td>NaN</td>\n",
       "      <td>NaN</td>\n",
       "      <td>Yarra</td>\n",
       "      <td>-37.7996</td>\n",
       "      <td>144.9984</td>\n",
       "      <td>Northern Metropolitan</td>\n",
       "      <td>4019.0</td>\n",
       "    </tr>\n",
       "    <tr>\n",
       "      <th>1</th>\n",
       "      <td>2</td>\n",
       "      <td>Abbotsford</td>\n",
       "      <td>25 Bloomburg St</td>\n",
       "      <td>2</td>\n",
       "      <td>h</td>\n",
       "      <td>1035000.0</td>\n",
       "      <td>S</td>\n",
       "      <td>Biggin</td>\n",
       "      <td>4/02/2016</td>\n",
       "      <td>2.5</td>\n",
       "      <td>3067.0</td>\n",
       "      <td>2.0</td>\n",
       "      <td>1.0</td>\n",
       "      <td>0.0</td>\n",
       "      <td>156.0</td>\n",
       "      <td>79.0</td>\n",
       "      <td>1900.0</td>\n",
       "      <td>Yarra</td>\n",
       "      <td>-37.8079</td>\n",
       "      <td>144.9934</td>\n",
       "      <td>Northern Metropolitan</td>\n",
       "      <td>4019.0</td>\n",
       "    </tr>\n",
       "    <tr>\n",
       "      <th>2</th>\n",
       "      <td>4</td>\n",
       "      <td>Abbotsford</td>\n",
       "      <td>5 Charles St</td>\n",
       "      <td>3</td>\n",
       "      <td>h</td>\n",
       "      <td>1465000.0</td>\n",
       "      <td>SP</td>\n",
       "      <td>Biggin</td>\n",
       "      <td>4/03/2017</td>\n",
       "      <td>2.5</td>\n",
       "      <td>3067.0</td>\n",
       "      <td>3.0</td>\n",
       "      <td>2.0</td>\n",
       "      <td>0.0</td>\n",
       "      <td>134.0</td>\n",
       "      <td>150.0</td>\n",
       "      <td>1900.0</td>\n",
       "      <td>Yarra</td>\n",
       "      <td>-37.8093</td>\n",
       "      <td>144.9944</td>\n",
       "      <td>Northern Metropolitan</td>\n",
       "      <td>4019.0</td>\n",
       "    </tr>\n",
       "    <tr>\n",
       "      <th>3</th>\n",
       "      <td>5</td>\n",
       "      <td>Abbotsford</td>\n",
       "      <td>40 Federation La</td>\n",
       "      <td>3</td>\n",
       "      <td>h</td>\n",
       "      <td>850000.0</td>\n",
       "      <td>PI</td>\n",
       "      <td>Biggin</td>\n",
       "      <td>4/03/2017</td>\n",
       "      <td>2.5</td>\n",
       "      <td>3067.0</td>\n",
       "      <td>3.0</td>\n",
       "      <td>2.0</td>\n",
       "      <td>1.0</td>\n",
       "      <td>94.0</td>\n",
       "      <td>NaN</td>\n",
       "      <td>NaN</td>\n",
       "      <td>Yarra</td>\n",
       "      <td>-37.7969</td>\n",
       "      <td>144.9969</td>\n",
       "      <td>Northern Metropolitan</td>\n",
       "      <td>4019.0</td>\n",
       "    </tr>\n",
       "    <tr>\n",
       "      <th>4</th>\n",
       "      <td>6</td>\n",
       "      <td>Abbotsford</td>\n",
       "      <td>55a Park St</td>\n",
       "      <td>4</td>\n",
       "      <td>h</td>\n",
       "      <td>1600000.0</td>\n",
       "      <td>VB</td>\n",
       "      <td>Nelson</td>\n",
       "      <td>4/06/2016</td>\n",
       "      <td>2.5</td>\n",
       "      <td>3067.0</td>\n",
       "      <td>3.0</td>\n",
       "      <td>1.0</td>\n",
       "      <td>2.0</td>\n",
       "      <td>120.0</td>\n",
       "      <td>142.0</td>\n",
       "      <td>2014.0</td>\n",
       "      <td>Yarra</td>\n",
       "      <td>-37.8072</td>\n",
       "      <td>144.9941</td>\n",
       "      <td>Northern Metropolitan</td>\n",
       "      <td>4019.0</td>\n",
       "    </tr>\n",
       "  </tbody>\n",
       "</table>\n",
       "</div>"
      ],
      "text/plain": [
       "   Unnamed: 0      Suburb           Address  Rooms Type      Price Method  \\\n",
       "0           1  Abbotsford      85 Turner St      2    h  1480000.0      S   \n",
       "1           2  Abbotsford   25 Bloomburg St      2    h  1035000.0      S   \n",
       "2           4  Abbotsford      5 Charles St      3    h  1465000.0     SP   \n",
       "3           5  Abbotsford  40 Federation La      3    h   850000.0     PI   \n",
       "4           6  Abbotsford       55a Park St      4    h  1600000.0     VB   \n",
       "\n",
       "  SellerG       Date  Distance  Postcode  Bedroom2  Bathroom  Car  Landsize  \\\n",
       "0  Biggin  3/12/2016       2.5    3067.0       2.0       1.0  1.0     202.0   \n",
       "1  Biggin  4/02/2016       2.5    3067.0       2.0       1.0  0.0     156.0   \n",
       "2  Biggin  4/03/2017       2.5    3067.0       3.0       2.0  0.0     134.0   \n",
       "3  Biggin  4/03/2017       2.5    3067.0       3.0       2.0  1.0      94.0   \n",
       "4  Nelson  4/06/2016       2.5    3067.0       3.0       1.0  2.0     120.0   \n",
       "\n",
       "   BuildingArea  YearBuilt CouncilArea  Lattitude  Longtitude  \\\n",
       "0           NaN        NaN       Yarra   -37.7996    144.9984   \n",
       "1          79.0     1900.0       Yarra   -37.8079    144.9934   \n",
       "2         150.0     1900.0       Yarra   -37.8093    144.9944   \n",
       "3           NaN        NaN       Yarra   -37.7969    144.9969   \n",
       "4         142.0     2014.0       Yarra   -37.8072    144.9941   \n",
       "\n",
       "              Regionname  Propertycount  \n",
       "0  Northern Metropolitan         4019.0  \n",
       "1  Northern Metropolitan         4019.0  \n",
       "2  Northern Metropolitan         4019.0  \n",
       "3  Northern Metropolitan         4019.0  \n",
       "4  Northern Metropolitan         4019.0  "
      ]
     },
     "metadata": {},
     "output_type": "display_data"
    }
   ],
   "source": [
    "melb_df = pd.read_csv('melb_data.csv')\n",
    "display(melb_df.head())"
   ]
  },
  {
   "cell_type": "code",
   "execution_count": 3,
   "metadata": {},
   "outputs": [
    {
     "data": {
      "text/plain": [
       "'All columns: '"
      ]
     },
     "metadata": {},
     "output_type": "display_data"
    },
    {
     "data": {
      "text/plain": [
       "Index(['Unnamed: 0', 'Suburb', 'Address', 'Rooms', 'Type', 'Price', 'Method',\n",
       "       'SellerG', 'Date', 'Distance', 'Postcode', 'Bedroom2', 'Bathroom',\n",
       "       'Car', 'Landsize', 'BuildingArea', 'YearBuilt', 'CouncilArea',\n",
       "       'Lattitude', 'Longtitude', 'Regionname', 'Propertycount'],\n",
       "      dtype='object')"
      ]
     },
     "metadata": {},
     "output_type": "display_data"
    },
    {
     "data": {
      "text/plain": [
       "'Numeric columns: '"
      ]
     },
     "metadata": {},
     "output_type": "display_data"
    },
    {
     "data": {
      "text/plain": [
       "Index(['Unnamed: 0', 'Rooms', 'Price', 'Distance', 'Postcode', 'Bedroom2',\n",
       "       'Bathroom', 'Car', 'Landsize', 'BuildingArea', 'YearBuilt', 'Lattitude',\n",
       "       'Longtitude', 'Propertycount'],\n",
       "      dtype='object')"
      ]
     },
     "metadata": {},
     "output_type": "display_data"
    }
   ],
   "source": [
    "display('All columns: ', melb_df.columns)\n",
    "display('Numeric columns: ', melb_df._get_numeric_data().columns)"
   ]
  },
  {
   "cell_type": "code",
   "execution_count": 4,
   "metadata": {},
   "outputs": [
    {
     "data": {
      "text/plain": [
       "(18396, 22)"
      ]
     },
     "metadata": {},
     "output_type": "display_data"
    },
    {
     "data": {
      "text/plain": [
       "BuildingArea     10634\n",
       "YearBuilt         9438\n",
       "CouncilArea       6163\n",
       "Landsize          4793\n",
       "Car               3576\n",
       "Bathroom          3471\n",
       "Bedroom2          3469\n",
       "Longtitude        3332\n",
       "Lattitude         3332\n",
       "Propertycount        1\n",
       "Distance             1\n",
       "Postcode             1\n",
       "Regionname           1\n",
       "Date                 0\n",
       "SellerG              0\n",
       "Method               0\n",
       "Price                0\n",
       "Type                 0\n",
       "Rooms                0\n",
       "Address              0\n",
       "Suburb               0\n",
       "Unnamed: 0           0\n",
       "dtype: int64"
      ]
     },
     "metadata": {},
     "output_type": "display_data"
    }
   ],
   "source": [
    "#Comprobamos el número de nulos por columna y comparamos con los datos totales\n",
    "display(melb_df.shape)\n",
    "display(melb_df.isnull().sum().sort_values(ascending = False))"
   ]
  },
  {
   "cell_type": "markdown",
   "metadata": {},
   "source": [
    "Comprobamos que para las columnas BuildingArea, YearBuilt y CouncilArea, el total de nulos es muy elevado con respecto al número total de registros, por lo que desestimamos esas columnas y eliminamos el resto de filas que contienen nulos. También se elimina la columna Unnamed: 0.\n",
    "\n",
    "A continuación comprobamos los registros que nos quedan:"
   ]
  },
  {
   "cell_type": "code",
   "execution_count": 5,
   "metadata": {},
   "outputs": [
    {
     "data": {
      "text/plain": [
       "(13518, 18)"
      ]
     },
     "metadata": {},
     "output_type": "display_data"
    },
    {
     "data": {
      "text/plain": [
       "Propertycount    0\n",
       "Regionname       0\n",
       "Address          0\n",
       "Rooms            0\n",
       "Type             0\n",
       "Price            0\n",
       "Method           0\n",
       "SellerG          0\n",
       "Date             0\n",
       "Distance         0\n",
       "Postcode         0\n",
       "Bedroom2         0\n",
       "Bathroom         0\n",
       "Car              0\n",
       "Landsize         0\n",
       "Lattitude        0\n",
       "Longtitude       0\n",
       "Suburb           0\n",
       "dtype: int64"
      ]
     },
     "metadata": {},
     "output_type": "display_data"
    }
   ],
   "source": [
    "melb_df.drop(['Unnamed: 0','BuildingArea', 'YearBuilt', 'CouncilArea'], axis = 1, inplace = True)\n",
    "melb_df.dropna(inplace = True)\n",
    "display(melb_df.shape)\n",
    "display(melb_df.isnull().sum().sort_values(ascending = False))"
   ]
  },
  {
   "cell_type": "code",
   "execution_count": 6,
   "metadata": {},
   "outputs": [
    {
     "data": {
      "text/plain": [
       "array(['Abbotsford', 'Airport West', 'Albert Park', 'Alphington',\n",
       "       'Altona', 'Altona North', 'Armadale', 'Ascot Vale', 'Ashburton',\n",
       "       'Ashwood', 'Avondale Heights', 'Balaclava', 'Balwyn',\n",
       "       'Balwyn North', 'Bentleigh', 'Bentleigh East', 'Box Hill',\n",
       "       'Braybrook', 'Brighton', 'Brighton East', 'Brunswick',\n",
       "       'Brunswick West', 'Bulleen', 'Burwood', 'Camberwell', 'Canterbury',\n",
       "       'Carlton North', 'Carnegie', 'Caulfield', 'Caulfield North',\n",
       "       'Caulfield South', 'Chadstone', 'Clifton Hill', 'Coburg',\n",
       "       'Coburg North', 'Collingwood', 'Doncaster', 'Eaglemont',\n",
       "       'Elsternwick', 'Elwood', 'Essendon', 'Essendon North', 'Fairfield',\n",
       "       'Fitzroy', 'Fitzroy North', 'Flemington', 'Footscray', 'Glen Iris',\n",
       "       'Glenroy', 'Gowanbrae', 'Hadfield', 'Hampton', 'Hampton East',\n",
       "       'Hawthorn', 'Heidelberg Heights', 'Heidelberg West', 'Hughesdale',\n",
       "       'Ivanhoe', 'Kealba', 'Keilor East', 'Kensington', 'Kew',\n",
       "       'Kew East', 'Kooyong', 'Maidstone', 'Malvern', 'Malvern East',\n",
       "       'Maribyrnong', 'Melbourne', 'Middle Park', 'Mont Albert',\n",
       "       'Moonee Ponds', 'Moorabbin', 'Newport', 'Niddrie',\n",
       "       'North Melbourne', 'Northcote', 'Oak Park', 'Oakleigh South',\n",
       "       'Parkville', 'Pascoe Vale', 'Port Melbourne', 'Prahran', 'Preston',\n",
       "       'Reservoir', 'Richmond', 'Rosanna', 'Seddon', 'South Melbourne',\n",
       "       'South Yarra', 'Southbank', 'Spotswood', 'St Kilda', 'Strathmore',\n",
       "       'Sunshine', 'Sunshine North', 'Sunshine West', 'Surrey Hills',\n",
       "       'Templestowe Lower', 'Thornbury', 'Toorak', 'Viewbank', 'Watsonia',\n",
       "       'West Melbourne', 'Williamstown', 'Williamstown North', 'Windsor',\n",
       "       'Yallambie', 'Yarraville', 'Aberfeldie', 'Bellfield',\n",
       "       'Brunswick East', 'Burnley', 'Campbellfield', 'Carlton',\n",
       "       'East Melbourne', 'Essendon West', 'Fawkner', 'Hawthorn East',\n",
       "       'Heidelberg', 'Ivanhoe East', 'Jacana', 'Kingsbury', 'Kingsville',\n",
       "       'Murrumbeena', 'Ormond', 'West Footscray', 'Albion', 'Brooklyn',\n",
       "       'Glen Huntly', 'Oakleigh', 'Ripponlea', 'Cremorne', 'Docklands',\n",
       "       'South Kingsville', 'Strathmore Heights', 'Travancore',\n",
       "       'Caulfield East', 'Seaholme', 'Keilor Park', 'Gardenvale',\n",
       "       'Princes Hill', 'Bayswater', 'Bayswater North', 'Beaumaris',\n",
       "       'Berwick', 'Boronia', 'Briar Hill', 'Broadmeadows', 'Bundoora',\n",
       "       'Burnside Heights', 'Burwood East', 'Cairnlea', 'Caroline Springs',\n",
       "       'Cheltenham', 'Craigieburn', 'Cranbourne', 'Croydon', 'Dandenong',\n",
       "       'Dandenong North', 'Diamond Creek', 'Dingley Village',\n",
       "       'Doncaster East', 'Donvale', 'Doreen', 'Eltham', 'Epping',\n",
       "       'Forest Hill', 'Frankston', 'Frankston North', 'Frankston South',\n",
       "       'Gisborne', 'Gladstone Park', 'Greensborough', 'Hallam',\n",
       "       'Healesville', 'Highett', 'Hillside', 'Huntingdale',\n",
       "       'Keilor Downs', 'Keilor Lodge', 'Keysborough', 'Kings Park',\n",
       "       'Lalor', 'Lower Plenty', 'Melton', 'Mernda', 'Mill Park',\n",
       "       'Mitcham', 'Montmorency', 'Mordialloc', 'Mount Waverley',\n",
       "       'Narre Warren', 'Nunawading', 'Oakleigh East', 'Parkdale',\n",
       "       'Point Cook', 'Ringwood East', 'Rockbank', 'Rowville',\n",
       "       'Sandringham', 'Seaford', 'Skye', 'South Morang', 'Springvale',\n",
       "       'St Albans', 'Sunbury', 'Tarneit', 'Taylors Hill', 'Taylors Lakes',\n",
       "       'The Basin', 'Thomastown', 'Truganina', 'Tullamarine', 'Vermont',\n",
       "       'Wantirna', 'Wantirna South', 'Werribee', 'Westmeadows',\n",
       "       'Williams Landing', 'Wollert', 'Wyndham Vale', 'Black Rock',\n",
       "       'Blackburn', 'Blackburn North', 'Bonbeach', 'Carrum', 'Chelsea',\n",
       "       'Clayton', 'Doveton', 'Ferntree Gully', 'Glen Waverley',\n",
       "       'Greenvale', 'Heathmont', 'Hoppers Crossing', 'McKinnon',\n",
       "       'Melton South', 'Melton West', 'Mentone', 'Mooroolbark',\n",
       "       'Mulgrave', 'Ringwood', 'Roxburgh Park', 'Seabrook', 'Templestowe',\n",
       "       'Vermont South', 'Warrandyte', 'Watsonia North', 'Wheelers Hill',\n",
       "       'Altona Meadows', 'Blackburn South', 'Carrum Downs',\n",
       "       'Clayton South', 'Croydon North', 'Langwarrin', 'Noble Park',\n",
       "       'Notting Hill', 'Ringwood North', 'Sydenham', 'Albanvale',\n",
       "       'Beaconsfield Upper', 'Chelsea Heights', 'Dallas', 'Deer Park',\n",
       "       'Eltham North', 'Keilor', 'Meadow Heights', 'Mount Evelyn',\n",
       "       'North Warrandyte', 'Pakenham', 'Riddells Creek', 'Sandhurst',\n",
       "       'Scoresby', 'Silvan', 'Aspendale', 'Chirnside Park',\n",
       "       'Croydon Hills', 'Croydon South', 'Derrimut', 'Diggers Rest',\n",
       "       'Edithvale', 'Hampton Park', 'Knoxfield', 'St Helena', 'Upwey',\n",
       "       'Bacchus Marsh', 'Coolaroo', 'Cranbourne North', 'Kilsyth',\n",
       "       'Montrose', 'Aspendale Gardens', 'Bullengarook', 'Clarinda',\n",
       "       'Deepdene', 'Delahey', 'Hurstbridge', 'Kurunjang', 'Wonga Park',\n",
       "       'Endeavour Hills', 'Officer', 'Waterways', 'Ardeer',\n",
       "       'Beaconsfield', 'Springvale South', 'Yarra Glen', 'Brookfield',\n",
       "       'Emerald', 'Whittlesea', 'Burnside', 'Attwood', 'Wallan',\n",
       "       'New Gisborne', 'Plumpton', 'Monbulk'], dtype=object)"
      ]
     },
     "metadata": {},
     "output_type": "display_data"
    },
    {
     "data": {
      "text/plain": [
       "array(['h', 'u', 't'], dtype=object)"
      ]
     },
     "metadata": {},
     "output_type": "display_data"
    },
    {
     "data": {
      "text/plain": [
       "array(['S', 'SP', 'PI', 'VB', 'SA'], dtype=object)"
      ]
     },
     "metadata": {},
     "output_type": "display_data"
    },
    {
     "data": {
      "text/plain": [
       "array([3067., 3042., 3206., 3078., 3018., 3025., 3143., 3032., 3147.,\n",
       "       3034., 3183., 3103., 3104., 3204., 3165., 3128., 3019., 3186.,\n",
       "       3187., 3056., 3055., 3105., 3125., 3124., 3126., 3054., 3163.,\n",
       "       3162., 3161., 3148., 3068., 3058., 3066., 3108., 3084., 3185.,\n",
       "       3184., 3040., 3041., 3065., 3031., 3011., 3146., 3046., 3043.,\n",
       "       3188., 3122., 3081., 3166., 3079., 3021., 3033., 3101., 3102.,\n",
       "       3144., 3012., 3145., 3000., 3127., 3039., 3189., 3015., 3051.,\n",
       "       3070., 3167., 3052., 3044., 3207., 3181., 3072., 3073., 3121.,\n",
       "       3205., 3141., 3006., 3182., 3020., 3107., 3071., 3142., 3087.,\n",
       "       3003., 3016., 3085., 3013., 3057., 3061., 3053., 3002., 3060.,\n",
       "       3123., 3047., 3083., 3008., 3153., 3193., 3806., 3155., 3088.,\n",
       "       3023., 3151., 3192., 3064., 3977., 3136., 3175., 3089., 3172.,\n",
       "       3109., 3111., 3754., 3095., 3076., 3131., 3199., 3200., 3437.,\n",
       "       3803., 3777., 3190., 3037., 3038., 3173., 3075., 3093., 3337.,\n",
       "       3082., 3132., 3094., 3195., 3149., 3805., 3030., 3135., 3335.,\n",
       "       3178., 3191., 3198., 3752., 3171., 3429., 3029., 3154., 3074.,\n",
       "       3133., 3152., 3049., 3027., 3750., 3024., 3130., 3196., 3197.,\n",
       "       3168., 3177., 3156., 3150., 3059., 3338., 3194., 3138., 3170.,\n",
       "       3134., 3028., 3106., 3113., 3201., 3169., 3910., 3174., 3808.,\n",
       "       3036., 3048., 3796., 3810., 3431., 3179., 3795., 3116., 3427.,\n",
       "       3976., 3180., 3158., 3340., 3137., 3765., 3099., 3115., 3802.,\n",
       "       3809., 3022., 3807., 3775., 3782., 3757., 3756., 3438., 3793.])"
      ]
     },
     "metadata": {},
     "output_type": "display_data"
    },
    {
     "data": {
      "text/plain": [
       "array(['Northern Metropolitan', 'Western Metropolitan',\n",
       "       'Southern Metropolitan', 'Eastern Metropolitan',\n",
       "       'South-Eastern Metropolitan', 'Eastern Victoria',\n",
       "       'Northern Victoria', 'Western Victoria'], dtype=object)"
      ]
     },
     "metadata": {},
     "output_type": "display_data"
    }
   ],
   "source": [
    "display(melb_df.Suburb.unique())\n",
    "display(melb_df.Type.unique())\n",
    "display(melb_df.Method.unique())\n",
    "display(melb_df.Postcode.unique())\n",
    "display(melb_df.Regionname.unique())"
   ]
  },
  {
   "cell_type": "markdown",
   "metadata": {},
   "source": [
    "Comprobamos que hay un número elevado de suburbios y de códigos postales, pero el número de tipos (Type), nombre de región y métodos (method) es más reducido, por lo que consideramos generar columnas dummies para estos campos.\n",
    "\n",
    "A continuación pasamos a seleccionar las columnas que más nos interesan:"
   ]
  },
  {
   "cell_type": "code",
   "execution_count": 7,
   "metadata": {},
   "outputs": [],
   "source": [
    "selected_columns = ['Rooms', 'Type', 'Price', 'Method', 'Bedroom2', 'Bathroom', 'Car',\n",
    "       'Landsize', 'Lattitude', 'Longtitude', 'Regionname']\n",
    "melb_df = melb_df[selected_columns]"
   ]
  },
  {
   "cell_type": "code",
   "execution_count": 8,
   "metadata": {},
   "outputs": [
    {
     "data": {
      "text/html": [
       "<div>\n",
       "<style scoped>\n",
       "    .dataframe tbody tr th:only-of-type {\n",
       "        vertical-align: middle;\n",
       "    }\n",
       "\n",
       "    .dataframe tbody tr th {\n",
       "        vertical-align: top;\n",
       "    }\n",
       "\n",
       "    .dataframe thead th {\n",
       "        text-align: right;\n",
       "    }\n",
       "</style>\n",
       "<table border=\"1\" class=\"dataframe\">\n",
       "  <thead>\n",
       "    <tr style=\"text-align: right;\">\n",
       "      <th></th>\n",
       "      <th>Rooms</th>\n",
       "      <th>Type</th>\n",
       "      <th>Price</th>\n",
       "      <th>Method</th>\n",
       "      <th>Bedroom2</th>\n",
       "      <th>Bathroom</th>\n",
       "      <th>Car</th>\n",
       "      <th>Landsize</th>\n",
       "      <th>Lattitude</th>\n",
       "      <th>Longtitude</th>\n",
       "      <th>Regionname</th>\n",
       "    </tr>\n",
       "  </thead>\n",
       "  <tbody>\n",
       "    <tr>\n",
       "      <th>0</th>\n",
       "      <td>2</td>\n",
       "      <td>h</td>\n",
       "      <td>1480000.0</td>\n",
       "      <td>S</td>\n",
       "      <td>2.0</td>\n",
       "      <td>1.0</td>\n",
       "      <td>1.0</td>\n",
       "      <td>202.0</td>\n",
       "      <td>-37.7996</td>\n",
       "      <td>144.9984</td>\n",
       "      <td>Northern Metropolitan</td>\n",
       "    </tr>\n",
       "    <tr>\n",
       "      <th>1</th>\n",
       "      <td>2</td>\n",
       "      <td>h</td>\n",
       "      <td>1035000.0</td>\n",
       "      <td>S</td>\n",
       "      <td>2.0</td>\n",
       "      <td>1.0</td>\n",
       "      <td>0.0</td>\n",
       "      <td>156.0</td>\n",
       "      <td>-37.8079</td>\n",
       "      <td>144.9934</td>\n",
       "      <td>Northern Metropolitan</td>\n",
       "    </tr>\n",
       "    <tr>\n",
       "      <th>2</th>\n",
       "      <td>3</td>\n",
       "      <td>h</td>\n",
       "      <td>1465000.0</td>\n",
       "      <td>SP</td>\n",
       "      <td>3.0</td>\n",
       "      <td>2.0</td>\n",
       "      <td>0.0</td>\n",
       "      <td>134.0</td>\n",
       "      <td>-37.8093</td>\n",
       "      <td>144.9944</td>\n",
       "      <td>Northern Metropolitan</td>\n",
       "    </tr>\n",
       "    <tr>\n",
       "      <th>3</th>\n",
       "      <td>3</td>\n",
       "      <td>h</td>\n",
       "      <td>850000.0</td>\n",
       "      <td>PI</td>\n",
       "      <td>3.0</td>\n",
       "      <td>2.0</td>\n",
       "      <td>1.0</td>\n",
       "      <td>94.0</td>\n",
       "      <td>-37.7969</td>\n",
       "      <td>144.9969</td>\n",
       "      <td>Northern Metropolitan</td>\n",
       "    </tr>\n",
       "    <tr>\n",
       "      <th>4</th>\n",
       "      <td>4</td>\n",
       "      <td>h</td>\n",
       "      <td>1600000.0</td>\n",
       "      <td>VB</td>\n",
       "      <td>3.0</td>\n",
       "      <td>1.0</td>\n",
       "      <td>2.0</td>\n",
       "      <td>120.0</td>\n",
       "      <td>-37.8072</td>\n",
       "      <td>144.9941</td>\n",
       "      <td>Northern Metropolitan</td>\n",
       "    </tr>\n",
       "  </tbody>\n",
       "</table>\n",
       "</div>"
      ],
      "text/plain": [
       "   Rooms Type      Price Method  Bedroom2  Bathroom  Car  Landsize  Lattitude  \\\n",
       "0      2    h  1480000.0      S       2.0       1.0  1.0     202.0   -37.7996   \n",
       "1      2    h  1035000.0      S       2.0       1.0  0.0     156.0   -37.8079   \n",
       "2      3    h  1465000.0     SP       3.0       2.0  0.0     134.0   -37.8093   \n",
       "3      3    h   850000.0     PI       3.0       2.0  1.0      94.0   -37.7969   \n",
       "4      4    h  1600000.0     VB       3.0       1.0  2.0     120.0   -37.8072   \n",
       "\n",
       "   Longtitude             Regionname  \n",
       "0    144.9984  Northern Metropolitan  \n",
       "1    144.9934  Northern Metropolitan  \n",
       "2    144.9944  Northern Metropolitan  \n",
       "3    144.9969  Northern Metropolitan  \n",
       "4    144.9941  Northern Metropolitan  "
      ]
     },
     "execution_count": 8,
     "metadata": {},
     "output_type": "execute_result"
    }
   ],
   "source": [
    "melb_df.head()"
   ]
  },
  {
   "cell_type": "code",
   "execution_count": 9,
   "metadata": {},
   "outputs": [],
   "source": [
    "melb_df = pd.get_dummies(melb_df, columns = ['Type', 'Method', 'Regionname'], drop_first=True)"
   ]
  },
  {
   "cell_type": "markdown",
   "metadata": {},
   "source": [
    "Una vez que tenemos los datos limpios, con todos los campos en estado numérico, seleccionamos las features y el target, que será el precio del piso."
   ]
  },
  {
   "cell_type": "code",
   "execution_count": 10,
   "metadata": {},
   "outputs": [],
   "source": [
    "X = melb_df.drop('Price', axis = 1)\n",
    "y = melb_df.Price"
   ]
  },
  {
   "cell_type": "code",
   "execution_count": 11,
   "metadata": {},
   "outputs": [],
   "source": [
    "robust_scaler = RobustScaler()\n",
    "X_scaled = robust_scaler.fit(X).transform(X)"
   ]
  },
  {
   "cell_type": "code",
   "execution_count": 12,
   "metadata": {},
   "outputs": [],
   "source": [
    "train_X, val_X, train_y, val_y = train_test_split(X_scaled, y, test_size=0.2)"
   ]
  },
  {
   "cell_type": "code",
   "execution_count": 17,
   "metadata": {},
   "outputs": [],
   "source": [
    "def rmse_cv(model, X, y, valX, valy):\n",
    "    modelfit = model.fit(X, y)\n",
    "    predictions = modelfit.predict(valX)\n",
    "    error = mean_absolute_error(predictions, valy)/np.mean(valy)*100\n",
    "    return [modelfit.score(valX, valy), error]"
   ]
  },
  {
   "cell_type": "code",
   "execution_count": 18,
   "metadata": {},
   "outputs": [
    {
     "name": "stdout",
     "output_type": "stream",
     "text": [
      "Error medio absoluto/precio medio de las viviendas: 21.00\n",
      "Score obtenido por el modelo DT: 0.662430\n"
     ]
    },
    {
     "name": "stderr",
     "output_type": "stream",
     "text": [
      "/usr/local/lib/python3.7/site-packages/sklearn/ensemble/forest.py:246: FutureWarning: The default value of n_estimators will change from 10 in version 0.20 to 100 in 0.22.\n",
      "  \"10 in version 0.20 to 100 in 0.22.\", FutureWarning)\n"
     ]
    },
    {
     "name": "stdout",
     "output_type": "stream",
     "text": [
      "Error medio absoluto/precio medio de las viviendas: 16.55\n",
      "Score obtenido por el modelo RF: 0.799509\n",
      "Error medio absoluto/precio medio de las viviendas: 29.05\n",
      "Score obtenido por el modelo LR: 0.521594\n",
      "Error medio absoluto/precio medio de las viviendas: 29.05\n",
      "Score obtenido por el modelo Lasso: 0.521594\n"
     ]
    },
    {
     "name": "stderr",
     "output_type": "stream",
     "text": [
      "/usr/local/lib/python3.7/site-packages/sklearn/linear_model/stochastic_gradient.py:183: FutureWarning: max_iter and tol parameters have been added in SGDRegressor in 0.19. If max_iter is set but tol is left unset, the default value for tol in 0.19 and 0.20 will be None (which is equivalent to -infinity, so it has no effect) but will change in 0.21 to 1e-3. Specify tol to silence this warning.\n",
      "  FutureWarning)\n"
     ]
    },
    {
     "name": "stdout",
     "output_type": "stream",
     "text": [
      "Error medio absoluto/precio medio de las viviendas: 114.14\n",
      "Score obtenido por el modelo SGDR: -9.729958\n",
      "Error medio absoluto/precio medio de las viviendas: 22.64\n",
      "Score obtenido por el modelo KR: 0.635203\n"
     ]
    }
   ],
   "source": [
    "models = [DecisionTreeRegressor(), RandomForestRegressor(),\n",
    "          LinearRegression(), Lasso(alpha=0.01,max_iter=10000),\n",
    "          SGDRegressor(max_iter=1000),\n",
    "          KernelRidge(alpha=0.6,kernel='polynomial',degree = 2,coef0=2.5),\n",
    "          ]\n",
    "names = ['DT','RF', 'LR', 'Lasso', 'SGDR','KR']\n",
    "for model,name in zip(models,names):\n",
    "    score = rmse_cv(model,train_X, train_y, val_X, val_y)\n",
    "    print(\"Error medio absoluto/precio medio de las viviendas: {:.2f}\".format(score[1]))\n",
    "    print(\"Score obtenido por el modelo {}: {:.6f}\".format(name,score[0]))"
   ]
  },
  {
   "cell_type": "markdown",
   "metadata": {},
   "source": [
    "Dado que conseguimos el mejor resultado para el Random Forest, tratamos de refinar el modelo probando distintos parámetros:"
   ]
  },
  {
   "cell_type": "code",
   "execution_count": 29,
   "metadata": {},
   "outputs": [],
   "source": [
    "n_estimators_list = [10, 100, 300, 500, 1000]\n",
    "max_depth_list = [2, 5, 10, 20]\n",
    "min_samples_split_list = [2, 5, 10, 20]"
   ]
  },
  {
   "cell_type": "code",
   "execution_count": 28,
   "metadata": {},
   "outputs": [
    {
     "name": "stdout",
     "output_type": "stream",
     "text": [
      "Error medio absoluto/precio medio de las viviendas: 32.98\n",
      "Score obtenido por el modelo RF: 0.377239\n",
      "n_estimators:  10 max_depth:  2 \n",
      "\n",
      "Error medio absoluto/precio medio de las viviendas: 23.70\n",
      "Score obtenido por el modelo RF: 0.636092\n",
      "n_estimators:  10 max_depth:  5 \n",
      "\n",
      "Error medio absoluto/precio medio de las viviendas: 17.94\n",
      "Score obtenido por el modelo RF: 0.761888\n",
      "n_estimators:  10 max_depth:  10 \n",
      "\n",
      "Error medio absoluto/precio medio de las viviendas: 16.59\n",
      "Score obtenido por el modelo RF: 0.792813\n",
      "n_estimators:  10 max_depth:  20 \n",
      "\n",
      "Error medio absoluto/precio medio de las viviendas: 32.80\n",
      "Score obtenido por el modelo RF: 0.384062\n",
      "n_estimators:  100 max_depth:  2 \n",
      "\n",
      "Error medio absoluto/precio medio de las viviendas: 23.48\n",
      "Score obtenido por el modelo RF: 0.643784\n",
      "n_estimators:  100 max_depth:  5 \n",
      "\n",
      "Error medio absoluto/precio medio de las viviendas: 17.44\n",
      "Score obtenido por el modelo RF: 0.783292\n",
      "n_estimators:  100 max_depth:  10 \n",
      "\n",
      "Error medio absoluto/precio medio de las viviendas: 15.82\n",
      "Score obtenido por el modelo RF: 0.815577\n",
      "n_estimators:  100 max_depth:  20 \n",
      "\n",
      "Error medio absoluto/precio medio de las viviendas: 32.68\n",
      "Score obtenido por el modelo RF: 0.387804\n",
      "n_estimators:  300 max_depth:  2 \n",
      "\n",
      "Error medio absoluto/precio medio de las viviendas: 23.46\n",
      "Score obtenido por el modelo RF: 0.642948\n",
      "n_estimators:  300 max_depth:  5 \n",
      "\n",
      "Error medio absoluto/precio medio de las viviendas: 17.51\n",
      "Score obtenido por el modelo RF: 0.780578\n",
      "n_estimators:  300 max_depth:  10 \n",
      "\n",
      "Error medio absoluto/precio medio de las viviendas: 15.81\n",
      "Score obtenido por el modelo RF: 0.814193\n",
      "n_estimators:  300 max_depth:  20 \n",
      "\n",
      "Error medio absoluto/precio medio de las viviendas: 32.79\n",
      "Score obtenido por el modelo RF: 0.384462\n",
      "n_estimators:  500 max_depth:  2 \n",
      "\n",
      "Error medio absoluto/precio medio de las viviendas: 23.47\n",
      "Score obtenido por el modelo RF: 0.642318\n",
      "n_estimators:  500 max_depth:  5 \n",
      "\n",
      "Error medio absoluto/precio medio de las viviendas: 17.47\n",
      "Score obtenido por el modelo RF: 0.780301\n",
      "n_estimators:  500 max_depth:  10 \n",
      "\n",
      "Error medio absoluto/precio medio de las viviendas: 15.78\n",
      "Score obtenido por el modelo RF: 0.816351\n",
      "n_estimators:  500 max_depth:  20 \n",
      "\n",
      "Error medio absoluto/precio medio de las viviendas: 32.85\n",
      "Score obtenido por el modelo RF: 0.382597\n",
      "n_estimators:  1000 max_depth:  2 \n",
      "\n",
      "Error medio absoluto/precio medio de las viviendas: 23.48\n",
      "Score obtenido por el modelo RF: 0.642514\n",
      "n_estimators:  1000 max_depth:  5 \n",
      "\n",
      "Error medio absoluto/precio medio de las viviendas: 17.45\n",
      "Score obtenido por el modelo RF: 0.781049\n",
      "n_estimators:  1000 max_depth:  10 \n",
      "\n",
      "Error medio absoluto/precio medio de las viviendas: 15.80\n",
      "Score obtenido por el modelo RF: 0.814284\n",
      "n_estimators:  1000 max_depth:  20 \n",
      "\n"
     ]
    }
   ],
   "source": [
    "for est in n_estimators_list:\n",
    "    for depth in max_depth_list:\n",
    "        score = rmse_cv(RandomForestRegressor(n_estimators = est, max_depth = depth),train_X, train_y, val_X, val_y)\n",
    "        print(\"Error medio absoluto/precio medio de las viviendas: {:.2f}\".format(score[1]))\n",
    "        print(\"Score obtenido por el modelo RF: {:.6f}\".format(score[0]))\n",
    "        print(\"n_estimators: \", est, \"max_depth: \", depth, \"\\n\")"
   ]
  },
  {
   "cell_type": "markdown",
   "metadata": {},
   "source": [
    "Se obtiene el mejor resultado para los valores n_estimators:  300, max_depth:  20, teniendo en cuenta el rendimiento (mayor velocidad de proceso que el último resultado). Cogemos estos parámetros y estudiamos el mejor valor de min_samples_split:"
   ]
  },
  {
   "cell_type": "code",
   "execution_count": 31,
   "metadata": {},
   "outputs": [
    {
     "name": "stdout",
     "output_type": "stream",
     "text": [
      "Error medio absoluto/precio medio de las viviendas: 15.85\n",
      "Score obtenido por el modelo RF: 0.814157\n",
      "n_estimators:  1000 max_depth:  20 \n",
      "\n",
      "Error medio absoluto/precio medio de las viviendas: 15.83\n",
      "Score obtenido por el modelo RF: 0.813843\n",
      "n_estimators:  1000 max_depth:  20 \n",
      "\n",
      "Error medio absoluto/precio medio de las viviendas: 15.98\n",
      "Score obtenido por el modelo RF: 0.810021\n",
      "n_estimators:  1000 max_depth:  20 \n",
      "\n",
      "Error medio absoluto/precio medio de las viviendas: 16.32\n",
      "Score obtenido por el modelo RF: 0.801642\n",
      "n_estimators:  1000 max_depth:  20 \n",
      "\n"
     ]
    }
   ],
   "source": [
    "for min_s in min_samples_split:\n",
    "    score = rmse_cv(RandomForestRegressor(n_estimators = 300, max_depth = 20, min_samples_split = min_s),train_X, train_y, val_X, val_y)\n",
    "    print(\"Error medio absoluto/precio medio de las viviendas: {:.2f}\".format(score[1]))\n",
    "    print(\"Score obtenido por el modelo RF: {:.6f}\".format(score[0]))\n",
    "    print(\"n_estimators: \", est, \"max_depth: \", depth, \"\\n\")"
   ]
  },
  {
   "cell_type": "markdown",
   "metadata": {},
   "source": [
    "Se comprueba que el valor del score empeora según se aumenta el tamaño mínimo de la muestra, por lo que nos quedamos con el primer valor."
   ]
  },
  {
   "cell_type": "code",
   "execution_count": null,
   "metadata": {},
   "outputs": [],
   "source": []
  }
 ],
 "metadata": {
  "kernelspec": {
   "display_name": "Python 3",
   "language": "python",
   "name": "python3"
  },
  "language_info": {
   "codemirror_mode": {
    "name": "ipython",
    "version": 3
   },
   "file_extension": ".py",
   "mimetype": "text/x-python",
   "name": "python",
   "nbconvert_exporter": "python",
   "pygments_lexer": "ipython3",
   "version": "3.7.3"
  }
 },
 "nbformat": 4,
 "nbformat_minor": 2
}
